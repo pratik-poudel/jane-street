{
  "nbformat": 4,
  "nbformat_minor": 0,
  "metadata": {
    "colab": {
      "name": "scratchpad",
      "provenance": [],
      "machine_shape": "hm",
      "include_colab_link": true
    },
    "kernelspec": {
      "display_name": "Python 3",
      "name": "python3"
    }
  },
  "cells": [
    {
      "cell_type": "markdown",
      "metadata": {
        "id": "view-in-github",
        "colab_type": "text"
      },
      "source": [
        "<a href=\"https://colab.research.google.com/github/pratik-poudel/jane-street/blob/main/5%20Feature%20Feature%20Feature.ipynb\" target=\"_parent\"><img src=\"https://colab.research.google.com/assets/colab-badge.svg\" alt=\"Open In Colab\"/></a>"
      ]
    },
    {
      "cell_type": "code",
      "metadata": {
        "colab": {
          "base_uri": "https://localhost:8080/"
        },
        "id": "lIYdn1woOS1n",
        "outputId": "35ff5a3e-3e4c-4e0d-ae97-8f124f15240e"
      },
      "source": [
        "!mkdir -p ~/.kaggle\n",
        "!cp kaggle.json ~/.kaggle/\n",
        "!chmod 600 ~/.kaggle/kaggle.json\n",
        "!kaggle datasets download gdonchyts/jane-street-market-prediction-parquet -f train.parquet\n",
        "import zipfile\n",
        "zip_ref = zipfile.ZipFile('/content/train.parquet.zip', 'r')\n",
        "zip_ref.extractall('files')\n",
        "zip_ref.close()"
      ],
      "execution_count": null,
      "outputs": [
        {
          "output_type": "stream",
          "text": [
            "Downloading train.parquet.zip to /content\n",
            " 99% 1.06G/1.08G [00:09<00:00, 76.8MB/s]\n",
            "100% 1.08G/1.08G [00:09<00:00, 116MB/s] \n"
          ],
          "name": "stdout"
        }
      ]
    },
    {
      "cell_type": "code",
      "metadata": {
        "id": "3Hn5MKCH_EWD"
      },
      "source": [
        "import numpy as np\n",
        "import pandas as pd\n",
        "from collections import defaultdict\n",
        "from tqdm.notebook import tqdm\n",
        "from matplotlib import pyplot as plt\n",
        "import warnings\n",
        "warnings.filterwarnings('ignore')\n",
        "import seaborn as sns\n",
        "import gc\n",
        "# pd.options.display.float_format| = \"{:.2f}\".format\n",
        "pd.options.display.max_columns = 500"
      ],
      "execution_count": 53,
      "outputs": []
    },
    {
      "cell_type": "code",
      "metadata": {
        "id": "GfjEWfnB_G0b",
        "colab": {
          "base_uri": "https://localhost:8080/"
        },
        "outputId": "b0251d4a-c1fb-4cf7-cd0e-489f515d429d"
      },
      "source": [
        "train = pd.read_parquet('/content/files/train.parquet')\n",
        "train = train.query('date > 85').reset_index(drop = True) \n",
        "train = train[train['weight'] != 0]\n",
        "train.shape"
      ],
      "execution_count": 54,
      "outputs": [
        {
          "output_type": "execute_result",
          "data": {
            "text/plain": [
              "(1571415, 138)"
            ]
          },
          "metadata": {
            "tags": []
          },
          "execution_count": 54
        }
      ]
    },
    {
      "cell_type": "code",
      "metadata": {
        "id": "ZoOEJCR4r0Tn"
      },
      "source": [
        "train.fillna(train.mean(), inplace=True)"
      ],
      "execution_count": 55,
      "outputs": []
    },
    {
      "cell_type": "markdown",
      "metadata": {
        "id": "AZ2760O7T0Cq"
      },
      "source": [
        "# Two Features"
      ]
    },
    {
      "cell_type": "code",
      "metadata": {
        "id": "HZRt79H3UL3c"
      },
      "source": [
        "feat = [f for f in train.columns if 'feature' in f]"
      ],
      "execution_count": 56,
      "outputs": []
    },
    {
      "cell_type": "code",
      "metadata": {
        "colab": {
          "base_uri": "https://localhost:8080/"
        },
        "id": "kl2v-6RBUL3r",
        "outputId": "5ea63c07-1dee-4195-b774-b4575aa52cf5"
      },
      "source": [
        "len(feat)"
      ],
      "execution_count": 57,
      "outputs": [
        {
          "output_type": "execute_result",
          "data": {
            "text/plain": [
              "130"
            ]
          },
          "metadata": {
            "tags": []
          },
          "execution_count": 57
        }
      ]
    },
    {
      "cell_type": "code",
      "metadata": {
        "id": "7_wbB6s7UQFt"
      },
      "source": [
        "corr = train[feat].corrwith(train['resp']).abs().sort_values(ascending=False)"
      ],
      "execution_count": 58,
      "outputs": []
    },
    {
      "cell_type": "code",
      "metadata": {
        "id": "b4eHfDdNsHgK"
      },
      "source": [
        ""
      ],
      "execution_count": null,
      "outputs": []
    },
    {
      "cell_type": "code",
      "metadata": {
        "id": "FlruZAcCUL3s"
      },
      "source": [
        "two_comb = []\n",
        "from itertools import combinations\n",
        "for i in combinations(corr.index.to_list(), 2):\n",
        "    two_comb.append(i)"
      ],
      "execution_count": 74,
      "outputs": []
    },
    {
      "cell_type": "code",
      "metadata": {
        "colab": {
          "base_uri": "https://localhost:8080/"
        },
        "id": "B65UbvUiUL3t",
        "outputId": "00a21ca9-342b-4563-9ca7-cb3d80362878"
      },
      "source": [
        "len(two_comb)"
      ],
      "execution_count": 75,
      "outputs": [
        {
          "output_type": "execute_result",
          "data": {
            "text/plain": [
              "8385"
            ]
          },
          "metadata": {
            "tags": []
          },
          "execution_count": 75
        }
      ]
    },
    {
      "cell_type": "code",
      "metadata": {
        "colab": {
          "base_uri": "https://localhost:8080/"
        },
        "id": "22LABzecUL3t",
        "outputId": "1afaa0f9-016a-4653-c2d3-e2ad2801e7ca"
      },
      "source": [
        "two_comb[0]"
      ],
      "execution_count": 76,
      "outputs": [
        {
          "output_type": "execute_result",
          "data": {
            "text/plain": [
              "('feature_39', 'feature_31')"
            ]
          },
          "metadata": {
            "tags": []
          },
          "execution_count": 76
        }
      ]
    },
    {
      "cell_type": "code",
      "metadata": {
        "colab": {
          "base_uri": "https://localhost:8080/"
        },
        "id": "iUnVzos6UL3u",
        "outputId": "41094950-61bb-415c-9a3e-bb041ae9fcdf"
      },
      "source": [
        "from itertools import permutations,combinations_with_replacement, combinations\n",
        "operators = [\"+\",\"-\",\"*\",\"/\"]\n",
        "for i in combinations_with_replacement(operators, 1):\n",
        "    print(i)"
      ],
      "execution_count": 77,
      "outputs": [
        {
          "output_type": "stream",
          "text": [
            "('+',)\n",
            "('-',)\n",
            "('*',)\n",
            "('/',)\n"
          ],
          "name": "stdout"
        }
      ]
    },
    {
      "cell_type": "code",
      "metadata": {
        "id": "jfCnNy-wWbW4",
        "colab": {
          "base_uri": "https://localhost:8080/"
        },
        "outputId": "e2b9a831-931e-4dd7-ff10-b65c52152f6b"
      },
      "source": [
        "two_comb[:5]"
      ],
      "execution_count": 78,
      "outputs": [
        {
          "output_type": "execute_result",
          "data": {
            "text/plain": [
              "[('feature_39', 'feature_31'),\n",
              " ('feature_39', 'feature_27'),\n",
              " ('feature_39', 'feature_33'),\n",
              " ('feature_39', 'feature_35'),\n",
              " ('feature_39', 'feature_29')]"
            ]
          },
          "metadata": {
            "tags": []
          },
          "execution_count": 78
        }
      ]
    },
    {
      "cell_type": "code",
      "metadata": {
        "colab": {
          "base_uri": "https://localhost:8080/"
        },
        "id": "w9DKrKbZUL3u",
        "outputId": "ac9f779f-950b-4f0d-8e74-351e42d7f3a6"
      },
      "source": [
        "%%time\n",
        "from google.colab import output\n",
        "\n",
        "th = 0.02\n",
        "feature_name =[]\n",
        "score = []\n",
        "count = 0\n",
        "for i in two_comb:\n",
        "    a = i[0]\n",
        "    b = i[1]\n",
        "    # c = i[2]\n",
        "    \n",
        "    train['computed'] = train[a] + train[b]\n",
        "    cor = np.abs(train['computed'].corr(train['resp']))\n",
        "    if cor > th:\n",
        "        f_name = '+'.join([a, b])\n",
        "        feature_name.append(f_name)\n",
        "        score.append(cor)\n",
        "    \n",
        "    train['computed'] = train[a] - train[b]\n",
        "    cor = np.abs(train['computed'].corr(train['resp']))\n",
        "    if cor > th:\n",
        "        f_name = '-'.join([a, b])\n",
        "        feature_name.append(f_name)\n",
        "        score.append(cor)\n",
        "    \n",
        "    train['computed'] = train[a] * train[b]\n",
        "    cor = np.abs(train['computed'].corr(train['resp']))\n",
        "    if cor > th:\n",
        "        f_name = '*'.join([a, b])\n",
        "        feature_name.append(f_name)\n",
        "        score.append(cor)\n",
        "    \n",
        "    \n",
        "    train['computed'] = train[a] / train[b]\n",
        "    cor = np.abs(train['computed'].corr(train['resp']))\n",
        "    if cor > th:\n",
        "        f_name = '/'.join([a, b])\n",
        "        feature_name.append(f_name)\n",
        "        score.append(cor)\n",
        "\n",
        "    train['computed'] = train[b] / train[a]\n",
        "    cor = np.abs(train['computed'].corr(train['resp']))\n",
        "    if cor > th:\n",
        "        f_name = '/'.join([b, a])\n",
        "        feature_name.append(f_name)\n",
        "        score.append(cor)\n",
        "   \n",
        "    count += 1\n",
        "    print(count, \"done out of \", len(two_comb) )\n",
        "    if count % 10 ==0:\n",
        "        output.clear()"
      ],
      "execution_count": 79,
      "outputs": [
        {
          "output_type": "stream",
          "text": [
            "8381 done out of  8385\n",
            "8382 done out of  8385\n",
            "8383 done out of  8385\n",
            "8384 done out of  8385\n",
            "8385 done out of  8385\n",
            "CPU times: user 27min 38s, sys: 58.3 s, total: 28min 36s\n",
            "Wall time: 26min 34s\n"
          ],
          "name": "stdout"
        }
      ]
    },
    {
      "cell_type": "code",
      "metadata": {
        "id": "h7QwsDm5Xy_-"
      },
      "source": [
        "two_features = pd.DataFrame(zip(feature_name, score), columns=['features', 'score']).sort_values(by='score',ascending=False)"
      ],
      "execution_count": 80,
      "outputs": []
    },
    {
      "cell_type": "code",
      "metadata": {
        "id": "f4xX9f0mo02q",
        "colab": {
          "base_uri": "https://localhost:8080/",
          "height": 406
        },
        "outputId": "0553a827-36c7-4967-de17-8f1e6eb445e2"
      },
      "source": [
        "two_features"
      ],
      "execution_count": 81,
      "outputs": [
        {
          "output_type": "execute_result",
          "data": {
            "text/html": [
              "<div>\n",
              "<style scoped>\n",
              "    .dataframe tbody tr th:only-of-type {\n",
              "        vertical-align: middle;\n",
              "    }\n",
              "\n",
              "    .dataframe tbody tr th {\n",
              "        vertical-align: top;\n",
              "    }\n",
              "\n",
              "    .dataframe thead th {\n",
              "        text-align: right;\n",
              "    }\n",
              "</style>\n",
              "<table border=\"1\" class=\"dataframe\">\n",
              "  <thead>\n",
              "    <tr style=\"text-align: right;\">\n",
              "      <th></th>\n",
              "      <th>features</th>\n",
              "      <th>score</th>\n",
              "    </tr>\n",
              "  </thead>\n",
              "  <tbody>\n",
              "    <tr>\n",
              "      <th>104</th>\n",
              "      <td>feature_39*feature_96</td>\n",
              "      <td>0.058274</td>\n",
              "    </tr>\n",
              "    <tr>\n",
              "      <th>192</th>\n",
              "      <td>feature_39*feature_102</td>\n",
              "      <td>0.058261</td>\n",
              "    </tr>\n",
              "    <tr>\n",
              "      <th>233</th>\n",
              "      <td>feature_39*feature_116</td>\n",
              "      <td>0.057796</td>\n",
              "    </tr>\n",
              "    <tr>\n",
              "      <th>116</th>\n",
              "      <td>feature_39*feature_108</td>\n",
              "      <td>0.057319</td>\n",
              "    </tr>\n",
              "    <tr>\n",
              "      <th>225</th>\n",
              "      <td>feature_39*feature_114</td>\n",
              "      <td>0.057139</td>\n",
              "    </tr>\n",
              "    <tr>\n",
              "      <th>...</th>\n",
              "      <td>...</td>\n",
              "      <td>...</td>\n",
              "    </tr>\n",
              "    <tr>\n",
              "      <th>2113</th>\n",
              "      <td>feature_17*feature_60</td>\n",
              "      <td>0.020018</td>\n",
              "    </tr>\n",
              "    <tr>\n",
              "      <th>1236</th>\n",
              "      <td>feature_35-feature_57</td>\n",
              "      <td>0.020015</td>\n",
              "    </tr>\n",
              "    <tr>\n",
              "      <th>2221</th>\n",
              "      <td>feature_28+feature_111</td>\n",
              "      <td>0.020015</td>\n",
              "    </tr>\n",
              "    <tr>\n",
              "      <th>2382</th>\n",
              "      <td>feature_23-feature_61</td>\n",
              "      <td>0.020010</td>\n",
              "    </tr>\n",
              "    <tr>\n",
              "      <th>3160</th>\n",
              "      <td>feature_73*feature_119</td>\n",
              "      <td>0.020003</td>\n",
              "    </tr>\n",
              "  </tbody>\n",
              "</table>\n",
              "<p>3242 rows × 2 columns</p>\n",
              "</div>"
            ],
            "text/plain": [
              "                    features     score\n",
              "104    feature_39*feature_96  0.058274\n",
              "192   feature_39*feature_102  0.058261\n",
              "233   feature_39*feature_116  0.057796\n",
              "116   feature_39*feature_108  0.057319\n",
              "225   feature_39*feature_114  0.057139\n",
              "...                      ...       ...\n",
              "2113   feature_17*feature_60  0.020018\n",
              "1236   feature_35-feature_57  0.020015\n",
              "2221  feature_28+feature_111  0.020015\n",
              "2382   feature_23-feature_61  0.020010\n",
              "3160  feature_73*feature_119  0.020003\n",
              "\n",
              "[3242 rows x 2 columns]"
            ]
          },
          "metadata": {
            "tags": []
          },
          "execution_count": 81
        }
      ]
    },
    {
      "cell_type": "code",
      "metadata": {
        "id": "s-ZVIcE1ovd8"
      },
      "source": [
        "two_features.to_csv('two_features_normal.csv', index=False)"
      ],
      "execution_count": 82,
      "outputs": []
    },
    {
      "cell_type": "code",
      "metadata": {
        "id": "az0TCd-TUL3w"
      },
      "source": [
        "# pd.DataFrame(zip(feature_name, score), columns=['features', 'score'])\n",
        "# .sort_values(by='score',ascending=False)\n",
        "# .to_csv('three_features.csv', index=False)"
      ],
      "execution_count": null,
      "outputs": []
    },
    {
      "cell_type": "code",
      "metadata": {
        "id": "cFJAIhq3o8NQ"
      },
      "source": [
        "import re\n",
        "feat_set = set()\n",
        "for i in two_features[two_features['score'] > 0.055]['features'].to_list():\n",
        "    f = re.split('[- + * /]',i)\n",
        "    for j in f:\n",
        "        feat_set.add(j)"
      ],
      "execution_count": 88,
      "outputs": []
    },
    {
      "cell_type": "code",
      "metadata": {
        "id": "cRY3ovgIo_7r"
      },
      "source": [
        "df = train[feat_set]"
      ],
      "execution_count": 90,
      "outputs": []
    },
    {
      "cell_type": "code",
      "metadata": {
        "id": "IXCwd_GB0omq"
      },
      "source": [
        ""
      ],
      "execution_count": 94,
      "outputs": []
    },
    {
      "cell_type": "code",
      "metadata": {
        "id": "O-uJJKlZ0PwG"
      },
      "source": [
        "to_split = two_features[two_features['score'] > 0.055]['features'].to_list()\n",
        "\n",
        "feature_split = [] \n",
        "symbol_split = []\n",
        "all_name = []\n",
        "for i in to_split:\n",
        "    all_name.append(i)\n",
        "    features_list = re.split('[- + * /]',i)\n",
        "    maths = re.findall(r\"([\\+\\-\\*\\/]+)\", i)\n",
        "    feature_split.append(features_list)\n",
        "    symbol_split.append(maths + [0])"
      ],
      "execution_count": 95,
      "outputs": []
    },
    {
      "cell_type": "code",
      "metadata": {
        "id": "shX7Kxz-04Ij",
        "outputId": "1a9e1338-60c0-4da1-e144-9c20e391e15d",
        "colab": {
          "base_uri": "https://localhost:8080/"
        }
      },
      "source": [
        "feature_split"
      ],
      "execution_count": 97,
      "outputs": [
        {
          "output_type": "execute_result",
          "data": {
            "text/plain": [
              "[['feature_39', 'feature_96'],\n",
              " ['feature_39', 'feature_102'],\n",
              " ['feature_39', 'feature_116'],\n",
              " ['feature_39', 'feature_108'],\n",
              " ['feature_39', 'feature_114'],\n",
              " ['feature_96', 'feature_0'],\n",
              " ['feature_0', 'feature_96'],\n",
              " ['feature_37', 'feature_84'],\n",
              " ['feature_39', 'feature_43'],\n",
              " ['feature_108', 'feature_0'],\n",
              " ['feature_0', 'feature_108']]"
            ]
          },
          "metadata": {
            "tags": []
          },
          "execution_count": 97
        }
      ]
    },
    {
      "cell_type": "code",
      "metadata": {
        "id": "caiV2s3C057q",
        "outputId": "c19fdf30-c82d-4630-e772-4919f2d7459b",
        "colab": {
          "base_uri": "https://localhost:8080/"
        }
      },
      "source": [
        "symbol_split"
      ],
      "execution_count": 98,
      "outputs": [
        {
          "output_type": "execute_result",
          "data": {
            "text/plain": [
              "[['*', 0],\n",
              " ['*', 0],\n",
              " ['*', 0],\n",
              " ['*', 0],\n",
              " ['*', 0],\n",
              " ['/', 0],\n",
              " ['*', 0],\n",
              " ['*', 0],\n",
              " ['*', 0],\n",
              " ['/', 0],\n",
              " ['*', 0]]"
            ]
          },
          "metadata": {
            "tags": []
          },
          "execution_count": 98
        }
      ]
    },
    {
      "cell_type": "code",
      "metadata": {
        "id": "QqwOjHmH0vmu",
        "outputId": "f7a48b74-c20f-4f11-bd80-5db09e8a7cc9",
        "colab": {
          "base_uri": "https://localhost:8080/"
        }
      },
      "source": [
        "count = 0\n",
        "for i,j in zip(feature_split, symbol_split):\n",
        "    feature_name = all_name[count]\n",
        "\n",
        "    print(\"df['\"+feature_name+\"']\", \"= \" \"train[\"+\"'\"+i[0]+\"'\"+\"]\", str(j[0]), \"train[\"+\"'\"+i[1]+\"'\"+\"]\")\n",
        "    count += 1"
      ],
      "execution_count": 103,
      "outputs": [
        {
          "output_type": "stream",
          "text": [
            "df['feature_39*feature_96'] = train['feature_39'] * train['feature_96']\n",
            "df['feature_39*feature_102'] = train['feature_39'] * train['feature_102']\n",
            "df['feature_39*feature_116'] = train['feature_39'] * train['feature_116']\n",
            "df['feature_39*feature_108'] = train['feature_39'] * train['feature_108']\n",
            "df['feature_39*feature_114'] = train['feature_39'] * train['feature_114']\n",
            "df['feature_96/feature_0'] = train['feature_96'] / train['feature_0']\n",
            "df['feature_0*feature_96'] = train['feature_0'] * train['feature_96']\n",
            "df['feature_37*feature_84'] = train['feature_37'] * train['feature_84']\n",
            "df['feature_39*feature_43'] = train['feature_39'] * train['feature_43']\n",
            "df['feature_108/feature_0'] = train['feature_108'] / train['feature_0']\n",
            "df['feature_0*feature_108'] = train['feature_0'] * train['feature_108']\n"
          ],
          "name": "stdout"
        }
      ]
    },
    {
      "cell_type": "code",
      "metadata": {
        "id": "Oo3DounB0xwv"
      },
      "source": [
        "df = pd.DataFrame()"
      ],
      "execution_count": 102,
      "outputs": []
    },
    {
      "cell_type": "code",
      "metadata": {
        "id": "MAzZ0l831KC-"
      },
      "source": [
        "df['feature_39*feature_96'] = train['feature_39'] * train['feature_96']\n",
        "df['feature_39*feature_102'] = train['feature_39'] * train['feature_102']\n",
        "df['feature_39*feature_116'] = train['feature_39'] * train['feature_116']\n",
        "df['feature_39*feature_108'] = train['feature_39'] * train['feature_108']\n",
        "df['feature_39*feature_114'] = train['feature_39'] * train['feature_114']\n",
        "df['feature_96/feature_0'] = train['feature_96'] / train['feature_0']\n",
        "df['feature_0*feature_96'] = train['feature_0'] * train['feature_96']\n",
        "df['feature_37*feature_84'] = train['feature_37'] * train['feature_84']\n",
        "df['feature_39*feature_43'] = train['feature_39'] * train['feature_43']\n",
        "df['feature_108/feature_0'] = train['feature_108'] / train['feature_0']\n",
        "df['feature_0*feature_108'] = train['feature_0'] * train['feature_108']"
      ],
      "execution_count": 104,
      "outputs": []
    },
    {
      "cell_type": "code",
      "metadata": {
        "id": "tiXDHasW1Ut2",
        "outputId": "38893c8b-a4b1-4589-b6c5-ad4c167a6ff1",
        "colab": {
          "base_uri": "https://localhost:8080/",
          "height": 426
        }
      },
      "source": [
        "df"
      ],
      "execution_count": 105,
      "outputs": [
        {
          "output_type": "execute_result",
          "data": {
            "text/html": [
              "<div>\n",
              "<style scoped>\n",
              "    .dataframe tbody tr th:only-of-type {\n",
              "        vertical-align: middle;\n",
              "    }\n",
              "\n",
              "    .dataframe tbody tr th {\n",
              "        vertical-align: top;\n",
              "    }\n",
              "\n",
              "    .dataframe thead th {\n",
              "        text-align: right;\n",
              "    }\n",
              "</style>\n",
              "<table border=\"1\" class=\"dataframe\">\n",
              "  <thead>\n",
              "    <tr style=\"text-align: right;\">\n",
              "      <th></th>\n",
              "      <th>feature_39*feature_96</th>\n",
              "      <th>feature_39*feature_102</th>\n",
              "      <th>feature_39*feature_116</th>\n",
              "      <th>feature_39*feature_108</th>\n",
              "      <th>feature_39*feature_114</th>\n",
              "      <th>feature_96/feature_0</th>\n",
              "      <th>feature_0*feature_96</th>\n",
              "      <th>feature_37*feature_84</th>\n",
              "      <th>feature_39*feature_43</th>\n",
              "      <th>feature_108/feature_0</th>\n",
              "      <th>feature_0*feature_108</th>\n",
              "    </tr>\n",
              "  </thead>\n",
              "  <tbody>\n",
              "    <tr>\n",
              "      <th>0</th>\n",
              "      <td>-0.087763</td>\n",
              "      <td>-0.035141</td>\n",
              "      <td>-0.041600</td>\n",
              "      <td>-0.087185</td>\n",
              "      <td>-0.040825</td>\n",
              "      <td>0.433895</td>\n",
              "      <td>0.433895</td>\n",
              "      <td>0.147266</td>\n",
              "      <td>0.272913</td>\n",
              "      <td>0.431037</td>\n",
              "      <td>0.431037</td>\n",
              "    </tr>\n",
              "    <tr>\n",
              "      <th>2</th>\n",
              "      <td>0.023988</td>\n",
              "      <td>0.009605</td>\n",
              "      <td>0.011371</td>\n",
              "      <td>0.023830</td>\n",
              "      <td>0.011159</td>\n",
              "      <td>-0.433895</td>\n",
              "      <td>-0.433895</td>\n",
              "      <td>-0.237182</td>\n",
              "      <td>-0.114664</td>\n",
              "      <td>-0.431037</td>\n",
              "      <td>-0.431037</td>\n",
              "    </tr>\n",
              "    <tr>\n",
              "      <th>3</th>\n",
              "      <td>-0.014631</td>\n",
              "      <td>-0.005858</td>\n",
              "      <td>-0.006935</td>\n",
              "      <td>-0.014535</td>\n",
              "      <td>-0.006806</td>\n",
              "      <td>0.433895</td>\n",
              "      <td>0.433895</td>\n",
              "      <td>0.254205</td>\n",
              "      <td>-0.060581</td>\n",
              "      <td>0.431037</td>\n",
              "      <td>0.431037</td>\n",
              "    </tr>\n",
              "    <tr>\n",
              "      <th>6</th>\n",
              "      <td>0.052316</td>\n",
              "      <td>0.020948</td>\n",
              "      <td>0.024798</td>\n",
              "      <td>0.051971</td>\n",
              "      <td>0.024336</td>\n",
              "      <td>-0.433895</td>\n",
              "      <td>-0.433895</td>\n",
              "      <td>-0.136723</td>\n",
              "      <td>-0.348820</td>\n",
              "      <td>-0.431037</td>\n",
              "      <td>-0.431037</td>\n",
              "    </tr>\n",
              "    <tr>\n",
              "      <th>7</th>\n",
              "      <td>0.044007</td>\n",
              "      <td>0.017621</td>\n",
              "      <td>0.020859</td>\n",
              "      <td>0.043717</td>\n",
              "      <td>0.020471</td>\n",
              "      <td>-0.433895</td>\n",
              "      <td>-0.433895</td>\n",
              "      <td>-0.317111</td>\n",
              "      <td>-0.093171</td>\n",
              "      <td>-0.431037</td>\n",
              "      <td>-0.431037</td>\n",
              "    </tr>\n",
              "    <tr>\n",
              "      <th>...</th>\n",
              "      <td>...</td>\n",
              "      <td>...</td>\n",
              "      <td>...</td>\n",
              "      <td>...</td>\n",
              "      <td>...</td>\n",
              "      <td>...</td>\n",
              "      <td>...</td>\n",
              "      <td>...</td>\n",
              "      <td>...</td>\n",
              "      <td>...</td>\n",
              "      <td>...</td>\n",
              "    </tr>\n",
              "    <tr>\n",
              "      <th>1862550</th>\n",
              "      <td>0.245172</td>\n",
              "      <td>5.690322</td>\n",
              "      <td>6.526240</td>\n",
              "      <td>0.532712</td>\n",
              "      <td>5.305742</td>\n",
              "      <td>-0.102147</td>\n",
              "      <td>-0.102147</td>\n",
              "      <td>-0.093927</td>\n",
              "      <td>-1.846862</td>\n",
              "      <td>-0.221946</td>\n",
              "      <td>-0.221946</td>\n",
              "    </tr>\n",
              "    <tr>\n",
              "      <th>1862552</th>\n",
              "      <td>-10.014939</td>\n",
              "      <td>-4.934894</td>\n",
              "      <td>-5.148413</td>\n",
              "      <td>-12.336777</td>\n",
              "      <td>-3.474740</td>\n",
              "      <td>1.668274</td>\n",
              "      <td>1.668274</td>\n",
              "      <td>1.460981</td>\n",
              "      <td>-25.799120</td>\n",
              "      <td>2.055042</td>\n",
              "      <td>2.055042</td>\n",
              "    </tr>\n",
              "    <tr>\n",
              "      <th>1862584</th>\n",
              "      <td>0.882326</td>\n",
              "      <td>-0.601499</td>\n",
              "      <td>0.266785</td>\n",
              "      <td>0.782531</td>\n",
              "      <td>-0.835405</td>\n",
              "      <td>-0.756951</td>\n",
              "      <td>-0.756951</td>\n",
              "      <td>-0.050074</td>\n",
              "      <td>-0.475259</td>\n",
              "      <td>-0.671336</td>\n",
              "      <td>-0.671336</td>\n",
              "    </tr>\n",
              "    <tr>\n",
              "      <th>1862587</th>\n",
              "      <td>1.400771</td>\n",
              "      <td>-2.053138</td>\n",
              "      <td>-1.860062</td>\n",
              "      <td>1.860842</td>\n",
              "      <td>-1.867003</td>\n",
              "      <td>-0.883252</td>\n",
              "      <td>-0.883252</td>\n",
              "      <td>-0.202110</td>\n",
              "      <td>-0.710345</td>\n",
              "      <td>-1.173349</td>\n",
              "      <td>-1.173349</td>\n",
              "    </tr>\n",
              "    <tr>\n",
              "      <th>1862595</th>\n",
              "      <td>0.828677</td>\n",
              "      <td>5.259457</td>\n",
              "      <td>6.540066</td>\n",
              "      <td>1.068939</td>\n",
              "      <td>4.675529</td>\n",
              "      <td>-1.157290</td>\n",
              "      <td>-1.157290</td>\n",
              "      <td>-2.166699</td>\n",
              "      <td>-0.812008</td>\n",
              "      <td>-1.492829</td>\n",
              "      <td>-1.492829</td>\n",
              "    </tr>\n",
              "  </tbody>\n",
              "</table>\n",
              "<p>1571415 rows × 11 columns</p>\n",
              "</div>"
            ],
            "text/plain": [
              "         feature_39*feature_96  feature_39*feature_102  \\\n",
              "0                    -0.087763               -0.035141   \n",
              "2                     0.023988                0.009605   \n",
              "3                    -0.014631               -0.005858   \n",
              "6                     0.052316                0.020948   \n",
              "7                     0.044007                0.017621   \n",
              "...                        ...                     ...   \n",
              "1862550               0.245172                5.690322   \n",
              "1862552             -10.014939               -4.934894   \n",
              "1862584               0.882326               -0.601499   \n",
              "1862587               1.400771               -2.053138   \n",
              "1862595               0.828677                5.259457   \n",
              "\n",
              "         feature_39*feature_116  feature_39*feature_108  \\\n",
              "0                     -0.041600               -0.087185   \n",
              "2                      0.011371                0.023830   \n",
              "3                     -0.006935               -0.014535   \n",
              "6                      0.024798                0.051971   \n",
              "7                      0.020859                0.043717   \n",
              "...                         ...                     ...   \n",
              "1862550                6.526240                0.532712   \n",
              "1862552               -5.148413              -12.336777   \n",
              "1862584                0.266785                0.782531   \n",
              "1862587               -1.860062                1.860842   \n",
              "1862595                6.540066                1.068939   \n",
              "\n",
              "         feature_39*feature_114  feature_96/feature_0  feature_0*feature_96  \\\n",
              "0                     -0.040825              0.433895              0.433895   \n",
              "2                      0.011159             -0.433895             -0.433895   \n",
              "3                     -0.006806              0.433895              0.433895   \n",
              "6                      0.024336             -0.433895             -0.433895   \n",
              "7                      0.020471             -0.433895             -0.433895   \n",
              "...                         ...                   ...                   ...   \n",
              "1862550                5.305742             -0.102147             -0.102147   \n",
              "1862552               -3.474740              1.668274              1.668274   \n",
              "1862584               -0.835405             -0.756951             -0.756951   \n",
              "1862587               -1.867003             -0.883252             -0.883252   \n",
              "1862595                4.675529             -1.157290             -1.157290   \n",
              "\n",
              "         feature_37*feature_84  feature_39*feature_43  feature_108/feature_0  \\\n",
              "0                     0.147266               0.272913               0.431037   \n",
              "2                    -0.237182              -0.114664              -0.431037   \n",
              "3                     0.254205              -0.060581               0.431037   \n",
              "6                    -0.136723              -0.348820              -0.431037   \n",
              "7                    -0.317111              -0.093171              -0.431037   \n",
              "...                        ...                    ...                    ...   \n",
              "1862550              -0.093927              -1.846862              -0.221946   \n",
              "1862552               1.460981             -25.799120               2.055042   \n",
              "1862584              -0.050074              -0.475259              -0.671336   \n",
              "1862587              -0.202110              -0.710345              -1.173349   \n",
              "1862595              -2.166699              -0.812008              -1.492829   \n",
              "\n",
              "         feature_0*feature_108  \n",
              "0                     0.431037  \n",
              "2                    -0.431037  \n",
              "3                     0.431037  \n",
              "6                    -0.431037  \n",
              "7                    -0.431037  \n",
              "...                        ...  \n",
              "1862550              -0.221946  \n",
              "1862552               2.055042  \n",
              "1862584              -0.671336  \n",
              "1862587              -1.173349  \n",
              "1862595              -1.492829  \n",
              "\n",
              "[1571415 rows x 11 columns]"
            ]
          },
          "metadata": {
            "tags": []
          },
          "execution_count": 105
        }
      ]
    },
    {
      "cell_type": "code",
      "metadata": {
        "id": "gjjK3Ezi1VZG",
        "outputId": "d5346953-5ca7-484f-b135-e1cf256eefa5",
        "colab": {
          "base_uri": "https://localhost:8080/"
        }
      },
      "source": [
        "df.corrwith(train['resp']).abs().sort_values(ascending=False)"
      ],
      "execution_count": 108,
      "outputs": [
        {
          "output_type": "execute_result",
          "data": {
            "text/plain": [
              "feature_39*feature_96     0.058274\n",
              "feature_39*feature_102    0.058261\n",
              "feature_39*feature_116    0.057796\n",
              "feature_39*feature_108    0.057319\n",
              "feature_39*feature_114    0.057139\n",
              "feature_0*feature_96      0.056833\n",
              "feature_96/feature_0      0.056833\n",
              "feature_37*feature_84     0.056099\n",
              "feature_39*feature_43     0.055729\n",
              "feature_0*feature_108     0.055203\n",
              "feature_108/feature_0     0.055203\n",
              "dtype: float64"
            ]
          },
          "metadata": {
            "tags": []
          },
          "execution_count": 108
        }
      ]
    },
    {
      "cell_type": "markdown",
      "metadata": {
        "id": "06czbE-K43UI"
      },
      "source": [
        "# Repeat"
      ]
    },
    {
      "cell_type": "code",
      "metadata": {
        "id": "zIFE5UWj1bwu"
      },
      "source": [
        "two_comb = []\n",
        "from itertools import combinations\n",
        "for i in combinations(df.columns.to_list(), 2):\n",
        "    two_comb.append(i)"
      ],
      "execution_count": 115,
      "outputs": []
    },
    {
      "cell_type": "code",
      "metadata": {
        "id": "F16nmqk01om2"
      },
      "source": [
        "two_comb"
      ],
      "execution_count": null,
      "outputs": []
    },
    {
      "cell_type": "code",
      "metadata": {
        "colab": {
          "base_uri": "https://localhost:8080/"
        },
        "id": "s1DzXfeM1p-G",
        "outputId": "62b05565-323d-44bf-a03d-d2a67192d307"
      },
      "source": [
        "%%time\n",
        "from google.colab import output\n",
        "\n",
        "th = 0.06\n",
        "feature_name =[]\n",
        "score = []\n",
        "count = 0\n",
        "for i in two_comb:\n",
        "    a = i[0]\n",
        "    b = i[1]\n",
        "    # c = i[2]\n",
        "    \n",
        "    df['computed'] = df[a] + df[b]\n",
        "    cor = np.abs(df['computed'].corr(train['resp']))\n",
        "    if cor > th:\n",
        "        f_name = '+'.join([a, b])\n",
        "        feature_name.append(f_name)\n",
        "        score.append(cor)\n",
        "    \n",
        "    df['computed'] = df[a] - df[b]\n",
        "    cor = np.abs(df['computed'].corr(train['resp']))\n",
        "    if cor > th:\n",
        "        f_name = '-'.join([a, b])\n",
        "        feature_name.append(f_name)\n",
        "        score.append(cor)\n",
        "    \n",
        "    df['computed'] = df[a] * df[b]\n",
        "    cor = np.abs(df['computed'].corr(train['resp']))\n",
        "    if cor > th:\n",
        "        f_name = '*'.join([a, b])\n",
        "        feature_name.append(f_name)\n",
        "        score.append(cor)\n",
        "    \n",
        "    \n",
        "    df['computed'] = df[a] / df[b]\n",
        "    cor = np.abs(df['computed'].corr(train['resp']))\n",
        "    if cor > th:\n",
        "        f_name = '/'.join([a, b])\n",
        "        feature_name.append(f_name)\n",
        "        score.append(cor)\n",
        "\n",
        "    df['computed'] = df[b] / df[a]\n",
        "    cor = np.abs(df['computed'].corr(train['resp']))\n",
        "    if cor > th:\n",
        "        f_name = '/'.join([b, a])\n",
        "        feature_name.append(f_name)\n",
        "        score.append(cor)\n",
        "   \n",
        "    count += 1\n",
        "    print(count, \"done out of \", len(two_comb) )\n",
        "    if count % 10 ==0:\n",
        "        output.clear()"
      ],
      "execution_count": 120,
      "outputs": [
        {
          "output_type": "stream",
          "text": [
            "51 done out of  55\n",
            "52 done out of  55\n",
            "53 done out of  55\n",
            "54 done out of  55\n",
            "55 done out of  55\n",
            "CPU times: user 9.35 s, sys: 274 ms, total: 9.62 s\n",
            "Wall time: 8.87 s\n"
          ],
          "name": "stdout"
        }
      ]
    },
    {
      "cell_type": "code",
      "metadata": {
        "id": "tobuHiLk2IpV"
      },
      "source": [
        "combined_features = pd.DataFrame(zip(feature_name, score), columns=['features', 'score']).sort_values(by='score',ascending=False)"
      ],
      "execution_count": 122,
      "outputs": []
    },
    {
      "cell_type": "code",
      "metadata": {
        "id": "yCcduWKv27s2"
      },
      "source": [
        "to_split = combined_features[combined_features['score'] > 0.06]['features'].to_list()\n",
        "\n",
        "feature_split = [] \n",
        "symbol_split = []\n",
        "all_name = []\n",
        "for i in to_split:\n",
        "    all_name.append(i)\n",
        "    features_list = re.split('[- + * /]',i)\n",
        "    maths = re.findall(r\"([\\+\\-\\*\\/]+)\", i)\n",
        "    feature_split.append(features_list)\n",
        "    symbol_split.append(maths + [0])"
      ],
      "execution_count": 123,
      "outputs": []
    },
    {
      "cell_type": "code",
      "metadata": {
        "id": "SGPFqoDM3Eko",
        "outputId": "6beff81c-fd3f-494e-a3f0-a2f09871e044",
        "colab": {
          "base_uri": "https://localhost:8080/"
        }
      },
      "source": [
        "feature_split"
      ],
      "execution_count": 130,
      "outputs": [
        {
          "output_type": "execute_result",
          "data": {
            "text/plain": [
              "[['feature_37', 'feature_84', 'feature_39', 'feature_43'],\n",
              " ['feature_39', 'feature_116', 'feature_37', 'feature_84'],\n",
              " ['feature_0', 'feature_96', 'feature_39', 'feature_43'],\n",
              " ['feature_96', 'feature_0', 'feature_39', 'feature_43'],\n",
              " ['feature_39', 'feature_96', 'feature_39', 'feature_43'],\n",
              " ['feature_39', 'feature_102', 'feature_39', 'feature_43'],\n",
              " ['feature_39', 'feature_43', 'feature_0', 'feature_108'],\n",
              " ['feature_39', 'feature_43', 'feature_108', 'feature_0'],\n",
              " ['feature_39', 'feature_102', 'feature_37', 'feature_84'],\n",
              " ['feature_39', 'feature_116', 'feature_39', 'feature_43'],\n",
              " ['feature_39', 'feature_114', 'feature_37', 'feature_84'],\n",
              " ['feature_39', 'feature_114', 'feature_39', 'feature_43'],\n",
              " ['feature_39', 'feature_108', 'feature_39', 'feature_43'],\n",
              " ['feature_39', 'feature_96', 'feature_37', 'feature_84'],\n",
              " ['feature_39', 'feature_108', 'feature_37', 'feature_84'],\n",
              " ['feature_39', 'feature_116', 'feature_0', 'feature_96'],\n",
              " ['feature_39', 'feature_116', 'feature_96', 'feature_0'],\n",
              " ['feature_39', 'feature_116', 'feature_108', 'feature_0'],\n",
              " ['feature_39', 'feature_116', 'feature_0', 'feature_108'],\n",
              " ['feature_39', 'feature_96', 'feature_39', 'feature_116'],\n",
              " ['feature_39', 'feature_102', 'feature_0', 'feature_96'],\n",
              " ['feature_39', 'feature_102', 'feature_96', 'feature_0'],\n",
              " ['feature_39', 'feature_102', 'feature_0', 'feature_108'],\n",
              " ['feature_39', 'feature_102', 'feature_108', 'feature_0'],\n",
              " ['feature_39', 'feature_114', 'feature_0', 'feature_96'],\n",
              " ['feature_39', 'feature_114', 'feature_96', 'feature_0'],\n",
              " ['feature_39', 'feature_116', 'feature_39', 'feature_108'],\n",
              " ['feature_39', 'feature_114', 'feature_108', 'feature_0'],\n",
              " ['feature_39', 'feature_114', 'feature_0', 'feature_108'],\n",
              " ['feature_39', 'feature_96', 'feature_39', 'feature_102'],\n",
              " ['feature_39', 'feature_96', 'feature_39', 'feature_114'],\n",
              " ['feature_39', 'feature_102', 'feature_39', 'feature_108'],\n",
              " ['feature_39', 'feature_96', 'feature_0', 'feature_96'],\n",
              " ['feature_39', 'feature_96', 'feature_96', 'feature_0'],\n",
              " ['feature_39', 'feature_102', 'feature_39', 'feature_116'],\n",
              " ['feature_39', 'feature_96', 'feature_0', 'feature_108'],\n",
              " ['feature_39', 'feature_96', 'feature_108', 'feature_0']]"
            ]
          },
          "metadata": {
            "tags": []
          },
          "execution_count": 130
        }
      ]
    },
    {
      "cell_type": "code",
      "metadata": {
        "id": "OXj9Xqta2mgY",
        "outputId": "4eed384f-97da-4eb1-fd13-81ca47e2ead1",
        "colab": {
          "base_uri": "https://localhost:8080/"
        }
      },
      "source": [
        "count = 0\n",
        "for i,j in zip(feature_split, symbol_split):\n",
        "    feature_name = all_name[count]\n",
        "\n",
        "    print(\"df1['\"+feature_name+\"']\", \"= \" \"train[\"+\"'\"+i[0]+\"'\"+\"]\", str(j[0]), \n",
        "                                        \"train[\"+\"'\"+i[1]+\"'\"+\"]\", str(j[1]),\n",
        "                                        \"train[\"+\"'\"+i[2]+\"'\"+\"]\", str(j[2]),\n",
        "                                        \"train[\"+\"'\"+i[3]+\"'\"+\"]\"\n",
        "                                        )\n",
        "    count += 1"
      ],
      "execution_count": 135,
      "outputs": [
        {
          "output_type": "stream",
          "text": [
            "df1['feature_37*feature_84-feature_39*feature_43'] = train['feature_37'] * train['feature_84'] - train['feature_39'] * train['feature_43']\n",
            "df1['feature_39*feature_116-feature_37*feature_84'] = train['feature_39'] * train['feature_116'] - train['feature_37'] * train['feature_84']\n",
            "df1['feature_0*feature_96-feature_39*feature_43'] = train['feature_0'] * train['feature_96'] - train['feature_39'] * train['feature_43']\n",
            "df1['feature_96/feature_0-feature_39*feature_43'] = train['feature_96'] / train['feature_0'] - train['feature_39'] * train['feature_43']\n",
            "df1['feature_39*feature_96+feature_39*feature_43'] = train['feature_39'] * train['feature_96'] + train['feature_39'] * train['feature_43']\n",
            "df1['feature_39*feature_102+feature_39*feature_43'] = train['feature_39'] * train['feature_102'] + train['feature_39'] * train['feature_43']\n",
            "df1['feature_39*feature_43-feature_0*feature_108'] = train['feature_39'] * train['feature_43'] - train['feature_0'] * train['feature_108']\n",
            "df1['feature_39*feature_43-feature_108/feature_0'] = train['feature_39'] * train['feature_43'] - train['feature_108'] / train['feature_0']\n",
            "df1['feature_39*feature_102-feature_37*feature_84'] = train['feature_39'] * train['feature_102'] - train['feature_37'] * train['feature_84']\n",
            "df1['feature_39*feature_116+feature_39*feature_43'] = train['feature_39'] * train['feature_116'] + train['feature_39'] * train['feature_43']\n",
            "df1['feature_39*feature_114-feature_37*feature_84'] = train['feature_39'] * train['feature_114'] - train['feature_37'] * train['feature_84']\n",
            "df1['feature_39*feature_114+feature_39*feature_43'] = train['feature_39'] * train['feature_114'] + train['feature_39'] * train['feature_43']\n",
            "df1['feature_39*feature_108+feature_39*feature_43'] = train['feature_39'] * train['feature_108'] + train['feature_39'] * train['feature_43']\n",
            "df1['feature_39*feature_96-feature_37*feature_84'] = train['feature_39'] * train['feature_96'] - train['feature_37'] * train['feature_84']\n",
            "df1['feature_39*feature_108-feature_37*feature_84'] = train['feature_39'] * train['feature_108'] - train['feature_37'] * train['feature_84']\n",
            "df1['feature_39*feature_116-feature_0*feature_96'] = train['feature_39'] * train['feature_116'] - train['feature_0'] * train['feature_96']\n",
            "df1['feature_39*feature_116-feature_96/feature_0'] = train['feature_39'] * train['feature_116'] - train['feature_96'] / train['feature_0']\n",
            "df1['feature_39*feature_116-feature_108/feature_0'] = train['feature_39'] * train['feature_116'] - train['feature_108'] / train['feature_0']\n",
            "df1['feature_39*feature_116-feature_0*feature_108'] = train['feature_39'] * train['feature_116'] - train['feature_0'] * train['feature_108']\n",
            "df1['feature_39*feature_96+feature_39*feature_116'] = train['feature_39'] * train['feature_96'] + train['feature_39'] * train['feature_116']\n",
            "df1['feature_39*feature_102-feature_0*feature_96'] = train['feature_39'] * train['feature_102'] - train['feature_0'] * train['feature_96']\n",
            "df1['feature_39*feature_102-feature_96/feature_0'] = train['feature_39'] * train['feature_102'] - train['feature_96'] / train['feature_0']\n",
            "df1['feature_39*feature_102-feature_0*feature_108'] = train['feature_39'] * train['feature_102'] - train['feature_0'] * train['feature_108']\n",
            "df1['feature_39*feature_102-feature_108/feature_0'] = train['feature_39'] * train['feature_102'] - train['feature_108'] / train['feature_0']\n",
            "df1['feature_39*feature_114-feature_0*feature_96'] = train['feature_39'] * train['feature_114'] - train['feature_0'] * train['feature_96']\n",
            "df1['feature_39*feature_114-feature_96/feature_0'] = train['feature_39'] * train['feature_114'] - train['feature_96'] / train['feature_0']\n",
            "df1['feature_39*feature_116+feature_39*feature_108'] = train['feature_39'] * train['feature_116'] + train['feature_39'] * train['feature_108']\n",
            "df1['feature_39*feature_114-feature_108/feature_0'] = train['feature_39'] * train['feature_114'] - train['feature_108'] / train['feature_0']\n",
            "df1['feature_39*feature_114-feature_0*feature_108'] = train['feature_39'] * train['feature_114'] - train['feature_0'] * train['feature_108']\n",
            "df1['feature_39*feature_96+feature_39*feature_102'] = train['feature_39'] * train['feature_96'] + train['feature_39'] * train['feature_102']\n",
            "df1['feature_39*feature_96+feature_39*feature_114'] = train['feature_39'] * train['feature_96'] + train['feature_39'] * train['feature_114']\n",
            "df1['feature_39*feature_102+feature_39*feature_108'] = train['feature_39'] * train['feature_102'] + train['feature_39'] * train['feature_108']\n",
            "df1['feature_39*feature_96-feature_0*feature_96'] = train['feature_39'] * train['feature_96'] - train['feature_0'] * train['feature_96']\n",
            "df1['feature_39*feature_96-feature_96/feature_0'] = train['feature_39'] * train['feature_96'] - train['feature_96'] / train['feature_0']\n",
            "df1['feature_39*feature_102+feature_39*feature_116'] = train['feature_39'] * train['feature_102'] + train['feature_39'] * train['feature_116']\n",
            "df1['feature_39*feature_96-feature_0*feature_108'] = train['feature_39'] * train['feature_96'] - train['feature_0'] * train['feature_108']\n",
            "df1['feature_39*feature_96-feature_108/feature_0'] = train['feature_39'] * train['feature_96'] - train['feature_108'] / train['feature_0']\n"
          ],
          "name": "stdout"
        }
      ]
    },
    {
      "cell_type": "code",
      "metadata": {
        "id": "1lh77hjO21V7"
      },
      "source": [
        "df1 = pd.DataFrame()"
      ],
      "execution_count": 136,
      "outputs": []
    },
    {
      "cell_type": "code",
      "metadata": {
        "id": "noutDWpF4ZwR"
      },
      "source": [
        "df1['feature_37*feature_84-feature_39*feature_43'] = train['feature_37'] * train['feature_84'] - train['feature_39'] * train['feature_43']\n",
        "df1['feature_39*feature_116-feature_37*feature_84'] = train['feature_39'] * train['feature_116'] - train['feature_37'] * train['feature_84']\n",
        "df1['feature_0*feature_96-feature_39*feature_43'] = train['feature_0'] * train['feature_96'] - train['feature_39'] * train['feature_43']\n",
        "df1['feature_96/feature_0-feature_39*feature_43'] = train['feature_96'] / train['feature_0'] - train['feature_39'] * train['feature_43']\n",
        "df1['feature_39*feature_96+feature_39*feature_43'] = train['feature_39'] * train['feature_96'] + train['feature_39'] * train['feature_43']\n",
        "df1['feature_39*feature_102+feature_39*feature_43'] = train['feature_39'] * train['feature_102'] + train['feature_39'] * train['feature_43']\n",
        "df1['feature_39*feature_43-feature_0*feature_108'] = train['feature_39'] * train['feature_43'] - train['feature_0'] * train['feature_108']\n",
        "df1['feature_39*feature_43-feature_108/feature_0'] = train['feature_39'] * train['feature_43'] - train['feature_108'] / train['feature_0']\n",
        "df1['feature_39*feature_102-feature_37*feature_84'] = train['feature_39'] * train['feature_102'] - train['feature_37'] * train['feature_84']\n",
        "df1['feature_39*feature_116+feature_39*feature_43'] = train['feature_39'] * train['feature_116'] + train['feature_39'] * train['feature_43']\n",
        "df1['feature_39*feature_114-feature_37*feature_84'] = train['feature_39'] * train['feature_114'] - train['feature_37'] * train['feature_84']\n",
        "df1['feature_39*feature_114+feature_39*feature_43'] = train['feature_39'] * train['feature_114'] + train['feature_39'] * train['feature_43']\n",
        "df1['feature_39*feature_108+feature_39*feature_43'] = train['feature_39'] * train['feature_108'] + train['feature_39'] * train['feature_43']\n",
        "df1['feature_39*feature_96-feature_37*feature_84'] = train['feature_39'] * train['feature_96'] - train['feature_37'] * train['feature_84']\n",
        "df1['feature_39*feature_108-feature_37*feature_84'] = train['feature_39'] * train['feature_108'] - train['feature_37'] * train['feature_84']\n",
        "df1['feature_39*feature_116-feature_0*feature_96'] = train['feature_39'] * train['feature_116'] - train['feature_0'] * train['feature_96']\n",
        "df1['feature_39*feature_116-feature_96/feature_0'] = train['feature_39'] * train['feature_116'] - train['feature_96'] / train['feature_0']\n",
        "df1['feature_39*feature_116-feature_108/feature_0'] = train['feature_39'] * train['feature_116'] - train['feature_108'] / train['feature_0']\n",
        "df1['feature_39*feature_116-feature_0*feature_108'] = train['feature_39'] * train['feature_116'] - train['feature_0'] * train['feature_108']\n",
        "df1['feature_39*feature_96+feature_39*feature_116'] = train['feature_39'] * train['feature_96'] + train['feature_39'] * train['feature_116']\n",
        "df1['feature_39*feature_102-feature_0*feature_96'] = train['feature_39'] * train['feature_102'] - train['feature_0'] * train['feature_96']\n",
        "df1['feature_39*feature_102-feature_96/feature_0'] = train['feature_39'] * train['feature_102'] - train['feature_96'] / train['feature_0']\n",
        "df1['feature_39*feature_102-feature_0*feature_108'] = train['feature_39'] * train['feature_102'] - train['feature_0'] * train['feature_108']\n",
        "df1['feature_39*feature_102-feature_108/feature_0'] = train['feature_39'] * train['feature_102'] - train['feature_108'] / train['feature_0']\n",
        "df1['feature_39*feature_114-feature_0*feature_96'] = train['feature_39'] * train['feature_114'] - train['feature_0'] * train['feature_96']\n",
        "df1['feature_39*feature_114-feature_96/feature_0'] = train['feature_39'] * train['feature_114'] - train['feature_96'] / train['feature_0']\n",
        "df1['feature_39*feature_116+feature_39*feature_108'] = train['feature_39'] * train['feature_116'] + train['feature_39'] * train['feature_108']\n",
        "df1['feature_39*feature_114-feature_108/feature_0'] = train['feature_39'] * train['feature_114'] - train['feature_108'] / train['feature_0']\n",
        "df1['feature_39*feature_114-feature_0*feature_108'] = train['feature_39'] * train['feature_114'] - train['feature_0'] * train['feature_108']\n",
        "df1['feature_39*feature_96+feature_39*feature_102'] = train['feature_39'] * train['feature_96'] + train['feature_39'] * train['feature_102']\n",
        "df1['feature_39*feature_96+feature_39*feature_114'] = train['feature_39'] * train['feature_96'] + train['feature_39'] * train['feature_114']\n",
        "df1['feature_39*feature_102+feature_39*feature_108'] = train['feature_39'] * train['feature_102'] + train['feature_39'] * train['feature_108']\n",
        "df1['feature_39*feature_96-feature_0*feature_96'] = train['feature_39'] * train['feature_96'] - train['feature_0'] * train['feature_96']\n",
        "df1['feature_39*feature_96-feature_96/feature_0'] = train['feature_39'] * train['feature_96'] - train['feature_96'] / train['feature_0']\n",
        "df1['feature_39*feature_102+feature_39*feature_116'] = train['feature_39'] * train['feature_102'] + train['feature_39'] * train['feature_116']\n",
        "df1['feature_39*feature_96-feature_0*feature_108'] = train['feature_39'] * train['feature_96'] - train['feature_0'] * train['feature_108']\n",
        "df1['feature_39*feature_96-feature_108/feature_0'] = train['feature_39'] * train['feature_96'] - train['feature_108'] / train['feature_0']"
      ],
      "execution_count": 137,
      "outputs": []
    },
    {
      "cell_type": "code",
      "metadata": {
        "id": "uFddr7zf4cvP",
        "outputId": "5f28cf6e-b7d1-42d8-8df7-11d36145a511",
        "colab": {
          "base_uri": "https://localhost:8080/"
        }
      },
      "source": [
        "df1.corrwith(train['resp']).abs().sort_values(ascending=False)"
      ],
      "execution_count": 138,
      "outputs": [
        {
          "output_type": "execute_result",
          "data": {
            "text/plain": [
              "feature_37*feature_84-feature_39*feature_43      0.071588\n",
              "feature_39*feature_116-feature_37*feature_84     0.069503\n",
              "feature_0*feature_96-feature_39*feature_43       0.068152\n",
              "feature_96/feature_0-feature_39*feature_43       0.068152\n",
              "feature_39*feature_96+feature_39*feature_43      0.067886\n",
              "feature_39*feature_102+feature_39*feature_43     0.067782\n",
              "feature_39*feature_43-feature_108/feature_0      0.067740\n",
              "feature_39*feature_43-feature_0*feature_108      0.067740\n",
              "feature_39*feature_102-feature_37*feature_84     0.067734\n",
              "feature_39*feature_116+feature_39*feature_43     0.067553\n",
              "feature_39*feature_114-feature_37*feature_84     0.067415\n",
              "feature_39*feature_114+feature_39*feature_43     0.066493\n",
              "feature_39*feature_108+feature_39*feature_43     0.066195\n",
              "feature_39*feature_96-feature_37*feature_84      0.064953\n",
              "feature_39*feature_108-feature_37*feature_84     0.064868\n",
              "feature_39*feature_116-feature_0*feature_96      0.064287\n",
              "feature_39*feature_116-feature_96/feature_0      0.064287\n",
              "feature_39*feature_116-feature_108/feature_0     0.063322\n",
              "feature_39*feature_116-feature_0*feature_108     0.063322\n",
              "feature_39*feature_96+feature_39*feature_116     0.063220\n",
              "feature_39*feature_102-feature_0*feature_96      0.062867\n",
              "feature_39*feature_102-feature_96/feature_0      0.062867\n",
              "feature_39*feature_102-feature_0*feature_108     0.062521\n",
              "feature_39*feature_102-feature_108/feature_0     0.062521\n",
              "feature_39*feature_114-feature_0*feature_96      0.062389\n",
              "feature_39*feature_114-feature_96/feature_0      0.062389\n",
              "feature_39*feature_116+feature_39*feature_108    0.061816\n",
              "feature_39*feature_114-feature_108/feature_0     0.061594\n",
              "feature_39*feature_114-feature_0*feature_108     0.061594\n",
              "feature_39*feature_96+feature_39*feature_102     0.061197\n",
              "feature_39*feature_96+feature_39*feature_114     0.060819\n",
              "feature_39*feature_102+feature_39*feature_108    0.060683\n",
              "feature_39*feature_96-feature_0*feature_96       0.060648\n",
              "feature_39*feature_96-feature_96/feature_0       0.060648\n",
              "feature_39*feature_102+feature_39*feature_116    0.060476\n",
              "feature_39*feature_96-feature_0*feature_108      0.060413\n",
              "feature_39*feature_96-feature_108/feature_0      0.060413\n",
              "dtype: float64"
            ]
          },
          "metadata": {
            "tags": []
          },
          "execution_count": 138
        }
      ]
    },
    {
      "cell_type": "code",
      "metadata": {
        "id": "h_rvXc_D4jVP"
      },
      "source": [
        "combined_features"
      ],
      "execution_count": null,
      "outputs": []
    },
    {
      "cell_type": "code",
      "metadata": {
        "id": "lK2NOOju5CWO"
      },
      "source": [
        "t"
      ],
      "execution_count": null,
      "outputs": []
    },
    {
      "cell_type": "markdown",
      "metadata": {
        "id": "3i6Jc7_d5BW9"
      },
      "source": [
        "# REPEAT 1"
      ]
    },
    {
      "cell_type": "code",
      "metadata": {
        "id": "B7NKVRv95EcQ"
      },
      "source": [
        "two_comb = []\n",
        "from itertools import combinations\n",
        "for i in combinations(df1.columns.to_list(), 2):\n",
        "    two_comb.append(i)"
      ],
      "execution_count": 140,
      "outputs": []
    },
    {
      "cell_type": "code",
      "metadata": {
        "id": "3SB5dzGf5EcR",
        "outputId": "d0d42a3e-0f82-48ee-dd47-2dbe1158cfcd",
        "colab": {
          "base_uri": "https://localhost:8080/"
        }
      },
      "source": [
        "len(two_comb)"
      ],
      "execution_count": 145,
      "outputs": [
        {
          "output_type": "execute_result",
          "data": {
            "text/plain": [
              "666"
            ]
          },
          "metadata": {
            "tags": []
          },
          "execution_count": 145
        }
      ]
    },
    {
      "cell_type": "code",
      "metadata": {
        "id": "a_UT-Z7G5EcR"
      },
      "source": [
        "\n",
        "def two_combinations(df):\n",
        "    from google.colab import output\n",
        "    th = 0.06\n",
        "    feature_name =[]\n",
        "    score = []\n",
        "    count = 0\n",
        "    for i in two_comb:\n",
        "        a = i[0]\n",
        "        b = i[1]\n",
        "        # c = i[2]\n",
        "        \n",
        "        df['computed'] = df[a] + df[b]\n",
        "        cor = np.abs(df['computed'].corr(train['resp']))\n",
        "        if cor > th:\n",
        "            f_name = '+'.join([a, b])\n",
        "            feature_name.append(f_name)\n",
        "            score.append(cor)\n",
        "        \n",
        "        df['computed'] = df[a] - df[b]\n",
        "        cor = np.abs(df['computed'].corr(train['resp']))\n",
        "        if cor > th:\n",
        "            f_name = '-'.join([a, b])\n",
        "            feature_name.append(f_name)\n",
        "            score.append(cor)\n",
        "        \n",
        "        df['computed'] = df[a] * df[b]\n",
        "        cor = np.abs(df['computed'].corr(train['resp']))\n",
        "        if cor > th:\n",
        "            f_name = '*'.join([a, b])\n",
        "            feature_name.append(f_name)\n",
        "            score.append(cor)\n",
        "        \n",
        "        \n",
        "        df['computed'] = df[a] / df[b]\n",
        "        cor = np.abs(df['computed'].corr(train['resp']))\n",
        "        if cor > th:\n",
        "            f_name = '/'.join([a, b])\n",
        "            feature_name.append(f_name)\n",
        "            score.append(cor)\n",
        "\n",
        "        df['computed'] = df[b] / df[a]\n",
        "        cor = np.abs(df['computed'].corr(train['resp']))\n",
        "        if cor > th:\n",
        "            f_name = '/'.join([b, a])\n",
        "            feature_name.append(f_name)\n",
        "            score.append(cor)\n",
        "    \n",
        "        count += 1\n",
        "        print(count, \"done out of \", len(two_comb) )\n",
        "        if count % 10 ==0:\n",
        "            output.clear()\n",
        "    result = pd.DataFrame(zip(feature_name, score), columns=['features', 'score']).sort_values(by='score',ascending=False)\n",
        "    return result"
      ],
      "execution_count": 146,
      "outputs": []
    },
    {
      "cell_type": "code",
      "metadata": {
        "id": "ekLOaCDp5oJ_",
        "outputId": "a584d2d7-9bf1-4a13-b6d8-21623a9e398c",
        "colab": {
          "base_uri": "https://localhost:8080/"
        }
      },
      "source": [
        "%%time \n",
        "result2 = two_combinations(df1)"
      ],
      "execution_count": 147,
      "outputs": [
        {
          "output_type": "stream",
          "text": [
            "661 done out of  666\n",
            "662 done out of  666\n",
            "663 done out of  666\n",
            "664 done out of  666\n",
            "665 done out of  666\n",
            "666 done out of  666\n",
            "CPU times: user 2min 14s, sys: 6.29 s, total: 2min 20s\n",
            "Wall time: 2min 11s\n"
          ],
          "name": "stdout"
        }
      ]
    },
    {
      "cell_type": "code",
      "metadata": {
        "id": "OVibCvfJ5van"
      },
      "source": [
        "for i in result2['features']:\n",
        "    print(i)"
      ],
      "execution_count": null,
      "outputs": []
    },
    {
      "cell_type": "code",
      "metadata": {
        "id": "PUlhEYza-WCD",
        "outputId": "671901af-3f0a-4b8d-effe-6eaa0be96670",
        "colab": {
          "base_uri": "https://localhost:8080/"
        }
      },
      "source": [
        "result2[result2['score'] > 0.076]['features'].to_list()"
      ],
      "execution_count": 153,
      "outputs": [
        {
          "output_type": "execute_result",
          "data": {
            "text/plain": [
              "['feature_39*feature_116-feature_37*feature_84-feature_0*feature_96-feature_39*feature_43',\n",
              " 'feature_39*feature_116-feature_37*feature_84-feature_96/feature_0-feature_39*feature_43',\n",
              " 'feature_37*feature_84-feature_39*feature_43-feature_39*feature_116-feature_96/feature_0',\n",
              " 'feature_37*feature_84-feature_39*feature_43-feature_39*feature_116-feature_0*feature_96',\n",
              " 'feature_37*feature_84-feature_39*feature_43-feature_39*feature_116-feature_0*feature_108',\n",
              " 'feature_37*feature_84-feature_39*feature_43-feature_39*feature_116-feature_108/feature_0',\n",
              " 'feature_39*feature_116-feature_37*feature_84+feature_39*feature_43-feature_108/feature_0',\n",
              " 'feature_39*feature_116-feature_37*feature_84+feature_39*feature_43-feature_0*feature_108',\n",
              " 'feature_37*feature_84-feature_39*feature_43-feature_39*feature_116+feature_39*feature_43']"
            ]
          },
          "metadata": {
            "tags": []
          },
          "execution_count": 153
        }
      ]
    },
    {
      "cell_type": "code",
      "metadata": {
        "id": "EOvRBXdv-tHQ"
      },
      "source": [
        ""
      ],
      "execution_count": null,
      "outputs": []
    }
  ]
}