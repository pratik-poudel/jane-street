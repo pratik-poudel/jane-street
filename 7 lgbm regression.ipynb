{
  "nbformat": 4,
  "nbformat_minor": 0,
  "metadata": {
    "colab": {
      "name": "scratchpad",
      "provenance": [],
      "machine_shape": "hm",
      "include_colab_link": true
    },
    "kernelspec": {
      "display_name": "Python 3",
      "name": "python3"
    },
    "accelerator": "GPU"
  },
  "cells": [
    {
      "cell_type": "markdown",
      "metadata": {
        "id": "view-in-github",
        "colab_type": "text"
      },
      "source": [
        "<a href=\"https://colab.research.google.com/github/pratik-poudel/jane-street/blob/main/7%20lgbm%20regression.ipynb\" target=\"_parent\"><img src=\"https://colab.research.google.com/assets/colab-badge.svg\" alt=\"Open In Colab\"/></a>"
      ]
    },
    {
      "cell_type": "code",
      "metadata": {
        "colab": {
          "base_uri": "https://localhost:8080/"
        },
        "id": "lIYdn1woOS1n",
        "outputId": "c83b214b-bab1-492f-c2a2-c5ef71358bf2"
      },
      "source": [
        "!mkdir -p ~/.kaggle\n",
        "!cp kaggle.json ~/.kaggle/\n",
        "!chmod 600 ~/.kaggle/kaggle.json\n",
        "!kaggle datasets download ptrikp/js-parquet -f train.parquet\n",
        "import zipfile\n",
        "zip_ref = zipfile.ZipFile('/content/train.parquet.zip', 'r')\n",
        "zip_ref.extractall('files')\n",
        "zip_ref.close()"
      ],
      "execution_count": 1,
      "outputs": [
        {
          "output_type": "stream",
          "text": [
            "Downloading train.parquet.zip to /content\n",
            "100% 1.07G/1.08G [00:19<00:00, 56.0MB/s]\n",
            "100% 1.08G/1.08G [00:19<00:00, 57.9MB/s]\n"
          ],
          "name": "stdout"
        }
      ]
    },
    {
      "cell_type": "code",
      "metadata": {
        "id": "3Hn5MKCH_EWD"
      },
      "source": [
        "import numpy as np\n",
        "import pandas as pd\n",
        "from collections import defaultdict\n",
        "from tqdm.notebook import tqdm\n",
        "from matplotlib import pyplot as plt\n",
        "import warnings\n",
        "warnings.filterwarnings('ignore')\n",
        "import seaborn as sns\n",
        "import gc\n",
        "# pd.options.display.float_format| = \"{:.2f}\".format\n",
        "pd.options.display.max_columns = 500"
      ],
      "execution_count": 2,
      "outputs": []
    },
    {
      "cell_type": "code",
      "metadata": {
        "id": "GfjEWfnB_G0b",
        "colab": {
          "base_uri": "https://localhost:8080/"
        },
        "outputId": "9135ebb1-b55e-4c57-bc12-44ced8590c05"
      },
      "source": [
        "train = pd.read_parquet('/content/files/train.parquet')\n",
        "train = train.query('date > 85').reset_index(drop = True) \n",
        "train = train[train['weight'] != 0]\n",
        "train.shape"
      ],
      "execution_count": 3,
      "outputs": [
        {
          "output_type": "execute_result",
          "data": {
            "text/plain": [
              "(1571415, 138)"
            ]
          },
          "metadata": {
            "tags": []
          },
          "execution_count": 3
        }
      ]
    },
    {
      "cell_type": "code",
      "metadata": {
        "id": "ZoOEJCR4r0Tn"
      },
      "source": [
        "train.fillna(train.mean(), inplace=True)"
      ],
      "execution_count": 4,
      "outputs": []
    },
    {
      "cell_type": "code",
      "metadata": {
        "id": "dT-F36swAlpQ"
      },
      "source": [
        "features = [f for f in train.columns if 'feature' in f]\n",
        "df_feature = []\n",
        "df_corr = []\n",
        "df_power = []\n",
        "df_orig_corr=[]\n",
        "for j in features:\n",
        "    cor_list = []\n",
        "    power = []\n",
        "    orig_corr = train[j].corr(train['resp'])\n",
        "    df_orig_corr.append(abs(orig_corr))\n",
        "    for i in range(2, 7):\n",
        "        cor = np.power(train[j], i).corr(train['resp'])\n",
        "#         print(j)\n",
        "        cor_list.append(abs(cor))\n",
        "        power.append(i)\n",
        "#         print(i, cor)\n",
        "#     print(cor_list, power)\n",
        "    index_cor = np.argmax(cor_list)\n",
        "    df_feature.append(j)\n",
        "    df_corr.append(cor_list[index_cor])\n",
        "    df_power.append(power[index_cor])"
      ],
      "execution_count": 8,
      "outputs": []
    },
    {
      "cell_type": "code",
      "metadata": {
        "id": "PTdM5qAHAsJA"
      },
      "source": [
        "power_df=pd.concat([pd.DataFrame(df_feature),pd.DataFrame(df_orig_corr), pd.DataFrame(df_corr), pd.DataFrame(df_power)], axis=1)\n",
        "power_df.columns = ['feature', 'orig_corr', 'derived_corr', 'power']"
      ],
      "execution_count": 9,
      "outputs": []
    },
    {
      "cell_type": "code",
      "metadata": {
        "id": "TPIxU4kEQYDv"
      },
      "source": [
        "power_df.to_csv('power_df.csv', index=False)"
      ],
      "execution_count": 118,
      "outputs": []
    },
    {
      "cell_type": "code",
      "metadata": {
        "id": "TjgMXPjTRARu"
      },
      "source": [
        "power_df = pd.read_csv('power_df.csv')"
      ],
      "execution_count": 5,
      "outputs": []
    },
    {
      "cell_type": "code",
      "metadata": {
        "id": "RjLOXYeVBNab"
      },
      "source": [
        "greater_005 = power_df[power_df['derived_corr'] > 0.005]"
      ],
      "execution_count": 6,
      "outputs": []
    },
    {
      "cell_type": "code",
      "metadata": {
        "id": "OrEhdLxkAzYq"
      },
      "source": [
        "greater_than_orig = greater_005[(greater_005['derived_corr'] > greater_005['orig_corr'])]"
      ],
      "execution_count": 7,
      "outputs": []
    },
    {
      "cell_type": "code",
      "metadata": {
        "id": "bibDLP32AvTw"
      },
      "source": [
        "df = pd.DataFrame()\n",
        "for i, j in greater_than_orig[['feature', 'power']].values:\n",
        "    df['power_'+str(i)+'_'+str(j)] = np.power(train[i], j)"
      ],
      "execution_count": 8,
      "outputs": []
    },
    {
      "cell_type": "code",
      "metadata": {
        "id": "WcmMN_VnSgaP"
      },
      "source": [
        "df_cols = train[[f for f in train.columns if 'feature' in f]].corrwith(train['resp']).abs().sort_values(ascending=False)[:16].index.to_list()"
      ],
      "execution_count": 24,
      "outputs": []
    },
    {
      "cell_type": "code",
      "metadata": {
        "id": "XplRbJUuTCT3"
      },
      "source": [
        "for i in df_cols:\n",
        "    df[i] = train[i]"
      ],
      "execution_count": 25,
      "outputs": []
    },
    {
      "cell_type": "code",
      "metadata": {
        "id": "maCGELsGBtPS"
      },
      "source": [
        "df['resp'] = train['resp']\n",
        "df['date'] = train['date']"
      ],
      "execution_count": 27,
      "outputs": []
    },
    {
      "cell_type": "code",
      "metadata": {
        "id": "0b_3bE-gBt3f",
        "outputId": "4b455386-e56d-42e9-c594-e485cbf397a0",
        "colab": {
          "base_uri": "https://localhost:8080/"
        }
      },
      "source": [
        "val = df[df['date'] > 457]\n",
        "tr = df[df['date'] <= 457]\n",
        "val.shape, tr.shape"
      ],
      "execution_count": 28,
      "outputs": [
        {
          "output_type": "execute_result",
          "data": {
            "text/plain": [
              "((197328, 34), (1374087, 34))"
            ]
          },
          "metadata": {
            "tags": []
          },
          "execution_count": 28
        }
      ]
    },
    {
      "cell_type": "code",
      "metadata": {
        "id": "D8Oh6Br2CTef",
        "outputId": "31efdeaf-0a08-4af6-e729-73d9c717c10a",
        "colab": {
          "base_uri": "https://localhost:8080/"
        }
      },
      "source": [
        "x_train = tr.drop(columns=['date', 'resp'])\n",
        "y_train = tr['resp']\n",
        "x_val = val.drop(columns=['date', 'resp'])\n",
        "y_val= val['resp']\n",
        "x_train.shape, y_train.shape, x_val.shape, y_val.shape"
      ],
      "execution_count": 29,
      "outputs": [
        {
          "output_type": "execute_result",
          "data": {
            "text/plain": [
              "((1374087, 32), (1374087,), (197328, 32), (197328,))"
            ]
          },
          "metadata": {
            "tags": []
          },
          "execution_count": 29
        }
      ]
    },
    {
      "cell_type": "code",
      "metadata": {
        "id": "ul6jbAZlCVA2",
        "outputId": "f4f0d89f-b4be-4af2-def1-7d70afb9e02d",
        "colab": {
          "base_uri": "https://localhost:8080/"
        }
      },
      "source": [
        "import lightgbm as lgb\n",
        "train_set = lgb.Dataset(x_train, y_train)\n",
        "val_set = lgb.Dataset(x_val, y_val)\n",
        "evals_result = {}  # to record eval results for plotting\n",
        "params = {'n_estimators':5000,\n",
        "                'boosting_type': 'gbdt',\n",
        "                'objective': 'regression',\n",
        "                'metric': 'rmse',\n",
        "                'subsample': 0.75,\n",
        "                'subsample_freq': 1,\n",
        "                'learning_rate': 0.01,\n",
        "                'feature_fraction': 0.9,\n",
        "                'max_depth': 15,\n",
        "                'lambda_l1': 1,  \n",
        "                'lambda_l2': 1,\n",
        "                'early_stopping_rounds': 100\n",
        "                }\n",
        "model = lgb.train(params, train_set, \n",
        "                    valid_sets=[train_set, val_set], verbose_eval = 100,  evals_result=evals_result)"
      ],
      "execution_count": 40,
      "outputs": [
        {
          "output_type": "stream",
          "text": [
            "Training until validation scores don't improve for 100 rounds.\n",
            "[100]\ttraining's rmse: 0.0268593\tvalid_1's rmse: 0.0269896\n",
            "[200]\ttraining's rmse: 0.0267631\tvalid_1's rmse: 0.0269648\n",
            "[300]\ttraining's rmse: 0.0266924\tvalid_1's rmse: 0.0269496\n",
            "[400]\ttraining's rmse: 0.0266336\tvalid_1's rmse: 0.026938\n",
            "[500]\ttraining's rmse: 0.0265821\tvalid_1's rmse: 0.0269319\n",
            "[600]\ttraining's rmse: 0.0265379\tvalid_1's rmse: 0.0269291\n",
            "[700]\ttraining's rmse: 0.0264963\tvalid_1's rmse: 0.0269262\n",
            "[800]\ttraining's rmse: 0.0264592\tvalid_1's rmse: 0.0269262\n",
            "Early stopping, best iteration is:\n",
            "[769]\ttraining's rmse: 0.0264702\tvalid_1's rmse: 0.0269247\n"
          ],
          "name": "stdout"
        }
      ]
    },
    {
      "cell_type": "code",
      "metadata": {
        "id": "JLaPVJkaC3Ml",
        "outputId": "b826cc65-8cac-4623-a5f6-f0345759e515",
        "colab": {
          "base_uri": "https://localhost:8080/"
        }
      },
      "source": [
        "%%time\n",
        "reg_preds = model.predict(df.drop(columns=['date', 'resp']))"
      ],
      "execution_count": 41,
      "outputs": [
        {
          "output_type": "stream",
          "text": [
            "CPU times: user 1min 25s, sys: 41.2 ms, total: 1min 25s\n",
            "Wall time: 21.9 s\n"
          ],
          "name": "stdout"
        }
      ]
    },
    {
      "cell_type": "code",
      "metadata": {
        "id": "RAyHask1FS6M",
        "outputId": "2e71e634-33d9-4197-c3b6-83268ccf97d8",
        "colab": {
          "base_uri": "https://localhost:8080/"
        }
      },
      "source": [
        "pd.Series(model.predict(x_val)).var()"
      ],
      "execution_count": 58,
      "outputs": [
        {
          "output_type": "execute_result",
          "data": {
            "text/plain": [
              "6.656721907817594e-06"
            ]
          },
          "metadata": {
            "tags": []
          },
          "execution_count": 58
        }
      ]
    },
    {
      "cell_type": "code",
      "metadata": {
        "id": "CnhzX3lWFjkQ",
        "outputId": "e3f7aca3-9e00-44f2-903f-63eaa8646694",
        "colab": {
          "base_uri": "https://localhost:8080/"
        }
      },
      "source": [
        "abs(np.corrcoef(y_val.values, model.predict(x_val))[0][1])"
      ],
      "execution_count": 62,
      "outputs": [
        {
          "output_type": "execute_result",
          "data": {
            "text/plain": [
              "0.10657552929952924"
            ]
          },
          "metadata": {
            "tags": []
          },
          "execution_count": 62
        }
      ]
    },
    {
      "cell_type": "code",
      "metadata": {
        "id": "fneTlKFGDRCH",
        "outputId": "a1a904ff-364c-4523-c536-a73a910f7797",
        "colab": {
          "base_uri": "https://localhost:8080/"
        }
      },
      "source": [
        "pd.Series(model.predict(x_val)).corr(y_val)"
      ],
      "execution_count": 51,
      "outputs": [
        {
          "output_type": "execute_result",
          "data": {
            "text/plain": [
              "nan"
            ]
          },
          "metadata": {
            "tags": []
          },
          "execution_count": 51
        }
      ]
    },
    {
      "cell_type": "code",
      "metadata": {
        "id": "dj-4O1vKDgg_",
        "outputId": "3a12cfb4-5df8-4e12-cb04-44999e1a2ac8",
        "colab": {
          "base_uri": "https://localhost:8080/"
        }
      },
      "source": [
        "train['resp'].values[:10]"
      ],
      "execution_count": 44,
      "outputs": [
        {
          "output_type": "execute_result",
          "data": {
            "text/plain": [
              "array([-0.02143543, -0.00474299,  0.0015269 , -0.00166304,  0.01712119,\n",
              "       -0.00076449, -0.00138518, -0.00820158,  0.00392541,  0.00848051],\n",
              "      dtype=float32)"
            ]
          },
          "metadata": {
            "tags": []
          },
          "execution_count": 44
        }
      ]
    },
    {
      "cell_type": "code",
      "metadata": {
        "id": "RQLkW3K2HQ2L"
      },
      "source": [
        "from hyperopt import fmin, tpe, hp, STATUS_OK, Trials, space_eval"
      ],
      "execution_count": 65,
      "outputs": []
    },
    {
      "cell_type": "code",
      "metadata": {
        "id": "Mfi8dJggEArH"
      },
      "source": [
        "def acc_model(params):                                                                                               \n",
        "    params = {\n",
        "        'objective': 'regression',\n",
        "       'metric': 'rmse',\n",
        "       'n_estimators':5000,\n",
        "        'learning_rate': \"{:.3f}\".format(params['learning_rate']),\n",
        "        'boosting_type': 'gbdt',\n",
        "        'num_leaves': int(params['num_leaves']),\n",
        "        'feature_fraction': '{:.3f}'.format(params['feature_fraction']),\n",
        "        'bagging_fraction': '{:.3f}'.format(params['bagging_fraction']),\n",
        "        'lambda_l1': \"{:.3f}\".format(params['lambda_l1']),\n",
        "        'lambda_l2': \"{:.3f}\".format(params['lambda_l2']),\n",
        "        'max_depth': int(params['max_depth']),\n",
        "        'min_split_gain': \"{:.3f}\".format(params['min_split_gain']),\n",
        "        'min_sum_hessian_in_leaf':\"{:.3f}\".format(params['min_sum_hessian_in_leaf']),\n",
        "        'bagging_freq':int(params['bagging_freq']),\n",
        "        # 'min_data_in_leaf': int(params['min_data_in_leaf']),\n",
        "        # 'max_bin': int(params['max_bin'])\n",
        "    }\n",
        "   \n",
        "    train_set = lgb.Dataset(x_train, y_train)\n",
        "    val_set = lgb.Dataset(x_val, y_val)\n",
        "    model = lgb.train(params, train_set, \n",
        "                    valid_sets=[train_set, val_set], verbose_eval = None, early_stopping_rounds=100)\n",
        "    preds = model.predict(x_val)\n",
        "    cor = np.corrcoef(y_val.values, preds)[0][1]\n",
        "    cor = abs(cor)\n",
        "    print(\"This is correlation between preds and actual ressp: \", cor)\n",
        "    return -cor"
      ],
      "execution_count": 99,
      "outputs": []
    },
    {
      "cell_type": "code",
      "metadata": {
        "id": "hDSjRFG2Hcnq"
      },
      "source": [
        "# Defining Another space to check if optimization occurs\n",
        "space={ 'objective': 'regression',\n",
        "        'metric': 'rmse',\n",
        "       'n_estimators': 5000,\n",
        "        'learning_rate': hp.choice('learning_rate',[0.04, 0.05, 0.07, 0.1, 0.15, 0.2]),\n",
        "        'boosting_type': 'gbdt',\n",
        "        'num_leaves' : hp.choice('num_leaves',list(range(58, 125, 5))),\n",
        "        'feature_fraction': hp.choice('feature_fraction',  [0.6, 0.7,0.8,0.9,1.0]),\n",
        "        'bagging_fraction': hp.choice('bagging_fraction', [1.0]),\n",
        "        'lambda_l1' : hp.choice('lambda_l1',[0]),\n",
        "        'lambda_l2' : hp.choice('lambda_l2', [0, 0.001, 0.01, 0.1]),\n",
        "        'max_depth' : hp.choice('max_depth',[5,10,15,20,25,30,35,40]),\n",
        "        'min_split_gain': hp.choice('min_split_gain',[0.001, 0.01]),\n",
        "        'min_sum_hessian_in_leaf' : hp.choice('min_sum_hessian_in_leaf', [0.001, 0.01]),\n",
        "        'bagging_freq' : hp.choice('bagging_freq',[3, 5]),\n",
        "        # 'min_data_in_leaf': hp.choice('min_data_in_leaf', [1, 10, 20, 30, 50, 70, 100, 120, 150]),\n",
        "            # 'max_bin': hp.choice('max_bin', [63, 127, 255, 511] ),\n",
        "    }"
      ],
      "execution_count": 103,
      "outputs": []
    },
    {
      "cell_type": "code",
      "metadata": {
        "id": "zijMcskZHGRF",
        "outputId": "8b191e74-8767-4b29-9c04-d23fd44cd34a",
        "colab": {
          "base_uri": "https://localhost:8080/"
        }
      },
      "source": [
        "max_evals = 20\n",
        "best = 0\n",
        "def f(params):\n",
        "    global best\n",
        "    acc = acc_model(params)\n",
        "    if acc > best:\n",
        "        best = acc\n",
        "    return {'loss': acc, 'status': STATUS_OK}\n",
        "\n",
        "trials = Trials()\n",
        "best = fmin(f, space, algo=tpe.suggest, max_evals=max_evals, trials=trials, rstate= np.random.RandomState(60)) \n",
        "best_results = space_eval(space, trials.argmin)\n",
        "best_results['max_depth']=int(best['max_depth'])"
      ],
      "execution_count": 104,
      "outputs": [
        {
          "output_type": "stream",
          "text": [
            "This is correlation between preds and actual ressp: \n",
            "0.07724644955975096\n",
            "This is correlation between preds and actual ressp: \n",
            "0.08978571753892149\n",
            "This is correlation between preds and actual ressp: \n",
            "0.09444155165490739\n",
            "This is correlation between preds and actual ressp: \n",
            "0.07875843756890634\n",
            "This is correlation between preds and actual ressp: \n",
            "0.08376143846978575\n",
            "This is correlation between preds and actual ressp: \n",
            "0.08001921120573016\n",
            "This is correlation between preds and actual ressp: \n",
            "0.0880070261336754\n",
            "This is correlation between preds and actual ressp: \n",
            "0.08706502492451641\n",
            "This is correlation between preds and actual ressp: \n",
            "0.1029731945154208\n",
            "This is correlation between preds and actual ressp: \n",
            "0.08025484533768486\n",
            "This is correlation between preds and actual ressp: \n",
            "0.07657993114794527\n",
            "This is correlation between preds and actual ressp: \n",
            "0.08737282871678727\n",
            "This is correlation between preds and actual ressp: \n",
            "0.07294857323553218\n",
            "This is correlation between preds and actual ressp: \n",
            "0.0835939392320675\n",
            "This is correlation between preds and actual ressp: \n",
            "0.08619372418390385\n",
            "This is correlation between preds and actual ressp: \n",
            "0.09083946837712578\n",
            "This is correlation between preds and actual ressp: \n",
            "0.10385153921080957\n",
            "This is correlation between preds and actual ressp: \n",
            "0.09160558783975631\n",
            "This is correlation between preds and actual ressp: \n",
            "0.09248068348127111\n",
            "This is correlation between preds and actual ressp: \n",
            "0.09164216887838156\n",
            "100%|██████████| 20/20 [02:04<00:00,  6.20s/it, best loss: -0.10385153921080957]\n"
          ],
          "name": "stdout"
        }
      ]
    },
    {
      "cell_type": "code",
      "metadata": {
        "id": "8ILblOhEHM4f",
        "outputId": "7acdec01-9f01-4de1-b50d-638d852d256d",
        "colab": {
          "base_uri": "https://localhost:8080/"
        }
      },
      "source": [
        "best_results"
      ],
      "execution_count": 105,
      "outputs": [
        {
          "output_type": "execute_result",
          "data": {
            "text/plain": [
              "{'bagging_fraction': 1.0,\n",
              " 'bagging_freq': 5,\n",
              " 'boosting_type': 'gbdt',\n",
              " 'feature_fraction': 0.8,\n",
              " 'lambda_l1': 0,\n",
              " 'lambda_l2': 0.01,\n",
              " 'learning_rate': 0.07,\n",
              " 'max_depth': 0,\n",
              " 'metric': 'rmse',\n",
              " 'min_split_gain': 0.001,\n",
              " 'min_sum_hessian_in_leaf': 0.01,\n",
              " 'n_estimators': 5000,\n",
              " 'num_leaves': 123,\n",
              " 'objective': 'regression'}"
            ]
          },
          "metadata": {
            "tags": []
          },
          "execution_count": 105
        }
      ]
    },
    {
      "cell_type": "code",
      "metadata": {
        "id": "sZw9A6kCNLMk"
      },
      "source": [
        "import lightgbm as lgb\n",
        "train_set = lgb.Dataset(x_train, y_train)\n",
        "val_set = lgb.Dataset(x_val, y_val)\n",
        "\n",
        "def objective(trial):    \n",
        "    params = {\n",
        "            'num_leaves': trial.suggest_int('num_leaves', 4, 512),\n",
        "            'boosting_type': 'gbdt',\n",
        "            'max_bin': trial.suggest_int('max_bin', 50, 900),\n",
        "            'objective': 'regression',\n",
        "            'metric': 'rmse',\n",
        "            'max_depth': trial.suggest_int('max_depth', 4, 512),\n",
        "            'learning_rate':trial.suggest_uniform('learning_rate', 0.01, 0.9),\n",
        "            'min_child_weight': trial.suggest_int('min_child_weight', 1, 16),\n",
        "            'feature_fraction': trial.suggest_uniform('feature_fraction', 0.4, 1.0),\n",
        "            'bagging_fraction': trial.suggest_uniform('bagging_fraction', 0.4, 1.0),\n",
        "            'bagging_freq': trial.suggest_int('bagging_freq', 1, 8),\n",
        "            'min_child_samples': trial.suggest_int('min_child_samples', 4, 100),\n",
        "            'lambda_l1': trial.suggest_loguniform('lambda_l1', 1e-8, 1.0),\n",
        "            'lambda_l2': trial.suggest_loguniform('lambda_l2', 1e-8, 1.0),\n",
        "            'early_stopping_rounds': 100\n",
        "            }\n",
        "\n",
        "    \n",
        "    model = lgb.train(params, train_set, \n",
        "                    valid_sets=[train_set, val_set], verbose_eval = None, early_stopping_rounds=100)\n",
        "    preds = model.predict(x_val)\n",
        "    cor = np.corrcoef(y_val.values, preds)[0][1]\n",
        "    cor = abs(cor)\n",
        "    # print(\"This is correlation between preds and actual ressp: \", cor)\n",
        "    return cor"
      ],
      "execution_count": 31,
      "outputs": []
    },
    {
      "cell_type": "code",
      "metadata": {
        "id": "kALSBWMDN-eq",
        "outputId": "6683f24f-adb6-4f3f-9a5e-a41064bd088a",
        "colab": {
          "base_uri": "https://localhost:8080/"
        }
      },
      "source": [
        "!pip install optuna"
      ],
      "execution_count": 12,
      "outputs": [
        {
          "output_type": "stream",
          "text": [
            "Installing collected packages: pbr, colorama, pyperclip, cmd2, stevedore, cliff, cmaes, Mako, python-editor, alembic, colorlog, optuna\n",
            "Successfully installed Mako-1.1.4 alembic-1.5.5 cliff-3.7.0 cmaes-0.8.2 cmd2-1.5.0 colorama-0.4.4 colorlog-4.7.2 optuna-2.5.0 pbr-5.5.1 pyperclip-1.8.2 python-editor-1.0.4 stevedore-3.3.0\n"
          ],
          "name": "stdout"
        }
      ]
    },
    {
      "cell_type": "code",
      "metadata": {
        "id": "vmRClnULNzz7",
        "outputId": "8bc278ec-204e-4276-dce7-96991a3a2525",
        "colab": {
          "base_uri": "https://localhost:8080/"
        }
      },
      "source": [
        "import optuna\n",
        "study = optuna.create_study(direction='maximize')\n",
        "study.optimize(objective, n_trials=150)\n",
        "print('Number of finished trials:', len(study.trials))\n",
        "print('Best trial:', study.best_trial.params)"
      ],
      "execution_count": null,
      "outputs": [
        {
          "output_type": "stream",
          "text": [
            "\u001b[32m[I 2021-02-22 10:33:34,246]\u001b[0m A new study created in memory with name: no-name-41ed3a7b-e4e3-425e-9a6b-5c74a020bf53\u001b[0m\n",
            "\u001b[32m[I 2021-02-22 10:34:06,195]\u001b[0m Trial 0 finished with value: 0.08325627328141368 and parameters: {'num_leaves': 375, 'max_bin': 385, 'max_depth': 420, 'learning_rate': 0.08443757451771348, 'min_child_weight': 3, 'feature_fraction': 0.5999540770296483, 'bagging_fraction': 0.9059863523170117, 'bagging_freq': 8, 'min_child_samples': 19, 'lambda_l1': 0.0004992434130278159, 'lambda_l2': 1.2449738085456017e-05}. Best is trial 0 with value: 0.08325627328141368.\u001b[0m\n",
            "\u001b[32m[I 2021-02-22 10:34:54,507]\u001b[0m Trial 1 finished with value: 0.0470532340689203 and parameters: {'num_leaves': 489, 'max_bin': 426, 'max_depth': 215, 'learning_rate': 0.43973257399645715, 'min_child_weight': 8, 'feature_fraction': 0.8571697237689362, 'bagging_fraction': 0.7291950090289263, 'bagging_freq': 5, 'min_child_samples': 69, 'lambda_l1': 0.2709847036085578, 'lambda_l2': 8.384609833580355e-08}. Best is trial 0 with value: 0.08325627328141368.\u001b[0m\n",
            "\u001b[32m[I 2021-02-22 10:35:25,717]\u001b[0m Trial 2 finished with value: 0.016971516241965034 and parameters: {'num_leaves': 450, 'max_bin': 417, 'max_depth': 179, 'learning_rate': 0.7784871291127586, 'min_child_weight': 14, 'feature_fraction': 0.8019578765218822, 'bagging_fraction': 0.710710139661491, 'bagging_freq': 1, 'min_child_samples': 54, 'lambda_l1': 0.101008846068392, 'lambda_l2': 4.745637565339154e-06}. Best is trial 0 with value: 0.08325627328141368.\u001b[0m\n",
            "\u001b[32m[I 2021-02-22 10:36:03,090]\u001b[0m Trial 3 finished with value: 0.049082690612167974 and parameters: {'num_leaves': 510, 'max_bin': 91, 'max_depth': 175, 'learning_rate': 0.2463599160144481, 'min_child_weight': 11, 'feature_fraction': 0.6768752688123614, 'bagging_fraction': 0.6997487434308156, 'bagging_freq': 2, 'min_child_samples': 63, 'lambda_l1': 0.01436071943425213, 'lambda_l2': 0.0012015900427061743}. Best is trial 0 with value: 0.08325627328141368.\u001b[0m\n",
            "\u001b[32m[I 2021-02-22 10:36:33,428]\u001b[0m Trial 4 finished with value: 0.050887679579021315 and parameters: {'num_leaves': 407, 'max_bin': 198, 'max_depth': 50, 'learning_rate': 0.20811751681069043, 'min_child_weight': 3, 'feature_fraction': 0.8259849686950411, 'bagging_fraction': 0.976036991293592, 'bagging_freq': 7, 'min_child_samples': 4, 'lambda_l1': 1.6141559360149193e-08, 'lambda_l2': 9.90191827321679e-07}. Best is trial 0 with value: 0.08325627328141368.\u001b[0m\n",
            "\u001b[32m[I 2021-02-22 10:37:01,070]\u001b[0m Trial 5 finished with value: 0.026367531491631277 and parameters: {'num_leaves': 396, 'max_bin': 853, 'max_depth': 237, 'learning_rate': 0.8420991898509699, 'min_child_weight': 9, 'feature_fraction': 0.48846041890962777, 'bagging_fraction': 0.7930034192227644, 'bagging_freq': 4, 'min_child_samples': 85, 'lambda_l1': 1.560873018661006e-08, 'lambda_l2': 6.388241542878714e-07}. Best is trial 0 with value: 0.08325627328141368.\u001b[0m\n",
            "\u001b[32m[I 2021-02-22 10:37:14,231]\u001b[0m Trial 6 finished with value: 0.033847396512398105 and parameters: {'num_leaves': 59, 'max_bin': 554, 'max_depth': 196, 'learning_rate': 0.8338176315511366, 'min_child_weight': 2, 'feature_fraction': 0.8739784119452795, 'bagging_fraction': 0.40710535932679326, 'bagging_freq': 7, 'min_child_samples': 86, 'lambda_l1': 0.19114625854462486, 'lambda_l2': 1.7568614803599685e-08}. Best is trial 0 with value: 0.08325627328141368.\u001b[0m\n",
            "\u001b[32m[I 2021-02-22 10:38:05,242]\u001b[0m Trial 7 finished with value: 0.08820318625059656 and parameters: {'num_leaves': 320, 'max_bin': 421, 'max_depth': 471, 'learning_rate': 0.039458566249366805, 'min_child_weight': 13, 'feature_fraction': 0.9861699044339405, 'bagging_fraction': 0.4249294292581028, 'bagging_freq': 7, 'min_child_samples': 98, 'lambda_l1': 0.5630777914905988, 'lambda_l2': 1.88386814643906e-08}. Best is trial 7 with value: 0.08820318625059656.\u001b[0m\n",
            "\u001b[32m[I 2021-02-22 10:38:30,375]\u001b[0m Trial 8 finished with value: 0.08816493419506288 and parameters: {'num_leaves': 147, 'max_bin': 405, 'max_depth': 8, 'learning_rate': 0.12370435660415316, 'min_child_weight': 2, 'feature_fraction': 0.4678156606699697, 'bagging_fraction': 0.9362546218218313, 'bagging_freq': 8, 'min_child_samples': 57, 'lambda_l1': 0.5016531498169471, 'lambda_l2': 0.0026860209156848625}. Best is trial 7 with value: 0.08820318625059656.\u001b[0m\n",
            "\u001b[32m[I 2021-02-22 10:38:54,064]\u001b[0m Trial 9 finished with value: 0.039830833019420364 and parameters: {'num_leaves': 331, 'max_bin': 624, 'max_depth': 456, 'learning_rate': 0.3420726059543359, 'min_child_weight': 3, 'feature_fraction': 0.7735992211476024, 'bagging_fraction': 0.6070677433431151, 'bagging_freq': 1, 'min_child_samples': 58, 'lambda_l1': 1.0967499396179256e-06, 'lambda_l2': 0.03084246242619832}. Best is trial 7 with value: 0.08820318625059656.\u001b[0m\n",
            "\u001b[32m[I 2021-02-22 10:39:24,846]\u001b[0m Trial 10 finished with value: 0.018180194661087234 and parameters: {'num_leaves': 231, 'max_bin': 701, 'max_depth': 341, 'learning_rate': 0.620905786434482, 'min_child_weight': 16, 'feature_fraction': 0.9580615876541785, 'bagging_fraction': 0.4063449482592639, 'bagging_freq': 5, 'min_child_samples': 100, 'lambda_l1': 6.029767491301051e-05, 'lambda_l2': 0.9656885421565259}. Best is trial 7 with value: 0.08820318625059656.\u001b[0m\n",
            "\u001b[32m[I 2021-02-22 10:39:48,043]\u001b[0m Trial 11 finished with value: 0.09718507252877026 and parameters: {'num_leaves': 175, 'max_bin': 246, 'max_depth': 85, 'learning_rate': 0.07668621175478696, 'min_child_weight': 12, 'feature_fraction': 0.4154811171600243, 'bagging_fraction': 0.5395832524021448, 'bagging_freq': 8, 'min_child_samples': 30, 'lambda_l1': 0.9659616484722271, 'lambda_l2': 0.0007167582471890335}. Best is trial 11 with value: 0.09718507252877026.\u001b[0m\n",
            "\u001b[32m[I 2021-02-22 10:40:11,304]\u001b[0m Trial 12 finished with value: 0.08925455304796256 and parameters: {'num_leaves': 261, 'max_bin': 244, 'max_depth': 97, 'learning_rate': 0.026779080395155322, 'min_child_weight': 13, 'feature_fraction': 0.5683818471662395, 'bagging_fraction': 0.5170399351642017, 'bagging_freq': 7, 'min_child_samples': 23, 'lambda_l1': 0.0017541855988268125, 'lambda_l2': 0.00011772415275099705}. Best is trial 11 with value: 0.09718507252877026.\u001b[0m\n",
            "\u001b[32m[I 2021-02-22 10:40:30,332]\u001b[0m Trial 13 finished with value: 0.09266331145761295 and parameters: {'num_leaves': 200, 'max_bin': 220, 'max_depth': 86, 'learning_rate': 0.029215093045264727, 'min_child_weight': 16, 'feature_fraction': 0.4121651788386377, 'bagging_fraction': 0.539186238261668, 'bagging_freq': 6, 'min_child_samples': 30, 'lambda_l1': 0.0006892990061183133, 'lambda_l2': 0.00010822777621950403}. Best is trial 11 with value: 0.09718507252877026.\u001b[0m\n",
            "\u001b[32m[I 2021-02-22 10:40:42,111]\u001b[0m Trial 14 finished with value: 0.07221439352166803 and parameters: {'num_leaves': 130, 'max_bin': 79, 'max_depth': 102, 'learning_rate': 0.2086736005532187, 'min_child_weight': 16, 'feature_fraction': 0.4050004504943482, 'bagging_fraction': 0.5359322586355922, 'bagging_freq': 6, 'min_child_samples': 36, 'lambda_l1': 9.02254300256858e-06, 'lambda_l2': 0.0004446945621011197}. Best is trial 11 with value: 0.09718507252877026.\u001b[0m\n",
            "\u001b[32m[I 2021-02-22 10:40:48,541]\u001b[0m Trial 15 finished with value: 0.06342135219016345 and parameters: {'num_leaves': 9, 'max_bin': 254, 'max_depth': 105, 'learning_rate': 0.5970501159965894, 'min_child_weight': 10, 'feature_fraction': 0.4115642364748246, 'bagging_fraction': 0.5295524344174221, 'bagging_freq': 3, 'min_child_samples': 36, 'lambda_l1': 4.0556197454888434e-07, 'lambda_l2': 0.02542423859112013}. Best is trial 11 with value: 0.09718507252877026.\u001b[0m\n",
            "\u001b[32m[I 2021-02-22 10:41:06,850]\u001b[0m Trial 16 finished with value: 0.0673445976715558 and parameters: {'num_leaves': 190, 'max_bin': 177, 'max_depth': 7, 'learning_rate': 0.3457776685162347, 'min_child_weight': 7, 'feature_fraction': 0.5214613238007803, 'bagging_fraction': 0.612820920108625, 'bagging_freq': 6, 'min_child_samples': 39, 'lambda_l1': 0.005029022765394894, 'lambda_l2': 0.01736537198758042}. Best is trial 11 with value: 0.09718507252877026.\u001b[0m\n",
            "\u001b[32m[I 2021-02-22 10:41:22,060]\u001b[0m Trial 17 finished with value: 0.0954629293741417 and parameters: {'num_leaves': 81, 'max_bin': 315, 'max_depth': 296, 'learning_rate': 0.012695656169575659, 'min_child_weight': 15, 'feature_fraction': 0.636914619190054, 'bagging_fraction': 0.47226043817615887, 'bagging_freq': 8, 'min_child_samples': 5, 'lambda_l1': 0.026124951082907518, 'lambda_l2': 3.0298901985814073e-05}. Best is trial 11 with value: 0.09718507252877026.\u001b[0m\n",
            "\u001b[32m[I 2021-02-22 10:41:33,550]\u001b[0m Trial 18 finished with value: 0.07484385450837029 and parameters: {'num_leaves': 82, 'max_bin': 319, 'max_depth': 318, 'learning_rate': 0.13855888901310054, 'min_child_weight': 6, 'feature_fraction': 0.695524342234866, 'bagging_fraction': 0.46733674450087415, 'bagging_freq': 8, 'min_child_samples': 10, 'lambda_l1': 0.016138327884442666, 'lambda_l2': 1.5591517148695222e-05}. Best is trial 11 with value: 0.09718507252877026.\u001b[0m\n",
            "\u001b[32m[I 2021-02-22 10:41:40,862]\u001b[0m Trial 19 finished with value: 0.09570865434820343 and parameters: {'num_leaves': 9, 'max_bin': 526, 'max_depth': 306, 'learning_rate': 0.2881295652914294, 'min_child_weight': 12, 'feature_fraction': 0.6331852630926772, 'bagging_fraction': 0.6025536570164896, 'bagging_freq': 8, 'min_child_samples': 11, 'lambda_l1': 0.04434267921359271, 'lambda_l2': 0.48052707285799384}. Best is trial 11 with value: 0.09718507252877026.\u001b[0m\n",
            "\u001b[32m[I 2021-02-22 10:41:49,687]\u001b[0m Trial 20 finished with value: 0.08511950266898467 and parameters: {'num_leaves': 10, 'max_bin': 546, 'max_depth': 380, 'learning_rate': 0.31958401810115245, 'min_child_weight': 12, 'feature_fraction': 0.7527314804885887, 'bagging_fraction': 0.6614010225427412, 'bagging_freq': 4, 'min_child_samples': 15, 'lambda_l1': 0.052301467417805274, 'lambda_l2': 0.4387197843855946}. Best is trial 11 with value: 0.09718507252877026.\u001b[0m\n",
            "\u001b[32m[I 2021-02-22 10:42:05,088]\u001b[0m Trial 21 finished with value: 0.09775167029717563 and parameters: {'num_leaves': 65, 'max_bin': 316, 'max_depth': 272, 'learning_rate': 0.143302396438332, 'min_child_weight': 14, 'feature_fraction': 0.6294898793320747, 'bagging_fraction': 0.5943093681793497, 'bagging_freq': 8, 'min_child_samples': 4, 'lambda_l1': 0.9214725004520771, 'lambda_l2': 0.19175137169142392}. Best is trial 21 with value: 0.09775167029717563.\u001b[0m\n",
            "\u001b[32m[I 2021-02-22 10:42:17,122]\u001b[0m Trial 22 finished with value: 0.07449832841107229 and parameters: {'num_leaves': 44, 'max_bin': 492, 'max_depth': 261, 'learning_rate': 0.4412516181944465, 'min_child_weight': 12, 'feature_fraction': 0.5695094650915983, 'bagging_fraction': 0.6052549373885043, 'bagging_freq': 8, 'min_child_samples': 25, 'lambda_l1': 0.986124874145528, 'lambda_l2': 0.14369379736199053}. Best is trial 21 with value: 0.09775167029717563.\u001b[0m\n",
            "\u001b[32m[I 2021-02-22 10:42:37,558]\u001b[0m Trial 23 finished with value: 0.06848915303567035 and parameters: {'num_leaves': 134, 'max_bin': 667, 'max_depth': 277, 'learning_rate': 0.2790924858278717, 'min_child_weight': 14, 'feature_fraction': 0.6567550737589833, 'bagging_fraction': 0.580161892888984, 'bagging_freq': 7, 'min_child_samples': 12, 'lambda_l1': 0.8986461376225041, 'lambda_l2': 0.12737199008152275}. Best is trial 21 with value: 0.09775167029717563.\u001b[0m\n",
            "\u001b[32m[I 2021-02-22 10:42:52,851]\u001b[0m Trial 24 finished with value: 0.07349310102981484 and parameters: {'num_leaves': 113, 'max_bin': 308, 'max_depth': 354, 'learning_rate': 0.15888105120062407, 'min_child_weight': 10, 'feature_fraction': 0.7431171472624084, 'bagging_fraction': 0.6515078706269043, 'bagging_freq': 8, 'min_child_samples': 6, 'lambda_l1': 0.07631288199009352, 'lambda_l2': 0.005112249888860297}. Best is trial 21 with value: 0.09775167029717563.\u001b[0m\n",
            "\u001b[32m[I 2021-02-22 10:43:02,170]\u001b[0m Trial 25 finished with value: 0.09834515378399944 and parameters: {'num_leaves': 15, 'max_bin': 502, 'max_depth': 393, 'learning_rate': 0.18077569746828442, 'min_child_weight': 12, 'feature_fraction': 0.6038587782496667, 'bagging_fraction': 0.773992054367958, 'bagging_freq': 6, 'min_child_samples': 28, 'lambda_l1': 0.004527268236592813, 'lambda_l2': 0.8736361119621309}. Best is trial 25 with value: 0.09834515378399944.\u001b[0m\n",
            "\u001b[32m[I 2021-02-22 10:43:21,955]\u001b[0m Trial 26 finished with value: 0.08663685361203904 and parameters: {'num_leaves': 175, 'max_bin': 149, 'max_depth': 419, 'learning_rate': 0.0928094131633505, 'min_child_weight': 14, 'feature_fraction': 0.534734124703504, 'bagging_fraction': 0.8075750204566554, 'bagging_freq': 6, 'min_child_samples': 46, 'lambda_l1': 8.356915408105638e-05, 'lambda_l2': 0.09698695198436638}. Best is trial 25 with value: 0.09834515378399944.\u001b[0m\n",
            "\u001b[32m[I 2021-02-22 10:43:32,958]\u001b[0m Trial 27 finished with value: 0.09107452284622572 and parameters: {'num_leaves': 43, 'max_bin': 778, 'max_depth': 507, 'learning_rate': 0.18224116174844918, 'min_child_weight': 11, 'feature_fraction': 0.46911315748459403, 'bagging_fraction': 0.7873235539471125, 'bagging_freq': 5, 'min_child_samples': 45, 'lambda_l1': 0.0023623590000154456, 'lambda_l2': 0.0004780394377891066}. Best is trial 25 with value: 0.09834515378399944.\u001b[0m\n",
            "\u001b[32m[I 2021-02-22 10:43:53,165]\u001b[0m Trial 28 finished with value: 0.04011704601691868 and parameters: {'num_leaves': 269, 'max_bin': 358, 'max_depth': 148, 'learning_rate': 0.3786952999608897, 'min_child_weight': 15, 'feature_fraction': 0.6033529546535432, 'bagging_fraction': 0.8576230670131306, 'bagging_freq': 7, 'min_child_samples': 29, 'lambda_l1': 0.0002567617235322851, 'lambda_l2': 0.007014685310658831}. Best is trial 25 with value: 0.09834515378399944.\u001b[0m\n",
            "\u001b[32m[I 2021-02-22 10:44:12,944]\u001b[0m Trial 29 finished with value: 0.09423061786973448 and parameters: {'num_leaves': 163, 'max_bin': 133, 'max_depth': 392, 'learning_rate': 0.07610916503522108, 'min_child_weight': 10, 'feature_fraction': 0.7169350781408319, 'bagging_fraction': 0.6761369352455056, 'bagging_freq': 6, 'min_child_samples': 19, 'lambda_l1': 9.952411427677167e-06, 'lambda_l2': 0.9673515926357462}. Best is trial 25 with value: 0.09834515378399944.\u001b[0m\n",
            "\u001b[32m[I 2021-02-22 10:44:25,719]\u001b[0m Trial 30 finished with value: 0.030086653970964803 and parameters: {'num_leaves': 97, 'max_bin': 602, 'max_depth': 449, 'learning_rate': 0.5264252202851188, 'min_child_weight': 13, 'feature_fraction': 0.5988036681274148, 'bagging_fraction': 0.748513406246984, 'bagging_freq': 7, 'min_child_samples': 44, 'lambda_l1': 0.002755583916253007, 'lambda_l2': 0.0732646518223661}. Best is trial 25 with value: 0.09834515378399944.\u001b[0m\n",
            "\u001b[32m[I 2021-02-22 10:44:32,996]\u001b[0m Trial 31 finished with value: 0.09399811893417982 and parameters: {'num_leaves': 12, 'max_bin': 527, 'max_depth': 302, 'learning_rate': 0.2441356974911245, 'min_child_weight': 12, 'feature_fraction': 0.6330656834448388, 'bagging_fraction': 0.5732539944313312, 'bagging_freq': 8, 'min_child_samples': 18, 'lambda_l1': 0.007539189680739713, 'lambda_l2': 0.43997106974909506}. Best is trial 25 with value: 0.09834515378399944.\u001b[0m\n",
            "\u001b[32m[I 2021-02-22 10:44:41,800]\u001b[0m Trial 32 finished with value: 0.08991701163727145 and parameters: {'num_leaves': 34, 'max_bin': 482, 'max_depth': 236, 'learning_rate': 0.28369767344847063, 'min_child_weight': 11, 'feature_fraction': 0.6019658581519575, 'bagging_fraction': 0.4855906047261348, 'bagging_freq': 8, 'min_child_samples': 25, 'lambda_l1': 0.21514747750779864, 'lambda_l2': 0.3343984991574491}. Best is trial 25 with value: 0.09834515378399944.\u001b[0m\n",
            "\u001b[32m[I 2021-02-22 10:44:54,021]\u001b[0m Trial 33 finished with value: 0.09521452682435068 and parameters: {'num_leaves': 67, 'max_bin': 371, 'max_depth': 335, 'learning_rate': 0.09231059408162252, 'min_child_weight': 8, 'feature_fraction': 0.5414613516685992, 'bagging_fraction': 0.6366817776623657, 'bagging_freq': 7, 'min_child_samples': 10, 'lambda_l1': 0.044555069304832426, 'lambda_l2': 0.9278839840470635}. Best is trial 25 with value: 0.09834515378399944.\u001b[0m\n",
            "\u001b[32m[I 2021-02-22 10:45:01,896]\u001b[0m Trial 34 finished with value: 0.09106263558666942 and parameters: {'num_leaves': 6, 'max_bin': 442, 'max_depth': 373, 'learning_rate': 0.4043806855188721, 'min_child_weight': 15, 'feature_fraction': 0.6726388414567965, 'bagging_fraction': 0.7242733337239955, 'bagging_freq': 8, 'min_child_samples': 29, 'lambda_l1': 0.150992221220069, 'lambda_l2': 0.040213333762872706}. Best is trial 25 with value: 0.09834515378399944.\u001b[0m\n",
            "\u001b[32m[I 2021-02-22 10:45:20,617]\u001b[0m Trial 35 finished with value: 0.07992122780960491 and parameters: {'num_leaves': 102, 'max_bin': 273, 'max_depth': 406, 'learning_rate': 0.22465890283578752, 'min_child_weight': 14, 'feature_fraction': 0.712288664077866, 'bagging_fraction': 0.5662878828072253, 'bagging_freq': 5, 'min_child_samples': 19, 'lambda_l1': 0.9811329732469977, 'lambda_l2': 0.30131848279965356}. Best is trial 25 with value: 0.09834515378399944.\u001b[0m\n",
            "\u001b[32m[I 2021-02-22 10:45:40,418]\u001b[0m Trial 36 finished with value: 0.06486768517039929 and parameters: {'num_leaves': 220, 'max_bin': 470, 'max_depth': 231, 'learning_rate': 0.16322669835171347, 'min_child_weight': 9, 'feature_fraction': 0.640767664464185, 'bagging_fraction': 0.8552594164072962, 'bagging_freq': 8, 'min_child_samples': 5, 'lambda_l1': 0.014594883115899676, 'lambda_l2': 1.3199786430499915e-06}. Best is trial 25 with value: 0.09834515378399944.\u001b[0m\n",
            "\u001b[32m[I 2021-02-22 10:45:49,718]\u001b[0m Trial 37 finished with value: 0.06824370722817823 and parameters: {'num_leaves': 29, 'max_bin': 577, 'max_depth': 162, 'learning_rate': 0.49444472775212567, 'min_child_weight': 12, 'feature_fraction': 0.5017225557172953, 'bagging_fraction': 0.7604981927333775, 'bagging_freq': 7, 'min_child_samples': 32, 'lambda_l1': 0.3170615271432614, 'lambda_l2': 0.01471758261064922}. Best is trial 25 with value: 0.09834515378399944.\u001b[0m\n",
            "\u001b[32m[I 2021-02-22 10:46:21,548]\u001b[0m Trial 38 finished with value: 0.04804798528564558 and parameters: {'num_leaves': 292, 'max_bin': 373, 'max_depth': 199, 'learning_rate': 0.2869296009890758, 'min_child_weight': 13, 'feature_fraction': 0.8720801023574647, 'bagging_fraction': 0.7108845226009678, 'bagging_freq': 4, 'min_child_samples': 68, 'lambda_l1': 0.09932472917375632, 'lambda_l2': 0.0007335203104145459}. Best is trial 25 with value: 0.09834515378399944.\u001b[0m\n",
            "\u001b[32m[I 2021-02-22 10:46:34,943]\u001b[0m Trial 39 finished with value: 0.09665014864519683 and parameters: {'num_leaves': 70, 'max_bin': 521, 'max_depth': 283, 'learning_rate': 0.07492440399406466, 'min_child_weight': 5, 'feature_fraction': 0.5783237296950363, 'bagging_fraction': 0.6832929397251458, 'bagging_freq': 6, 'min_child_samples': 14, 'lambda_l1': 0.038535562445103616, 'lambda_l2': 1.591159010975448e-07}. Best is trial 25 with value: 0.09834515378399944.\u001b[0m\n",
            "\u001b[32m[I 2021-02-22 10:46:51,380]\u001b[0m Trial 40 finished with value: 0.09295154184377412 and parameters: {'num_leaves': 121, 'max_bin': 638, 'max_depth': 265, 'learning_rate': 0.06612115680639638, 'min_child_weight': 5, 'feature_fraction': 0.45914814738653364, 'bagging_fraction': 0.6891487179907742, 'bagging_freq': 6, 'min_child_samples': 51, 'lambda_l1': 0.0010659875749968089, 'lambda_l2': 2.00886614826362e-07}. Best is trial 25 with value: 0.09834515378399944.\u001b[0m\n",
            "\u001b[32m[I 2021-02-22 10:47:03,481]\u001b[0m Trial 41 finished with value: 0.08962669255770969 and parameters: {'num_leaves': 61, 'max_bin': 505, 'max_depth': 289, 'learning_rate': 0.1343379838720402, 'min_child_weight': 5, 'feature_fraction': 0.5744461157761223, 'bagging_fraction': 0.6300988000434954, 'bagging_freq': 3, 'min_child_samples': 14, 'lambda_l1': 0.0064436037239705025, 'lambda_l2': 6.5623310501364846e-06}. Best is trial 25 with value: 0.09834515378399944.\u001b[0m\n",
            "\u001b[32m[I 2021-02-22 10:47:17,953]\u001b[0m Trial 42 finished with value: 0.09096713408587404 and parameters: {'num_leaves': 88, 'max_bin': 450, 'max_depth': 313, 'learning_rate': 0.10830935133604094, 'min_child_weight': 1, 'feature_fraction': 0.6197919891864154, 'bagging_fraction': 0.5050460961586403, 'bagging_freq': 5, 'min_child_samples': 9, 'lambda_l1': 0.3944307965700759, 'lambda_l2': 9.567593698943643e-08}. Best is trial 25 with value: 0.09834515378399944.\u001b[0m\n",
            "\u001b[32m[I 2021-02-22 10:47:28,870]\u001b[0m Trial 43 finished with value: 0.08989232050936588 and parameters: {'num_leaves': 56, 'max_bin': 703, 'max_depth': 359, 'learning_rate': 0.19433864655544292, 'min_child_weight': 11, 'feature_fraction': 0.681138683851614, 'bagging_fraction': 0.5597660838563557, 'bagging_freq': 7, 'min_child_samples': 21, 'lambda_l1': 0.039959933729584333, 'lambda_l2': 4.428314371228899e-05}. Best is trial 25 with value: 0.09834515378399944.\u001b[0m\n",
            "\u001b[32m[I 2021-02-22 10:47:49,257]\u001b[0m Trial 44 finished with value: 0.09887824735750592 and parameters: {'num_leaves': 146, 'max_bin': 577, 'max_depth': 217, 'learning_rate': 0.040680524674420654, 'min_child_weight': 9, 'feature_fraction': 0.564383968633177, 'bagging_fraction': 0.6865007252084582, 'bagging_freq': 7, 'min_child_samples': 16, 'lambda_l1': 0.12619272333228138, 'lambda_l2': 0.0024164439068994543}. Best is trial 44 with value: 0.09887824735750592.\u001b[0m\n",
            "\u001b[32m[I 2021-02-22 10:48:10,193]\u001b[0m Trial 45 finished with value: 0.09862651635316735 and parameters: {'num_leaves': 157, 'max_bin': 409, 'max_depth': 48, 'learning_rate': 0.05959120823682394, 'min_child_weight': 9, 'feature_fraction': 0.5552478019763597, 'bagging_fraction': 0.8222906738886964, 'bagging_freq': 6, 'min_child_samples': 16, 'lambda_l1': 0.17209516381584966, 'lambda_l2': 0.0018931978583912477}. Best is trial 44 with value: 0.09887824735750592.\u001b[0m\n",
            "\u001b[32m[I 2021-02-22 10:48:39,536]\u001b[0m Trial 46 finished with value: 0.0880341598639384 and parameters: {'num_leaves': 224, 'max_bin': 417, 'max_depth': 56, 'learning_rate': 0.04524527091008367, 'min_child_weight': 9, 'feature_fraction': 0.5461599897568062, 'bagging_fraction': 0.8381071636214315, 'bagging_freq': 7, 'min_child_samples': 25, 'lambda_l1': 0.38446807107800146, 'lambda_l2': 0.0022624309581940477}. Best is trial 44 with value: 0.09887824735750592.\u001b[0m\n",
            "\u001b[32m[I 2021-02-22 10:49:02,288]\u001b[0m Trial 47 finished with value: 0.09434259638128188 and parameters: {'num_leaves': 158, 'max_bin': 336, 'max_depth': 36, 'learning_rate': 0.02369249511692945, 'min_child_weight': 7, 'feature_fraction': 0.4330872222463208, 'bagging_fraction': 0.9454914147541384, 'bagging_freq': 6, 'min_child_samples': 33, 'lambda_l1': 0.13542224346602882, 'lambda_l2': 0.00023395597636802069}. Best is trial 44 with value: 0.09887824735750592.\u001b[0m\n",
            "\u001b[32m[I 2021-02-22 10:49:23,886]\u001b[0m Trial 48 finished with value: 0.05330088986391983 and parameters: {'num_leaves': 141, 'max_bin': 212, 'max_depth': 127, 'learning_rate': 0.7297252708277948, 'min_child_weight': 8, 'feature_fraction': 0.5041869791231283, 'bagging_fraction': 0.894989089426754, 'bagging_freq': 5, 'min_child_samples': 40, 'lambda_l1': 0.9270789415476488, 'lambda_l2': 0.0033273807050307595}. Best is trial 44 with value: 0.09887824735750592.\u001b[0m\n",
            "\u001b[32m[I 2021-02-22 10:49:39,577]\u001b[0m Trial 49 finished with value: 0.06886555593516702 and parameters: {'num_leaves': 197, 'max_bin': 284, 'max_depth': 62, 'learning_rate': 0.12190650226070775, 'min_child_weight': 9, 'feature_fraction': 0.4429968981633692, 'bagging_fraction': 0.7532966817217025, 'bagging_freq': 7, 'min_child_samples': 16, 'lambda_l1': 0.0002945051048955157, 'lambda_l2': 0.00206489632443834}. Best is trial 44 with value: 0.09887824735750592.\u001b[0m\n",
            "\u001b[32m[I 2021-02-22 10:50:05,106]\u001b[0m Trial 50 finished with value: 0.09406752500125283 and parameters: {'num_leaves': 170, 'max_bin': 402, 'max_depth': 127, 'learning_rate': 0.019314689446237307, 'min_child_weight': 10, 'feature_fraction': 0.5533310351988663, 'bagging_fraction': 0.8162130809566216, 'bagging_freq': 6, 'min_child_samples': 23, 'lambda_l1': 0.21292027111529432, 'lambda_l2': 0.0001926371307212602}. Best is trial 44 with value: 0.09887824735750592.\u001b[0m\n",
            "\u001b[32m[I 2021-02-22 10:50:21,341]\u001b[0m Trial 51 finished with value: 0.09261254822532494 and parameters: {'num_leaves': 119, 'max_bin': 594, 'max_depth': 201, 'learning_rate': 0.059408340785242854, 'min_child_weight': 4, 'feature_fraction': 0.5849089671946365, 'bagging_fraction': 0.7387705580088761, 'bagging_freq': 6, 'min_child_samples': 4, 'lambda_l1': 0.014077813943943186, 'lambda_l2': 0.001085881517903362}. Best is trial 44 with value: 0.09887824735750592.\u001b[0m\n",
            "\u001b[32m[I 2021-02-22 10:50:38,373]\u001b[0m Trial 52 finished with value: 0.0776090612487457 and parameters: {'num_leaves': 147, 'max_bin': 553, 'max_depth': 26, 'learning_rate': 0.08745904382259787, 'min_child_weight': 8, 'feature_fraction': 0.5195451284324064, 'bagging_fraction': 0.7899799377710423, 'bagging_freq': 7, 'min_child_samples': 15, 'lambda_l1': 0.0940054220234119, 'lambda_l2': 0.008569275927820023}. Best is trial 44 with value: 0.09887824735750592.\u001b[0m\n",
            "\u001b[32m[I 2021-02-22 10:51:11,181]\u001b[0m Trial 53 finished with value: 0.07041667507899824 and parameters: {'num_leaves': 244, 'max_bin': 446, 'max_depth': 76, 'learning_rate': 0.1642372624985599, 'min_child_weight': 7, 'feature_fraction': 0.6675767367564077, 'bagging_fraction': 0.7739373302372289, 'bagging_freq': 6, 'min_child_samples': 81, 'lambda_l1': 0.5423789156848263, 'lambda_l2': 7.710304672249656e-05}. Best is trial 44 with value: 0.09887824735750592.\u001b[0m\n",
            "\u001b[32m[I 2021-02-22 10:51:23,854]\u001b[0m Trial 54 finished with value: 0.09528742003770935 and parameters: {'num_leaves': 70, 'max_bin': 511, 'max_depth': 248, 'learning_rate': 0.014214619156874858, 'min_child_weight': 11, 'feature_fraction': 0.480310505249353, 'bagging_fraction': 0.43712995769706153, 'bagging_freq': 5, 'min_child_samples': 7, 'lambda_l1': 0.023395699013261755, 'lambda_l2': 0.04613962052608467}. Best is trial 44 with value: 0.09887824735750592.\u001b[0m\n",
            "\u001b[32m[I 2021-02-22 10:51:42,145]\u001b[0m Trial 55 finished with value: 0.08162649863992058 and parameters: {'num_leaves': 179, 'max_bin': 345, 'max_depth': 175, 'learning_rate': 0.1314036431603902, 'min_child_weight': 6, 'feature_fraction': 0.613323731791741, 'bagging_fraction': 0.6956593356985714, 'bagging_freq': 6, 'min_child_samples': 21, 'lambda_l1': 0.07389745662076502, 'lambda_l2': 1.2379923558819398e-08}. Best is trial 44 with value: 0.09887824735750592.\u001b[0m\n",
            "\u001b[32m[I 2021-02-22 10:52:09,674]\u001b[0m Trial 56 finished with value: 0.09499221092577599 and parameters: {'num_leaves': 206, 'max_bin': 50, 'max_depth': 217, 'learning_rate': 0.0493976393191852, 'min_child_weight': 13, 'feature_fraction': 0.5639159930392621, 'bagging_fraction': 0.6737964930479952, 'bagging_freq': 7, 'min_child_samples': 27, 'lambda_l1': 0.5714388857248893, 'lambda_l2': 0.00030873227576738076}. Best is trial 44 with value: 0.09887824735750592.\u001b[0m\n",
            "\u001b[32m[I 2021-02-22 10:52:41,957]\u001b[0m Trial 57 finished with value: 0.062319200110675044 and parameters: {'num_leaves': 450, 'max_bin': 396, 'max_depth': 482, 'learning_rate': 0.22320703666705033, 'min_child_weight': 10, 'feature_fraction': 0.8126470147763993, 'bagging_fraction': 0.891190254898125, 'bagging_freq': 8, 'min_child_samples': 12, 'lambda_l1': 0.008690592272958252, 'lambda_l2': 0.001141144231043752}. Best is trial 44 with value: 0.09887824735750592.\u001b[0m\n",
            "\u001b[32m[I 2021-02-22 10:52:56,316]\u001b[0m Trial 58 finished with value: 0.0807683518414622 and parameters: {'num_leaves': 115, 'max_bin': 667, 'max_depth': 338, 'learning_rate': 0.1860996276531305, 'min_child_weight': 2, 'feature_fraction': 0.5857761679571928, 'bagging_fraction': 0.7103581870098186, 'bagging_freq': 7, 'min_child_samples': 36, 'lambda_l1': 0.02405794009432557, 'lambda_l2': 0.010721682397709965}. Best is trial 44 with value: 0.09887824735750592.\u001b[0m\n",
            "\u001b[32m[I 2021-02-22 10:53:05,490]\u001b[0m Trial 59 finished with value: 0.10598564896528928 and parameters: {'num_leaves': 24, 'max_bin': 249, 'max_depth': 20, 'learning_rate': 0.10660000533139605, 'min_child_weight': 15, 'feature_fraction': 0.5097707425106522, 'bagging_fraction': 0.5904681491450225, 'bagging_freq': 5, 'min_child_samples': 8, 'lambda_l1': 0.18434957277707828, 'lambda_l2': 2.3209222435369003e-06}. Best is trial 59 with value: 0.10598564896528928.\u001b[0m\n",
            "\u001b[32m[I 2021-02-22 10:53:14,293]\u001b[0m Trial 60 finished with value: 0.10125862938806343 and parameters: {'num_leaves': 24, 'max_bin': 234, 'max_depth': 20, 'learning_rate': 0.11292158779534574, 'min_child_weight': 15, 'feature_fraction': 0.4905503804865024, 'bagging_fraction': 0.5524387032468989, 'bagging_freq': 5, 'min_child_samples': 8, 'lambda_l1': 0.25916691712825674, 'lambda_l2': 2.6143796600230535e-06}. Best is trial 59 with value: 0.10598564896528928.\u001b[0m\n",
            "\u001b[32m[I 2021-02-22 10:53:23,936]\u001b[0m Trial 61 finished with value: 0.10172275839202284 and parameters: {'num_leaves': 28, 'max_bin': 238, 'max_depth': 19, 'learning_rate': 0.10480168579744427, 'min_child_weight': 15, 'feature_fraction': 0.5192589101927401, 'bagging_fraction': 0.5554039429288923, 'bagging_freq': 4, 'min_child_samples': 9, 'lambda_l1': 0.22867111300863277, 'lambda_l2': 2.367674498335742e-06}. Best is trial 59 with value: 0.10598564896528928.\u001b[0m\n",
            "\u001b[32m[I 2021-02-22 10:53:33,894]\u001b[0m Trial 62 finished with value: 0.09941027041587144 and parameters: {'num_leaves': 30, 'max_bin': 189, 'max_depth': 20, 'learning_rate': 0.11482033403719516, 'min_child_weight': 16, 'feature_fraction': 0.5210648089426445, 'bagging_fraction': 0.5919042773243666, 'bagging_freq': 4, 'min_child_samples': 7, 'lambda_l1': 0.20670960150714257, 'lambda_l2': 1.7750390513580781e-06}. Best is trial 59 with value: 0.10598564896528928.\u001b[0m\n",
            "\u001b[32m[I 2021-02-22 10:53:47,100]\u001b[0m Trial 63 finished with value: 0.0999680338908453 and parameters: {'num_leaves': 350, 'max_bin': 184, 'max_depth': 5, 'learning_rate': 0.10301537149617591, 'min_child_weight': 16, 'feature_fraction': 0.5237599876907408, 'bagging_fraction': 0.5525815839037744, 'bagging_freq': 4, 'min_child_samples': 8, 'lambda_l1': 0.16675692401469408, 'lambda_l2': 1.6734678633992472e-06}. Best is trial 59 with value: 0.10598564896528928.\u001b[0m\n",
            "\u001b[32m[I 2021-02-22 10:54:12,082]\u001b[0m Trial 64 finished with value: 0.08469019312850028 and parameters: {'num_leaves': 365, 'max_bin': 186, 'max_depth': 9, 'learning_rate': 0.10956640980019584, 'min_child_weight': 16, 'feature_fraction': 0.5023254621439265, 'bagging_fraction': 0.5127810180760708, 'bagging_freq': 3, 'min_child_samples': 7, 'lambda_l1': 0.19953908001412055, 'lambda_l2': 2.888083568492329e-06}. Best is trial 59 with value: 0.10598564896528928.\u001b[0m\n",
            "\u001b[32m[I 2021-02-22 10:54:37,808]\u001b[0m Trial 65 finished with value: 0.062224140489333495 and parameters: {'num_leaves': 390, 'max_bin': 115, 'max_depth': 21, 'learning_rate': 0.10354415030242706, 'min_child_weight': 15, 'feature_fraction': 0.5326936934550922, 'bagging_fraction': 0.5529770906485252, 'bagging_freq': 4, 'min_child_samples': 8, 'lambda_l1': 0.13298646816554144, 'lambda_l2': 5.782384401521221e-07}. Best is trial 59 with value: 0.10598564896528928.\u001b[0m\n",
            "\u001b[32m[I 2021-02-22 10:55:06,389]\u001b[0m Trial 66 finished with value: 0.08890266659816101 and parameters: {'num_leaves': 326, 'max_bin': 167, 'max_depth': 41, 'learning_rate': 0.04108624611885423, 'min_child_weight': 16, 'feature_fraction': 0.48867973683441546, 'bagging_fraction': 0.6216668301973662, 'bagging_freq': 4, 'min_child_samples': 4, 'lambda_l1': 0.334300198101206, 'lambda_l2': 2.3368019321113065e-06}. Best is trial 59 with value: 0.10598564896528928.\u001b[0m\n",
            "\u001b[32m[I 2021-02-22 10:55:22,353]\u001b[0m Trial 67 finished with value: 0.09439628087180585 and parameters: {'num_leaves': 425, 'max_bin': 231, 'max_depth': 6, 'learning_rate': 0.13867398303531475, 'min_child_weight': 15, 'feature_fraction': 0.4510364784219084, 'bagging_fraction': 0.5878402332842505, 'bagging_freq': 3, 'min_child_samples': 12, 'lambda_l1': 0.07123860059005012, 'lambda_l2': 1.0799354121916486e-05}. Best is trial 59 with value: 0.10598564896528928.\u001b[0m\n",
            "\u001b[32m[I 2021-02-22 10:56:03,563]\u001b[0m Trial 68 finished with value: 0.03134955602796188 and parameters: {'num_leaves': 497, 'max_bin': 84, 'max_depth': 65, 'learning_rate': 0.8963367100763336, 'min_child_weight': 16, 'feature_fraction': 0.5251215797418605, 'bagging_fraction': 0.5417561030281993, 'bagging_freq': 4, 'min_child_samples': 16, 'lambda_l1': 0.5892542402284071, 'lambda_l2': 4.052768832762656e-07}. Best is trial 59 with value: 0.10598564896528928.\u001b[0m\n",
            "\u001b[32m[I 2021-02-22 10:56:26,412]\u001b[0m Trial 69 finished with value: 0.06930287922533174 and parameters: {'num_leaves': 359, 'max_bin': 271, 'max_depth': 25, 'learning_rate': 0.16006581817302992, 'min_child_weight': 15, 'feature_fraction': 0.42708571802698025, 'bagging_fraction': 0.6462540244234835, 'bagging_freq': 4, 'min_child_samples': 11, 'lambda_l1': 0.242260808001703, 'lambda_l2': 1.248199080075969e-06}. Best is trial 59 with value: 0.10598564896528928.\u001b[0m\n",
            "\u001b[32m[I 2021-02-22 10:56:38,421]\u001b[0m Trial 70 finished with value: 0.08629285843405464 and parameters: {'num_leaves': 29, 'max_bin': 205, 'max_depth': 5, 'learning_rate': 0.2527526046077994, 'min_child_weight': 14, 'feature_fraction': 0.5109632726052251, 'bagging_fraction': 0.4964774139313314, 'bagging_freq': 4, 'min_child_samples': 4, 'lambda_l1': 2.6666411870602692e-08, 'lambda_l2': 5.3669115459680054e-06}. Best is trial 59 with value: 0.10598564896528928.\u001b[0m\n",
            "\u001b[32m[I 2021-02-22 10:56:46,874]\u001b[0m Trial 71 finished with value: 0.10856472976605817 and parameters: {'num_leaves': 20, 'max_bin': 159, 'max_depth': 40, 'learning_rate': 0.056922973283869915, 'min_child_weight': 16, 'feature_fraction': 0.48586505207783937, 'bagging_fraction': 0.524686219954548, 'bagging_freq': 5, 'min_child_samples': 18, 'lambda_l1': 0.14720471321664233, 'lambda_l2': 1.722335081437342e-05}. Best is trial 71 with value: 0.10856472976605817.\u001b[0m\n",
            "\u001b[32m[I 2021-02-22 10:57:09,636]\u001b[0m Trial 72 finished with value: 0.08212375461171578 and parameters: {'num_leaves': 304, 'max_bin': 151, 'max_depth': 41, 'learning_rate': 0.06724958846462442, 'min_child_weight': 16, 'feature_fraction': 0.47092029131478924, 'bagging_fraction': 0.5241906872611805, 'bagging_freq': 5, 'min_child_samples': 17, 'lambda_l1': 0.15027027875459115, 'lambda_l2': 1.670434926045331e-05}. Best is trial 71 with value: 0.10856472976605817.\u001b[0m\n",
            "\u001b[32m[I 2021-02-22 10:57:21,604]\u001b[0m Trial 73 finished with value: 0.09403993068366326 and parameters: {'num_leaves': 45, 'max_bin': 245, 'max_depth': 87, 'learning_rate': 0.01020376955199745, 'min_child_weight': 15, 'feature_fraction': 0.49025627453672854, 'bagging_fraction': 0.4572323050104914, 'bagging_freq': 5, 'min_child_samples': 8, 'lambda_l1': 0.09419124099986738, 'lambda_l2': 3.1831686829421827e-06}. Best is trial 71 with value: 0.10856472976605817.\u001b[0m\n",
            "\u001b[32m[I 2021-02-22 10:57:32,536]\u001b[0m Trial 74 finished with value: 0.10204570446644412 and parameters: {'num_leaves': 28, 'max_bin': 108, 'max_depth': 19, 'learning_rate': 0.11171204825369205, 'min_child_weight': 16, 'feature_fraction': 0.5522654052305527, 'bagging_fraction': 0.5844372094391485, 'bagging_freq': 4, 'min_child_samples': 21, 'lambda_l1': 0.6271692763555727, 'lambda_l2': 9.345056929951031e-06}. Best is trial 71 with value: 0.10856472976605817.\u001b[0m\n",
            "\u001b[32m[I 2021-02-22 10:57:41,538]\u001b[0m Trial 75 finished with value: 0.10386370603373138 and parameters: {'num_leaves': 19, 'max_bin': 114, 'max_depth': 20, 'learning_rate': 0.1005174012162886, 'min_child_weight': 16, 'feature_fraction': 0.4793818939093516, 'bagging_fraction': 0.5924432203650968, 'bagging_freq': 3, 'min_child_samples': 21, 'lambda_l1': 0.057437128016066624, 'lambda_l2': 1.0371280988197265e-05}. Best is trial 71 with value: 0.10856472976605817.\u001b[0m\n",
            "\u001b[32m[I 2021-02-22 10:57:51,407]\u001b[0m Trial 76 finished with value: 0.10389970772637624 and parameters: {'num_leaves': 25, 'max_bin': 55, 'max_depth': 22, 'learning_rate': 0.11169824973996759, 'min_child_weight': 16, 'feature_fraction': 0.4032212875837201, 'bagging_fraction': 0.5938279746174673, 'bagging_freq': 3, 'min_child_samples': 20, 'lambda_l1': 0.6207433386769543, 'lambda_l2': 9.79347128930639e-06}. Best is trial 71 with value: 0.10856472976605817.\u001b[0m\n",
            "\u001b[32m[I 2021-02-22 10:58:00,586]\u001b[0m Trial 77 finished with value: 0.10092902743326837 and parameters: {'num_leaves': 19, 'max_bin': 51, 'max_depth': 72, 'learning_rate': 0.2034585490597153, 'min_child_weight': 15, 'feature_fraction': 0.41661319686463294, 'bagging_fraction': 0.5507372472217931, 'bagging_freq': 2, 'min_child_samples': 21, 'lambda_l1': 0.7114849136238063, 'lambda_l2': 9.247820302121426e-06}. Best is trial 71 with value: 0.10856472976605817.\u001b[0m\n",
            "\u001b[32m[I 2021-02-22 10:58:10,284]\u001b[0m Trial 78 finished with value: 0.09435931894269046 and parameters: {'num_leaves': 19, 'max_bin': 52, 'max_depth': 76, 'learning_rate': 0.1971194446822374, 'min_child_weight': 15, 'feature_fraction': 0.4112864881132696, 'bagging_fraction': 0.6136227381877013, 'bagging_freq': 2, 'min_child_samples': 21, 'lambda_l1': 0.6779931866150282, 'lambda_l2': 3.0304013556258987e-05}. Best is trial 71 with value: 0.10856472976605817.\u001b[0m\n",
            "\u001b[32m[I 2021-02-22 10:58:17,968]\u001b[0m Trial 79 finished with value: 0.09403384732839334 and parameters: {'num_leaves': 5, 'max_bin': 118, 'max_depth': 32, 'learning_rate': 0.1566612887296783, 'min_child_weight': 14, 'feature_fraction': 0.46134780149187704, 'bagging_fraction': 0.5763015255813202, 'bagging_freq': 2, 'min_child_samples': 23, 'lambda_l1': 0.9892977501780984, 'lambda_l2': 9.405267455417867e-06}. Best is trial 71 with value: 0.10856472976605817.\u001b[0m\n",
            "\u001b[32m[I 2021-02-22 10:58:28,493]\u001b[0m Trial 80 finished with value: 0.08271199792824387 and parameters: {'num_leaves': 50, 'max_bin': 102, 'max_depth': 110, 'learning_rate': 0.21967806060759748, 'min_child_weight': 15, 'feature_fraction': 0.43164627555601015, 'bagging_fraction': 0.4809255393523478, 'bagging_freq': 2, 'min_child_samples': 20, 'lambda_l1': 0.3536634856398349, 'lambda_l2': 1.691806649565525e-05}. Best is trial 71 with value: 0.10856472976605817.\u001b[0m\n",
            "\u001b[32m[I 2021-02-22 10:58:39,495]\u001b[0m Trial 81 finished with value: 0.0959482260308077 and parameters: {'num_leaves': 26, 'max_bin': 77, 'max_depth': 4, 'learning_rate': 0.08846394435890671, 'min_child_weight': 16, 'feature_fraction': 0.4003360585279757, 'bagging_fraction': 0.5502930949383352, 'bagging_freq': 3, 'min_child_samples': 13, 'lambda_l1': 0.06514457422116271, 'lambda_l2': 7.153240601128241e-07}. Best is trial 71 with value: 0.10856472976605817.\u001b[0m\n",
            "\u001b[32m[I 2021-02-22 10:58:46,444]\u001b[0m Trial 82 finished with value: 0.09582778768561141 and parameters: {'num_leaves': 5, 'max_bin': 150, 'max_depth': 15, 'learning_rate': 0.12434896338373146, 'min_child_weight': 16, 'feature_fraction': 0.47928899877610837, 'bagging_fraction': 0.5282382497669631, 'bagging_freq': 1, 'min_child_samples': 25, 'lambda_l1': 0.45741877303155326, 'lambda_l2': 4.074202132029031e-06}. Best is trial 71 with value: 0.10856472976605817.\u001b[0m\n",
            "\u001b[32m[I 2021-02-22 10:58:58,926]\u001b[0m Trial 83 finished with value: 0.10171876754224173 and parameters: {'num_leaves': 39, 'max_bin': 57, 'max_depth': 51, 'learning_rate': 0.09601770166368831, 'min_child_weight': 14, 'feature_fraction': 0.45246466903519955, 'bagging_fraction': 0.5699167523744125, 'bagging_freq': 3, 'min_child_samples': 19, 'lambda_l1': 0.9980696349259461, 'lambda_l2': 8.002822180398071e-06}. Best is trial 71 with value: 0.10856472976605817.\u001b[0m\n",
            "\u001b[32m[I 2021-02-22 10:59:11,151]\u001b[0m Trial 84 finished with value: 0.09343882171233175 and parameters: {'num_leaves': 42, 'max_bin': 71, 'max_depth': 49, 'learning_rate': 0.14743778825186454, 'min_child_weight': 14, 'feature_fraction': 0.44068248253597053, 'bagging_fraction': 0.60026059422834, 'bagging_freq': 3, 'min_child_samples': 32, 'lambda_l1': 0.7307313026903056, 'lambda_l2': 7.364482890007979e-06}. Best is trial 71 with value: 0.10856472976605817.\u001b[0m\n",
            "\u001b[32m[I 2021-02-22 10:59:25,286]\u001b[0m Trial 85 finished with value: 0.09682883286158062 and parameters: {'num_leaves': 82, 'max_bin': 120, 'max_depth': 70, 'learning_rate': 0.08040887367268806, 'min_child_weight': 15, 'feature_fraction': 0.4214839538342671, 'bagging_fraction': 0.5708567721588694, 'bagging_freq': 3, 'min_child_samples': 19, 'lambda_l1': 0.3041922809321008, 'lambda_l2': 4.778715671725221e-05}. Best is trial 71 with value: 0.10856472976605817.\u001b[0m\n",
            "\u001b[32m[I 2021-02-22 10:59:33,304]\u001b[0m Trial 86 finished with value: 0.09430920570375222 and parameters: {'num_leaves': 19, 'max_bin': 63, 'max_depth': 53, 'learning_rate': 0.17513410247415534, 'min_child_weight': 14, 'feature_fraction': 0.4578481447369982, 'bagging_fraction': 0.504556747384053, 'bagging_freq': 2, 'min_child_samples': 22, 'lambda_l1': 1.7090220645876496e-05, 'lambda_l2': 2.2150230481544206e-05}. Best is trial 71 with value: 0.10856472976605817.\u001b[0m\n",
            "\u001b[32m[I 2021-02-22 10:59:43,030]\u001b[0m Trial 87 finished with value: 0.09087686302123134 and parameters: {'num_leaves': 39, 'max_bin': 95, 'max_depth': 93, 'learning_rate': 0.1431681456305114, 'min_child_weight': 13, 'feature_fraction': 0.49486810655918484, 'bagging_fraction': 0.5385631398610403, 'bagging_freq': 3, 'min_child_samples': 26, 'lambda_l1': 0.041892210022784086, 'lambda_l2': 4.302201113861177e-06}. Best is trial 71 with value: 0.10856472976605817.\u001b[0m\n",
            "\u001b[32m[I 2021-02-22 10:59:57,003]\u001b[0m Trial 88 finished with value: 0.08490522713000738 and parameters: {'num_leaves': 51, 'max_bin': 138, 'max_depth': 32, 'learning_rate': 0.24349213984595977, 'min_child_weight': 15, 'feature_fraction': 0.9288912658404331, 'bagging_fraction': 0.5831768470654284, 'bagging_freq': 5, 'min_child_samples': 18, 'lambda_l1': 0.4854176826367979, 'lambda_l2': 1.0675181659809118e-05}. Best is trial 71 with value: 0.10856472976605817.\u001b[0m\n",
            "\u001b[32m[I 2021-02-22 11:00:07,673]\u001b[0m Trial 89 finished with value: 0.10123058649213522 and parameters: {'num_leaves': 15, 'max_bin': 218, 'max_depth': 44, 'learning_rate': 0.03745724317346903, 'min_child_weight': 16, 'feature_fraction': 0.4469656559141482, 'bagging_fraction': 0.6296763140583569, 'bagging_freq': 3, 'min_child_samples': 10, 'lambda_l1': 0.9615397547801695, 'lambda_l2': 3.158614636255348e-05}. Best is trial 71 with value: 0.10856472976605817.\u001b[0m\n",
            "\u001b[32m[I 2021-02-22 11:00:22,660]\u001b[0m Trial 90 finished with value: 0.10279354937642712 and parameters: {'num_leaves': 59, 'max_bin': 227, 'max_depth': 46, 'learning_rate': 0.03293708954825153, 'min_child_weight': 16, 'feature_fraction': 0.4472993973843021, 'bagging_fraction': 0.659242549779284, 'bagging_freq': 3, 'min_child_samples': 11, 'lambda_l1': 0.33764771940962757, 'lambda_l2': 7.511639033899994e-05}. Best is trial 71 with value: 0.10856472976605817.\u001b[0m\n"
          ],
          "name": "stderr"
        }
      ]
    },
    {
      "cell_type": "code",
      "metadata": {
        "id": "lBYbH4rpNzxF"
      },
      "source": [
        ""
      ],
      "execution_count": null,
      "outputs": []
    },
    {
      "cell_type": "code",
      "metadata": {
        "id": "BwmhfMPANzte"
      },
      "source": [
        ""
      ],
      "execution_count": null,
      "outputs": []
    },
    {
      "cell_type": "code",
      "metadata": {
        "id": "hclOh9ZCL9cM"
      },
      "source": [
        "def objective(trial):\n",
        "    param = {\n",
        "        'tree_method':'gpu_hist',  # this parameter means using the GPU when training our model to speedup the training process\n",
        "        'lambda': trial.suggest_loguniform('lambda', 1e-3, 10.0),\n",
        "        'alpha': trial.suggest_loguniform('alpha', 1e-3, 10.0),\n",
        "        'colsample_bytree': trial.suggest_categorical('colsample_bytree', [0.3,0.4,0.5,0.6,0.7,0.8,0.9, 1.0]),\n",
        "        'subsample': trial.suggest_categorical('subsample', [0.4,0.5,0.6,0.7,0.8,1.0]),\n",
        "        'learning_rate': trial.suggest_categorical('learning_rate', [0.008,0.009,0.01,0.012,0.014,0.016,0.018, 0.02]),\n",
        "        'n_estimators': 5000,\n",
        "        'max_depth': trial.suggest_int('max_depth', 4, 32),\n",
        "        'random_state': trial.suggest_int('random_state', 1, 2222),\n",
        "        'min_child_weight': trial.suggest_int('min_child_weight', 1, 300),\n",
        "    }\n",
        "    model = xgb.XGBRegressor(**param)  \n",
        "    \n",
        "    model.fit(x_train,y_train,eval_set=[(x_val,y_val)],early_stopping_rounds=100,verbose=False)\n",
        "    \n",
        "    preds = model.predict(x_val)\n",
        "    cor = np.corrcoef(y_val.values, preds)[0][1]\n",
        "    cor = abs(cor)\n",
        "        \n",
        "    return cor"
      ],
      "execution_count": 13,
      "outputs": []
    },
    {
      "cell_type": "code",
      "metadata": {
        "id": "FHva5D_TPyDc",
        "outputId": "c3562240-29a5-4535-b4e6-672c5c81479b",
        "colab": {
          "base_uri": "https://localhost:8080/",
          "height": 514
        }
      },
      "source": [
        "import xgboost as xgb\n",
        "import optuna\n",
        "study = optuna.create_study(direction='maximize')\n",
        "study.optimize(objective, n_trials=250)\n",
        "print('Number of finished trials:', len(study.trials))\n",
        "print('Best trial:', study.best_trial.params)"
      ],
      "execution_count": 15,
      "outputs": [
        {
          "output_type": "stream",
          "text": [
            "\u001b[32m[I 2021-02-22 10:25:00,844]\u001b[0m A new study created in memory with name: no-name-d8bed95b-73f6-4eff-b0a8-ec824342e0a0\u001b[0m\n"
          ],
          "name": "stderr"
        },
        {
          "output_type": "stream",
          "text": [
            "[10:25:01] WARNING: /workspace/src/objective/regression_obj.cu:152: reg:linear is now deprecated in favor of reg:squarederror.\n"
          ],
          "name": "stdout"
        },
        {
          "output_type": "stream",
          "text": [
            "\u001b[32m[I 2021-02-22 10:25:08,263]\u001b[0m Trial 0 finished with value: 0.09705275537684314 and parameters: {'lambda': 0.12323300596394882, 'alpha': 0.5223920114890946, 'colsample_bytree': 0.9, 'subsample': 0.4, 'learning_rate': 0.02, 'max_depth': 13, 'random_state': 1098, 'min_child_weight': 239}. Best is trial 0 with value: 0.09705275537684314.\u001b[0m\n"
          ],
          "name": "stderr"
        },
        {
          "output_type": "stream",
          "text": [
            "[10:25:08] WARNING: /workspace/src/objective/regression_obj.cu:152: reg:linear is now deprecated in favor of reg:squarederror.\n"
          ],
          "name": "stdout"
        },
        {
          "output_type": "stream",
          "text": [
            "\u001b[32m[I 2021-02-22 10:28:14,837]\u001b[0m Trial 1 finished with value: 0.09045275392700719 and parameters: {'lambda': 2.8358524580720195, 'alpha': 9.35346230644765, 'colsample_bytree': 0.4, 'subsample': 0.7, 'learning_rate': 0.008, 'max_depth': 24, 'random_state': 227, 'min_child_weight': 162}. Best is trial 0 with value: 0.09705275537684314.\u001b[0m\n"
          ],
          "name": "stderr"
        },
        {
          "output_type": "stream",
          "text": [
            "[10:28:15] WARNING: /workspace/src/objective/regression_obj.cu:152: reg:linear is now deprecated in favor of reg:squarederror.\n"
          ],
          "name": "stdout"
        },
        {
          "output_type": "error",
          "ename": "KeyboardInterrupt",
          "evalue": "ignored",
          "traceback": [
            "\u001b[0;31m---------------------------------------------------------------------------\u001b[0m",
            "\u001b[0;31mKeyboardInterrupt\u001b[0m                         Traceback (most recent call last)",
            "\u001b[0;32m<ipython-input-15-a666be34dddc>\u001b[0m in \u001b[0;36m<module>\u001b[0;34m()\u001b[0m\n\u001b[1;32m      2\u001b[0m \u001b[0;32mimport\u001b[0m \u001b[0moptuna\u001b[0m\u001b[0;34m\u001b[0m\u001b[0;34m\u001b[0m\u001b[0m\n\u001b[1;32m      3\u001b[0m \u001b[0mstudy\u001b[0m \u001b[0;34m=\u001b[0m \u001b[0moptuna\u001b[0m\u001b[0;34m.\u001b[0m\u001b[0mcreate_study\u001b[0m\u001b[0;34m(\u001b[0m\u001b[0mdirection\u001b[0m\u001b[0;34m=\u001b[0m\u001b[0;34m'maximize'\u001b[0m\u001b[0;34m)\u001b[0m\u001b[0;34m\u001b[0m\u001b[0;34m\u001b[0m\u001b[0m\n\u001b[0;32m----> 4\u001b[0;31m \u001b[0mstudy\u001b[0m\u001b[0;34m.\u001b[0m\u001b[0moptimize\u001b[0m\u001b[0;34m(\u001b[0m\u001b[0mobjective\u001b[0m\u001b[0;34m,\u001b[0m \u001b[0mn_trials\u001b[0m\u001b[0;34m=\u001b[0m\u001b[0;36m250\u001b[0m\u001b[0;34m)\u001b[0m\u001b[0;34m\u001b[0m\u001b[0;34m\u001b[0m\u001b[0m\n\u001b[0m\u001b[1;32m      5\u001b[0m \u001b[0mprint\u001b[0m\u001b[0;34m(\u001b[0m\u001b[0;34m'Number of finished trials:'\u001b[0m\u001b[0;34m,\u001b[0m \u001b[0mlen\u001b[0m\u001b[0;34m(\u001b[0m\u001b[0mstudy\u001b[0m\u001b[0;34m.\u001b[0m\u001b[0mtrials\u001b[0m\u001b[0;34m)\u001b[0m\u001b[0;34m)\u001b[0m\u001b[0;34m\u001b[0m\u001b[0;34m\u001b[0m\u001b[0m\n\u001b[1;32m      6\u001b[0m \u001b[0mprint\u001b[0m\u001b[0;34m(\u001b[0m\u001b[0;34m'Best trial:'\u001b[0m\u001b[0;34m,\u001b[0m \u001b[0mstudy\u001b[0m\u001b[0;34m.\u001b[0m\u001b[0mbest_trial\u001b[0m\u001b[0;34m.\u001b[0m\u001b[0mparams\u001b[0m\u001b[0;34m)\u001b[0m\u001b[0;34m\u001b[0m\u001b[0;34m\u001b[0m\u001b[0m\n",
            "\u001b[0;32m/usr/local/lib/python3.6/dist-packages/optuna/study.py\u001b[0m in \u001b[0;36moptimize\u001b[0;34m(self, func, n_trials, timeout, n_jobs, catch, callbacks, gc_after_trial, show_progress_bar)\u001b[0m\n\u001b[1;32m    383\u001b[0m             \u001b[0mcallbacks\u001b[0m\u001b[0;34m=\u001b[0m\u001b[0mcallbacks\u001b[0m\u001b[0;34m,\u001b[0m\u001b[0;34m\u001b[0m\u001b[0;34m\u001b[0m\u001b[0m\n\u001b[1;32m    384\u001b[0m             \u001b[0mgc_after_trial\u001b[0m\u001b[0;34m=\u001b[0m\u001b[0mgc_after_trial\u001b[0m\u001b[0;34m,\u001b[0m\u001b[0;34m\u001b[0m\u001b[0;34m\u001b[0m\u001b[0m\n\u001b[0;32m--> 385\u001b[0;31m             \u001b[0mshow_progress_bar\u001b[0m\u001b[0;34m=\u001b[0m\u001b[0mshow_progress_bar\u001b[0m\u001b[0;34m,\u001b[0m\u001b[0;34m\u001b[0m\u001b[0;34m\u001b[0m\u001b[0m\n\u001b[0m\u001b[1;32m    386\u001b[0m         )\n\u001b[1;32m    387\u001b[0m \u001b[0;34m\u001b[0m\u001b[0m\n",
            "\u001b[0;32m/usr/local/lib/python3.6/dist-packages/optuna/_optimize.py\u001b[0m in \u001b[0;36m_optimize\u001b[0;34m(study, func, n_trials, timeout, n_jobs, catch, callbacks, gc_after_trial, show_progress_bar)\u001b[0m\n\u001b[1;32m     71\u001b[0m                 \u001b[0mreseed_sampler_rng\u001b[0m\u001b[0;34m=\u001b[0m\u001b[0;32mFalse\u001b[0m\u001b[0;34m,\u001b[0m\u001b[0;34m\u001b[0m\u001b[0;34m\u001b[0m\u001b[0m\n\u001b[1;32m     72\u001b[0m                 \u001b[0mtime_start\u001b[0m\u001b[0;34m=\u001b[0m\u001b[0;32mNone\u001b[0m\u001b[0;34m,\u001b[0m\u001b[0;34m\u001b[0m\u001b[0;34m\u001b[0m\u001b[0m\n\u001b[0;32m---> 73\u001b[0;31m                 \u001b[0mprogress_bar\u001b[0m\u001b[0;34m=\u001b[0m\u001b[0mprogress_bar\u001b[0m\u001b[0;34m,\u001b[0m\u001b[0;34m\u001b[0m\u001b[0;34m\u001b[0m\u001b[0m\n\u001b[0m\u001b[1;32m     74\u001b[0m             )\n\u001b[1;32m     75\u001b[0m         \u001b[0;32melse\u001b[0m\u001b[0;34m:\u001b[0m\u001b[0;34m\u001b[0m\u001b[0;34m\u001b[0m\u001b[0m\n",
            "\u001b[0;32m/usr/local/lib/python3.6/dist-packages/optuna/_optimize.py\u001b[0m in \u001b[0;36m_optimize_sequential\u001b[0;34m(study, func, n_trials, timeout, catch, callbacks, gc_after_trial, reseed_sampler_rng, time_start, progress_bar)\u001b[0m\n\u001b[1;32m    162\u001b[0m \u001b[0;34m\u001b[0m\u001b[0m\n\u001b[1;32m    163\u001b[0m         \u001b[0;32mtry\u001b[0m\u001b[0;34m:\u001b[0m\u001b[0;34m\u001b[0m\u001b[0;34m\u001b[0m\u001b[0m\n\u001b[0;32m--> 164\u001b[0;31m             \u001b[0mtrial\u001b[0m \u001b[0;34m=\u001b[0m \u001b[0m_run_trial\u001b[0m\u001b[0;34m(\u001b[0m\u001b[0mstudy\u001b[0m\u001b[0;34m,\u001b[0m \u001b[0mfunc\u001b[0m\u001b[0;34m,\u001b[0m \u001b[0mcatch\u001b[0m\u001b[0;34m)\u001b[0m\u001b[0;34m\u001b[0m\u001b[0;34m\u001b[0m\u001b[0m\n\u001b[0m\u001b[1;32m    165\u001b[0m         \u001b[0;32mexcept\u001b[0m \u001b[0mException\u001b[0m\u001b[0;34m:\u001b[0m\u001b[0;34m\u001b[0m\u001b[0;34m\u001b[0m\u001b[0m\n\u001b[1;32m    166\u001b[0m             \u001b[0;32mraise\u001b[0m\u001b[0;34m\u001b[0m\u001b[0;34m\u001b[0m\u001b[0m\n",
            "\u001b[0;32m/usr/local/lib/python3.6/dist-packages/optuna/_optimize.py\u001b[0m in \u001b[0;36m_run_trial\u001b[0;34m(study, func, catch)\u001b[0m\n\u001b[1;32m    209\u001b[0m \u001b[0;34m\u001b[0m\u001b[0m\n\u001b[1;32m    210\u001b[0m     \u001b[0;32mtry\u001b[0m\u001b[0;34m:\u001b[0m\u001b[0;34m\u001b[0m\u001b[0;34m\u001b[0m\u001b[0m\n\u001b[0;32m--> 211\u001b[0;31m         \u001b[0mvalue_or_values\u001b[0m \u001b[0;34m=\u001b[0m \u001b[0mfunc\u001b[0m\u001b[0;34m(\u001b[0m\u001b[0mtrial\u001b[0m\u001b[0;34m)\u001b[0m\u001b[0;34m\u001b[0m\u001b[0;34m\u001b[0m\u001b[0m\n\u001b[0m\u001b[1;32m    212\u001b[0m     \u001b[0;32mexcept\u001b[0m \u001b[0mexceptions\u001b[0m\u001b[0;34m.\u001b[0m\u001b[0mTrialPruned\u001b[0m \u001b[0;32mas\u001b[0m \u001b[0me\u001b[0m\u001b[0;34m:\u001b[0m\u001b[0;34m\u001b[0m\u001b[0;34m\u001b[0m\u001b[0m\n\u001b[1;32m    213\u001b[0m         \u001b[0;31m# TODO(mamu): Handle multi-objective cases.\u001b[0m\u001b[0;34m\u001b[0m\u001b[0;34m\u001b[0m\u001b[0;34m\u001b[0m\u001b[0m\n",
            "\u001b[0;32m<ipython-input-13-cbbb3189900f>\u001b[0m in \u001b[0;36mobjective\u001b[0;34m(trial)\u001b[0m\n\u001b[1;32m     14\u001b[0m     \u001b[0mmodel\u001b[0m \u001b[0;34m=\u001b[0m \u001b[0mxgb\u001b[0m\u001b[0;34m.\u001b[0m\u001b[0mXGBRegressor\u001b[0m\u001b[0;34m(\u001b[0m\u001b[0;34m**\u001b[0m\u001b[0mparam\u001b[0m\u001b[0;34m)\u001b[0m\u001b[0;34m\u001b[0m\u001b[0;34m\u001b[0m\u001b[0m\n\u001b[1;32m     15\u001b[0m \u001b[0;34m\u001b[0m\u001b[0m\n\u001b[0;32m---> 16\u001b[0;31m     \u001b[0mmodel\u001b[0m\u001b[0;34m.\u001b[0m\u001b[0mfit\u001b[0m\u001b[0;34m(\u001b[0m\u001b[0mx_train\u001b[0m\u001b[0;34m,\u001b[0m\u001b[0my_train\u001b[0m\u001b[0;34m,\u001b[0m\u001b[0meval_set\u001b[0m\u001b[0;34m=\u001b[0m\u001b[0;34m[\u001b[0m\u001b[0;34m(\u001b[0m\u001b[0mx_val\u001b[0m\u001b[0;34m,\u001b[0m\u001b[0my_val\u001b[0m\u001b[0;34m)\u001b[0m\u001b[0;34m]\u001b[0m\u001b[0;34m,\u001b[0m\u001b[0mearly_stopping_rounds\u001b[0m\u001b[0;34m=\u001b[0m\u001b[0;36m100\u001b[0m\u001b[0;34m,\u001b[0m\u001b[0mverbose\u001b[0m\u001b[0;34m=\u001b[0m\u001b[0;32mFalse\u001b[0m\u001b[0;34m)\u001b[0m\u001b[0;34m\u001b[0m\u001b[0;34m\u001b[0m\u001b[0m\n\u001b[0m\u001b[1;32m     17\u001b[0m \u001b[0;34m\u001b[0m\u001b[0m\n\u001b[1;32m     18\u001b[0m     \u001b[0mpreds\u001b[0m \u001b[0;34m=\u001b[0m \u001b[0mmodel\u001b[0m\u001b[0;34m.\u001b[0m\u001b[0mpredict\u001b[0m\u001b[0;34m(\u001b[0m\u001b[0mx_val\u001b[0m\u001b[0;34m)\u001b[0m\u001b[0;34m\u001b[0m\u001b[0;34m\u001b[0m\u001b[0m\n",
            "\u001b[0;32m/usr/local/lib/python3.6/dist-packages/xgboost/sklearn.py\u001b[0m in \u001b[0;36mfit\u001b[0;34m(self, X, y, sample_weight, eval_set, eval_metric, early_stopping_rounds, verbose, xgb_model, sample_weight_eval_set, callbacks)\u001b[0m\n\u001b[1;32m    394\u001b[0m                               \u001b[0mevals_result\u001b[0m\u001b[0;34m=\u001b[0m\u001b[0mevals_result\u001b[0m\u001b[0;34m,\u001b[0m \u001b[0mobj\u001b[0m\u001b[0;34m=\u001b[0m\u001b[0mobj\u001b[0m\u001b[0;34m,\u001b[0m \u001b[0mfeval\u001b[0m\u001b[0;34m=\u001b[0m\u001b[0mfeval\u001b[0m\u001b[0;34m,\u001b[0m\u001b[0;34m\u001b[0m\u001b[0;34m\u001b[0m\u001b[0m\n\u001b[1;32m    395\u001b[0m                               \u001b[0mverbose_eval\u001b[0m\u001b[0;34m=\u001b[0m\u001b[0mverbose\u001b[0m\u001b[0;34m,\u001b[0m \u001b[0mxgb_model\u001b[0m\u001b[0;34m=\u001b[0m\u001b[0mxgb_model\u001b[0m\u001b[0;34m,\u001b[0m\u001b[0;34m\u001b[0m\u001b[0;34m\u001b[0m\u001b[0m\n\u001b[0;32m--> 396\u001b[0;31m                               callbacks=callbacks)\n\u001b[0m\u001b[1;32m    397\u001b[0m \u001b[0;34m\u001b[0m\u001b[0m\n\u001b[1;32m    398\u001b[0m         \u001b[0;32mif\u001b[0m \u001b[0mevals_result\u001b[0m\u001b[0;34m:\u001b[0m\u001b[0;34m\u001b[0m\u001b[0;34m\u001b[0m\u001b[0m\n",
            "\u001b[0;32m/usr/local/lib/python3.6/dist-packages/xgboost/training.py\u001b[0m in \u001b[0;36mtrain\u001b[0;34m(params, dtrain, num_boost_round, evals, obj, feval, maximize, early_stopping_rounds, evals_result, verbose_eval, xgb_model, callbacks, learning_rates)\u001b[0m\n\u001b[1;32m    214\u001b[0m                            \u001b[0mevals\u001b[0m\u001b[0;34m=\u001b[0m\u001b[0mevals\u001b[0m\u001b[0;34m,\u001b[0m\u001b[0;34m\u001b[0m\u001b[0;34m\u001b[0m\u001b[0m\n\u001b[1;32m    215\u001b[0m                            \u001b[0mobj\u001b[0m\u001b[0;34m=\u001b[0m\u001b[0mobj\u001b[0m\u001b[0;34m,\u001b[0m \u001b[0mfeval\u001b[0m\u001b[0;34m=\u001b[0m\u001b[0mfeval\u001b[0m\u001b[0;34m,\u001b[0m\u001b[0;34m\u001b[0m\u001b[0;34m\u001b[0m\u001b[0m\n\u001b[0;32m--> 216\u001b[0;31m                            xgb_model=xgb_model, callbacks=callbacks)\n\u001b[0m\u001b[1;32m    217\u001b[0m \u001b[0;34m\u001b[0m\u001b[0m\n\u001b[1;32m    218\u001b[0m \u001b[0;34m\u001b[0m\u001b[0m\n",
            "\u001b[0;32m/usr/local/lib/python3.6/dist-packages/xgboost/training.py\u001b[0m in \u001b[0;36m_train_internal\u001b[0;34m(params, dtrain, num_boost_round, evals, obj, feval, xgb_model, callbacks)\u001b[0m\n\u001b[1;32m     72\u001b[0m         \u001b[0;31m# Skip the first update if it is a recovery step.\u001b[0m\u001b[0;34m\u001b[0m\u001b[0;34m\u001b[0m\u001b[0;34m\u001b[0m\u001b[0m\n\u001b[1;32m     73\u001b[0m         \u001b[0;32mif\u001b[0m \u001b[0mversion\u001b[0m \u001b[0;34m%\u001b[0m \u001b[0;36m2\u001b[0m \u001b[0;34m==\u001b[0m \u001b[0;36m0\u001b[0m\u001b[0;34m:\u001b[0m\u001b[0;34m\u001b[0m\u001b[0;34m\u001b[0m\u001b[0m\n\u001b[0;32m---> 74\u001b[0;31m             \u001b[0mbst\u001b[0m\u001b[0;34m.\u001b[0m\u001b[0mupdate\u001b[0m\u001b[0;34m(\u001b[0m\u001b[0mdtrain\u001b[0m\u001b[0;34m,\u001b[0m \u001b[0mi\u001b[0m\u001b[0;34m,\u001b[0m \u001b[0mobj\u001b[0m\u001b[0;34m)\u001b[0m\u001b[0;34m\u001b[0m\u001b[0;34m\u001b[0m\u001b[0m\n\u001b[0m\u001b[1;32m     75\u001b[0m             \u001b[0mbst\u001b[0m\u001b[0;34m.\u001b[0m\u001b[0msave_rabit_checkpoint\u001b[0m\u001b[0;34m(\u001b[0m\u001b[0;34m)\u001b[0m\u001b[0;34m\u001b[0m\u001b[0;34m\u001b[0m\u001b[0m\n\u001b[1;32m     76\u001b[0m             \u001b[0mversion\u001b[0m \u001b[0;34m+=\u001b[0m \u001b[0;36m1\u001b[0m\u001b[0;34m\u001b[0m\u001b[0;34m\u001b[0m\u001b[0m\n",
            "\u001b[0;32m/usr/local/lib/python3.6/dist-packages/xgboost/core.py\u001b[0m in \u001b[0;36mupdate\u001b[0;34m(self, dtrain, iteration, fobj)\u001b[0m\n\u001b[1;32m   1107\u001b[0m         \u001b[0;32mif\u001b[0m \u001b[0mfobj\u001b[0m \u001b[0;32mis\u001b[0m \u001b[0;32mNone\u001b[0m\u001b[0;34m:\u001b[0m\u001b[0;34m\u001b[0m\u001b[0;34m\u001b[0m\u001b[0m\n\u001b[1;32m   1108\u001b[0m             _check_call(_LIB.XGBoosterUpdateOneIter(self.handle, ctypes.c_int(iteration),\n\u001b[0;32m-> 1109\u001b[0;31m                                                     dtrain.handle))\n\u001b[0m\u001b[1;32m   1110\u001b[0m         \u001b[0;32melse\u001b[0m\u001b[0;34m:\u001b[0m\u001b[0;34m\u001b[0m\u001b[0;34m\u001b[0m\u001b[0m\n\u001b[1;32m   1111\u001b[0m             \u001b[0mpred\u001b[0m \u001b[0;34m=\u001b[0m \u001b[0mself\u001b[0m\u001b[0;34m.\u001b[0m\u001b[0mpredict\u001b[0m\u001b[0;34m(\u001b[0m\u001b[0mdtrain\u001b[0m\u001b[0;34m)\u001b[0m\u001b[0;34m\u001b[0m\u001b[0;34m\u001b[0m\u001b[0m\n",
            "\u001b[0;31mKeyboardInterrupt\u001b[0m: "
          ]
        }
      ]
    },
    {
      "cell_type": "code",
      "metadata": {
        "id": "3_cis34lQMZO"
      },
      "source": [
        ""
      ],
      "execution_count": null,
      "outputs": []
    }
  ]
}