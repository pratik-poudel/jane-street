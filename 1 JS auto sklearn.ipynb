{
  "nbformat": 4,
  "nbformat_minor": 0,
  "metadata": {
    "colab": {
      "name": "scratchpad",
      "provenance": [],
      "machine_shape": "hm",
      "include_colab_link": true
    },
    "kernelspec": {
      "display_name": "Python 3",
      "name": "python3"
    }
  },
  "cells": [
    {
      "cell_type": "markdown",
      "metadata": {
        "id": "view-in-github",
        "colab_type": "text"
      },
      "source": [
        "<a href=\"https://colab.research.google.com/github/pratik-poudel/jane-street/blob/main/1%20JS%20auto%20sklearn.ipynb\" target=\"_parent\"><img src=\"https://colab.research.google.com/assets/colab-badge.svg\" alt=\"Open In Colab\"/></a>"
      ]
    },
    {
      "cell_type": "code",
      "metadata": {
        "colab": {
          "base_uri": "https://localhost:8080/"
        },
        "id": "lIYdn1woOS1n",
        "outputId": "65610ce3-e99c-4747-d26d-ca0afc17fb14"
      },
      "source": [
        "!mkdir -p ~/.kaggle\n",
        "!cp kaggle.json ~/.kaggle/\n",
        "!chmod 600 ~/.kaggle/kaggle.json\n",
        "!kaggle datasets download gdonchyts/jane-street-market-prediction-parquet -f train.parquet\n",
        "import zipfile\n",
        "zip_ref = zipfile.ZipFile('/content/train.parquet.zip', 'r')\n",
        "zip_ref.extractall('files')\n",
        "zip_ref.close()"
      ],
      "execution_count": 1,
      "outputs": [
        {
          "output_type": "stream",
          "text": [
            "Downloading train.parquet.zip to /content\n",
            " 99% 1.07G/1.08G [00:08<00:00, 147MB/s]\n",
            "100% 1.08G/1.08G [00:08<00:00, 130MB/s]\n"
          ],
          "name": "stdout"
        }
      ]
    },
    {
      "cell_type": "code",
      "metadata": {
        "id": "eDEQNSf5CRTn"
      },
      "source": [
        "!sudo apt-get install build-essential swig\n",
        "!curl https://raw.githubusercontent.com/automl/auto-sklearn/master/requirements.txt | xargs -n 1 -L 1 pip install\n",
        "!pip install auto-sklearn"
      ],
      "execution_count": null,
      "outputs": []
    },
    {
      "cell_type": "code",
      "metadata": {
        "id": "P-62TZ8TBab2"
      },
      "source": [
        "import numpy as np\n",
        "import pandas as pd\n",
        "from collections import defaultdict\n",
        "from tqdm.notebook import tqdm\n",
        "from matplotlib import pyplot as plt\n",
        "import warnings\n",
        "warnings.filterwarnings('ignore')\n",
        "import seaborn as sns\n",
        "import gc\n",
        "# pd.options.display.float_format| = \"{:.2f}\".format\n",
        "pd.options.display.max_columns = 500"
      ],
      "execution_count": 6,
      "outputs": []
    },
    {
      "cell_type": "code",
      "metadata": {
        "id": "RTfsfVw4BD27"
      },
      "source": [
        "df = pd.read_parquet('/content/files/train.parquet')"
      ],
      "execution_count": 7,
      "outputs": []
    },
    {
      "cell_type": "code",
      "metadata": {
        "id": "zy2qLCMlBH7I"
      },
      "source": [
        "features = [f for f in df.columns if 'feature' in f]\n",
        "features = features[1:]"
      ],
      "execution_count": 8,
      "outputs": []
    },
    {
      "cell_type": "code",
      "metadata": {
        "id": "VjCLJ3IAB3Nk",
        "outputId": "b74a494e-aeb8-4726-a8bc-e0c210b2e4ac",
        "colab": {
          "base_uri": "https://localhost:8080/"
        }
      },
      "source": [
        "train = df.query('date > 85').reset_index(drop = True) \n",
        "train = df[df['weight'] != 0]\n",
        "train.shape"
      ],
      "execution_count": 79,
      "outputs": [
        {
          "output_type": "execute_result",
          "data": {
            "text/plain": [
              "(1981287, 138)"
            ]
          },
          "metadata": {
            "tags": []
          },
          "execution_count": 79
        }
      ]
    },
    {
      "cell_type": "code",
      "metadata": {
        "id": "T1wO3AAOBsjw"
      },
      "source": [
        "train['action'] = ((train['weight'].values * train['resp'].values) > 0).astype('int')"
      ],
      "execution_count": 80,
      "outputs": []
    },
    {
      "cell_type": "code",
      "metadata": {
        "id": "FT8M0XxSB1xe",
        "outputId": "02f0ad8f-9d01-4910-edf5-6c85fecda94a",
        "colab": {
          "base_uri": "https://localhost:8080/"
        }
      },
      "source": [
        "train['action'].value_counts()"
      ],
      "execution_count": 81,
      "outputs": [
        {
          "output_type": "execute_result",
          "data": {
            "text/plain": [
              "1    999387\n",
              "0    981900\n",
              "Name: action, dtype: int64"
            ]
          },
          "metadata": {
            "tags": []
          },
          "execution_count": 81
        }
      ]
    },
    {
      "cell_type": "code",
      "metadata": {
        "id": "0CGc0IqjKx6v",
        "outputId": "4519ab77-abe4-4606-a8ee-9e7fe37e65f7",
        "colab": {
          "base_uri": "https://localhost:8080/"
        }
      },
      "source": [
        "train.shape"
      ],
      "execution_count": 82,
      "outputs": [
        {
          "output_type": "execute_result",
          "data": {
            "text/plain": [
              "(1981287, 139)"
            ]
          },
          "metadata": {
            "tags": []
          },
          "execution_count": 82
        }
      ]
    },
    {
      "cell_type": "code",
      "metadata": {
        "id": "NQGZzpoqCOGF"
      },
      "source": [
        "valid = train[train['date'] > 457].sample(2000)\n",
        "train = train[train['date'] <= 457].sample(8500)"
      ],
      "execution_count": 83,
      "outputs": []
    },
    {
      "cell_type": "code",
      "metadata": {
        "id": "WHvfvactDlkN"
      },
      "source": [
        "x_train = train[features]\n",
        "y_train = train['action']\n",
        "x_test = valid[features]\n",
        "y_test = valid['action']"
      ],
      "execution_count": 84,
      "outputs": []
    },
    {
      "cell_type": "code",
      "metadata": {
        "id": "cK5drBFXhkey",
        "outputId": "fd25a197-3dd0-4b14-a622-cdc5262bf21b",
        "colab": {
          "base_uri": "https://localhost:8080/"
        }
      },
      "source": [
        "y_train"
      ],
      "execution_count": 113,
      "outputs": [
        {
          "output_type": "execute_result",
          "data": {
            "text/plain": [
              "1131020    0\n",
              "873855     1\n",
              "1948001    0\n",
              "742472     0\n",
              "818080     1\n",
              "          ..\n",
              "777858     1\n",
              "15991      0\n",
              "221269     1\n",
              "2003423    0\n",
              "361407     0\n",
              "Name: action, Length: 8500, dtype: int64"
            ]
          },
          "metadata": {
            "tags": []
          },
          "execution_count": 113
        }
      ]
    },
    {
      "cell_type": "code",
      "metadata": {
        "id": "JMP9mMU8EsJL"
      },
      "source": [
        "from autosklearn.classification import AutoSklearnClassifier"
      ],
      "execution_count": 85,
      "outputs": []
    },
    {
      "cell_type": "code",
      "metadata": {
        "id": "H1CRAJ7zFGIN"
      },
      "source": [
        "automl = AutoSklearnClassifier(time_left_for_this_task=1500,per_run_time_limit=750,\n",
        "                               memory_limit=20000, \n",
        "                               include_estimators = ['random_forest', 'sgd'], exclude_estimators=None, \n",
        "                               include_preprocessors = ['no_preprocessing'],exclude_preprocessors=None,\n",
        "                               seed=60,n_jobs=8, metric=autosklearn.metrics.roc_auc)"
      ],
      "execution_count": 109,
      "outputs": []
    },
    {
      "cell_type": "code",
      "metadata": {
        "id": "7tf0r_JMG7lU"
      },
      "source": [
        "import sklearn\n",
        "feat_type = ['Categorical' if x.name == 'category' else 'Numerical' for x in x_train[features].dtypes]\n"
      ],
      "execution_count": 118,
      "outputs": []
    },
    {
      "cell_type": "code",
      "metadata": {
        "id": "ungGQ3oOqzfQ"
      },
      "source": [
        "feat_type"
      ],
      "execution_count": null,
      "outputs": []
    },
    {
      "cell_type": "code",
      "metadata": {
        "id": "NRgW4hgcGlsW"
      },
      "source": [
        "automl.fit(x_train.to_numpy(np.float), y_train.values, x_test.to_numpy(np.float), y_test.values,feat_type=feat_type )\n"
      ],
      "execution_count": null,
      "outputs": []
    },
    {
      "cell_type": "code",
      "metadata": {
        "id": "uhcA97knw_K5",
        "outputId": "13728dad-0dcf-4425-c899-c1a1cfe803ef",
        "colab": {
          "base_uri": "https://localhost:8080/"
        }
      },
      "source": [
        "y_pred= automl.predict_proba(x_test.values)\n",
        "print(sklearn.metrics.roc_auc_score(y_test.values, y_pred[:, 1]))"
      ],
      "execution_count": 122,
      "outputs": [
        {
          "output_type": "stream",
          "text": [
            "0.5304135181864755\n"
          ],
          "name": "stdout"
        }
      ]
    },
    {
      "cell_type": "code",
      "metadata": {
        "id": "_sUTKSrtHJNW",
        "outputId": "54df2155-30ee-49b8-e969-9cd5422e0883",
        "colab": {
          "base_uri": "https://localhost:8080/"
        }
      },
      "source": [
        "print(automl.sprint_statistics())"
      ],
      "execution_count": 123,
      "outputs": [
        {
          "output_type": "stream",
          "text": [
            "auto-sklearn results:\n",
            "  Dataset name: 9553fd0508fa3a5a7671ef6ceda44de6\n",
            "  Metric: roc_auc\n",
            "  Best validation score: 0.526217\n",
            "  Number of target algorithm runs: 53\n",
            "  Number of successful target algorithm runs: 41\n",
            "  Number of crashed target algorithm runs: 0\n",
            "  Number of target algorithms that exceeded the time limit: 12\n",
            "  Number of target algorithms that exceeded the memory limit: 0\n",
            "\n"
          ],
          "name": "stdout"
        }
      ]
    },
    {
      "cell_type": "code",
      "metadata": {
        "id": "WIAD1HqnH8DG",
        "outputId": "a2218432-a760-4699-d7c1-bdb9c3534d13",
        "colab": {
          "base_uri": "https://localhost:8080/"
        }
      },
      "source": [
        "print(automl.show_models())"
      ],
      "execution_count": 124,
      "outputs": [
        {
          "output_type": "stream",
          "text": [
            "[(0.460000, SimpleClassificationPipeline({'balancing:strategy': 'none', 'classifier:__choice__': 'sgd', 'data_preprocessing:categorical_transformer:categorical_encoding:__choice__': 'one_hot_encoding', 'data_preprocessing:categorical_transformer:category_coalescence:__choice__': 'minority_coalescer', 'data_preprocessing:numerical_transformer:imputation:strategy': 'most_frequent', 'data_preprocessing:numerical_transformer:rescaling:__choice__': 'normalize', 'feature_preprocessor:__choice__': 'no_preprocessing', 'classifier:sgd:alpha': 0.04572354220586163, 'classifier:sgd:average': 'True', 'classifier:sgd:fit_intercept': 'True', 'classifier:sgd:learning_rate': 'constant', 'classifier:sgd:loss': 'hinge', 'classifier:sgd:penalty': 'l1', 'classifier:sgd:tol': 0.019009557451729487, 'data_preprocessing:categorical_transformer:category_coalescence:minority_coalescer:minimum_fraction': 0.0007965069711082688, 'classifier:sgd:eta0': 7.622836075055025e-07},\n",
            "dataset_properties={\n",
            "  'task': 1,\n",
            "  'sparse': False,\n",
            "  'multilabel': False,\n",
            "  'multiclass': False,\n",
            "  'target_type': 'classification',\n",
            "  'signed': False})),\n",
            "(0.400000, SimpleClassificationPipeline({'balancing:strategy': 'weighting', 'classifier:__choice__': 'sgd', 'data_preprocessing:categorical_transformer:categorical_encoding:__choice__': 'one_hot_encoding', 'data_preprocessing:categorical_transformer:category_coalescence:__choice__': 'no_coalescense', 'data_preprocessing:numerical_transformer:imputation:strategy': 'most_frequent', 'data_preprocessing:numerical_transformer:rescaling:__choice__': 'minmax', 'feature_preprocessor:__choice__': 'no_preprocessing', 'classifier:sgd:alpha': 3.5366517705496115e-07, 'classifier:sgd:average': 'False', 'classifier:sgd:fit_intercept': 'True', 'classifier:sgd:learning_rate': 'invscaling', 'classifier:sgd:loss': 'modified_huber', 'classifier:sgd:penalty': 'l1', 'classifier:sgd:tol': 0.0023681767015099756, 'classifier:sgd:epsilon': 6.026737598397385e-05, 'classifier:sgd:eta0': 3.176730554052361e-07, 'classifier:sgd:power_t': 0.3144577701379302},\n",
            "dataset_properties={\n",
            "  'task': 1,\n",
            "  'sparse': False,\n",
            "  'multilabel': False,\n",
            "  'multiclass': False,\n",
            "  'target_type': 'classification',\n",
            "  'signed': False})),\n",
            "(0.060000, SimpleClassificationPipeline({'balancing:strategy': 'none', 'classifier:__choice__': 'sgd', 'data_preprocessing:categorical_transformer:categorical_encoding:__choice__': 'no_encoding', 'data_preprocessing:categorical_transformer:category_coalescence:__choice__': 'no_coalescense', 'data_preprocessing:numerical_transformer:imputation:strategy': 'median', 'data_preprocessing:numerical_transformer:rescaling:__choice__': 'minmax', 'feature_preprocessor:__choice__': 'no_preprocessing', 'classifier:sgd:alpha': 4.493552919346881e-06, 'classifier:sgd:average': 'True', 'classifier:sgd:fit_intercept': 'True', 'classifier:sgd:learning_rate': 'invscaling', 'classifier:sgd:loss': 'log', 'classifier:sgd:penalty': 'l2', 'classifier:sgd:tol': 0.003040129237299399, 'classifier:sgd:eta0': 0.0007281595863685917, 'classifier:sgd:power_t': 0.7536639326053806},\n",
            "dataset_properties={\n",
            "  'task': 1,\n",
            "  'sparse': False,\n",
            "  'multilabel': False,\n",
            "  'multiclass': False,\n",
            "  'target_type': 'classification',\n",
            "  'signed': False})),\n",
            "(0.040000, SimpleClassificationPipeline({'balancing:strategy': 'none', 'classifier:__choice__': 'sgd', 'data_preprocessing:categorical_transformer:categorical_encoding:__choice__': 'no_encoding', 'data_preprocessing:categorical_transformer:category_coalescence:__choice__': 'minority_coalescer', 'data_preprocessing:numerical_transformer:imputation:strategy': 'mean', 'data_preprocessing:numerical_transformer:rescaling:__choice__': 'robust_scaler', 'feature_preprocessor:__choice__': 'no_preprocessing', 'classifier:sgd:alpha': 2.0833691858137656e-05, 'classifier:sgd:average': 'True', 'classifier:sgd:fit_intercept': 'True', 'classifier:sgd:learning_rate': 'invscaling', 'classifier:sgd:loss': 'log', 'classifier:sgd:penalty': 'l2', 'classifier:sgd:tol': 0.015623945352170899, 'data_preprocessing:categorical_transformer:category_coalescence:minority_coalescer:minimum_fraction': 0.038599530056508076, 'data_preprocessing:numerical_transformer:rescaling:robust_scaler:q_max': 0.9266431947107971, 'data_preprocessing:numerical_transformer:rescaling:robust_scaler:q_min': 0.29402994077965905, 'classifier:sgd:eta0': 1.8467560908740611e-07, 'classifier:sgd:power_t': 0.8238798582140918},\n",
            "dataset_properties={\n",
            "  'task': 1,\n",
            "  'sparse': False,\n",
            "  'multilabel': False,\n",
            "  'multiclass': False,\n",
            "  'target_type': 'classification',\n",
            "  'signed': False})),\n",
            "(0.020000, SimpleClassificationPipeline({'balancing:strategy': 'weighting', 'classifier:__choice__': 'random_forest', 'data_preprocessing:categorical_transformer:categorical_encoding:__choice__': 'no_encoding', 'data_preprocessing:categorical_transformer:category_coalescence:__choice__': 'minority_coalescer', 'data_preprocessing:numerical_transformer:imputation:strategy': 'median', 'data_preprocessing:numerical_transformer:rescaling:__choice__': 'standardize', 'feature_preprocessor:__choice__': 'no_preprocessing', 'classifier:random_forest:bootstrap': 'False', 'classifier:random_forest:criterion': 'gini', 'classifier:random_forest:max_depth': 'None', 'classifier:random_forest:max_features': 0.4846858122343987, 'classifier:random_forest:max_leaf_nodes': 'None', 'classifier:random_forest:min_impurity_decrease': 0.0, 'classifier:random_forest:min_samples_leaf': 1, 'classifier:random_forest:min_samples_split': 6, 'classifier:random_forest:min_weight_fraction_leaf': 0.0, 'data_preprocessing:categorical_transformer:category_coalescence:minority_coalescer:minimum_fraction': 0.02004575263163203},\n",
            "dataset_properties={\n",
            "  'task': 1,\n",
            "  'sparse': False,\n",
            "  'multilabel': False,\n",
            "  'multiclass': False,\n",
            "  'target_type': 'classification',\n",
            "  'signed': False})),\n",
            "(0.020000, SimpleClassificationPipeline({'balancing:strategy': 'weighting', 'classifier:__choice__': 'random_forest', 'data_preprocessing:categorical_transformer:categorical_encoding:__choice__': 'no_encoding', 'data_preprocessing:categorical_transformer:category_coalescence:__choice__': 'minority_coalescer', 'data_preprocessing:numerical_transformer:imputation:strategy': 'mean', 'data_preprocessing:numerical_transformer:rescaling:__choice__': 'minmax', 'feature_preprocessor:__choice__': 'no_preprocessing', 'classifier:random_forest:bootstrap': 'True', 'classifier:random_forest:criterion': 'entropy', 'classifier:random_forest:max_depth': 'None', 'classifier:random_forest:max_features': 0.30614309380788285, 'classifier:random_forest:max_leaf_nodes': 'None', 'classifier:random_forest:min_impurity_decrease': 0.0, 'classifier:random_forest:min_samples_leaf': 12, 'classifier:random_forest:min_samples_split': 16, 'classifier:random_forest:min_weight_fraction_leaf': 0.0, 'data_preprocessing:categorical_transformer:category_coalescence:minority_coalescer:minimum_fraction': 0.42392190999103246},\n",
            "dataset_properties={\n",
            "  'task': 1,\n",
            "  'sparse': False,\n",
            "  'multilabel': False,\n",
            "  'multiclass': False,\n",
            "  'target_type': 'classification',\n",
            "  'signed': False})),\n",
            "]\n"
          ],
          "name": "stdout"
        }
      ]
    },
    {
      "cell_type": "code",
      "metadata": {
        "id": "dIJ1cXyyK8rV",
        "outputId": "bca532cb-0b74-4704-bb65-d500fe79fe8a",
        "colab": {
          "base_uri": "https://localhost:8080/"
        }
      },
      "source": [
        "automl.cv_results_['params'][np.argmax(automl.cv_results_['mean_test_score'])]"
      ],
      "execution_count": 125,
      "outputs": [
        {
          "output_type": "execute_result",
          "data": {
            "text/plain": [
              "{'balancing:strategy': 'weighting',\n",
              " 'classifier:__choice__': 'random_forest',\n",
              " 'classifier:random_forest:bootstrap': 'False',\n",
              " 'classifier:random_forest:criterion': 'gini',\n",
              " 'classifier:random_forest:max_depth': 'None',\n",
              " 'classifier:random_forest:max_features': 0.4846858122343987,\n",
              " 'classifier:random_forest:max_leaf_nodes': 'None',\n",
              " 'classifier:random_forest:min_impurity_decrease': 0.0,\n",
              " 'classifier:random_forest:min_samples_leaf': 1,\n",
              " 'classifier:random_forest:min_samples_split': 6,\n",
              " 'classifier:random_forest:min_weight_fraction_leaf': 0.0,\n",
              " 'data_preprocessing:categorical_transformer:categorical_encoding:__choice__': 'no_encoding',\n",
              " 'data_preprocessing:categorical_transformer:category_coalescence:__choice__': 'minority_coalescer',\n",
              " 'data_preprocessing:categorical_transformer:category_coalescence:minority_coalescer:minimum_fraction': 0.02004575263163203,\n",
              " 'data_preprocessing:numerical_transformer:imputation:strategy': 'median',\n",
              " 'data_preprocessing:numerical_transformer:rescaling:__choice__': 'standardize',\n",
              " 'feature_preprocessor:__choice__': 'no_preprocessing'}"
            ]
          },
          "metadata": {
            "tags": []
          },
          "execution_count": 125
        }
      ]
    },
    {
      "cell_type": "code",
      "metadata": {
        "id": "B8CbOLY0gziL"
      },
      "source": [
        ""
      ],
      "execution_count": null,
      "outputs": []
    }
  ]
}