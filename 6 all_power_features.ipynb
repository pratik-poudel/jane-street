{
  "nbformat": 4,
  "nbformat_minor": 0,
  "metadata": {
    "colab": {
      "name": "scratchpad",
      "provenance": [],
      "machine_shape": "hm",
      "include_colab_link": true
    },
    "kernelspec": {
      "display_name": "Python 3",
      "name": "python3"
    }
  },
  "cells": [
    {
      "cell_type": "markdown",
      "metadata": {
        "id": "view-in-github",
        "colab_type": "text"
      },
      "source": [
        "<a href=\"https://colab.research.google.com/github/pratik-poudel/jane-street/blob/main/6%20all_power_features.ipynb\" target=\"_parent\"><img src=\"https://colab.research.google.com/assets/colab-badge.svg\" alt=\"Open In Colab\"/></a>"
      ]
    },
    {
      "cell_type": "code",
      "metadata": {
        "colab": {
          "base_uri": "https://localhost:8080/"
        },
        "id": "lIYdn1woOS1n",
        "outputId": "4cb0f414-34ce-483c-ff28-19474fdec707"
      },
      "source": [
        "!mkdir -p ~/.kaggle\n",
        "!cp kaggle.json ~/.kaggle/\n",
        "!chmod 600 ~/.kaggle/kaggle.json\n",
        "!kaggle datasets download gdonchyts/jane-street-market-prediction-parquet -f train.parquet\n",
        "import zipfile\n",
        "zip_ref = zipfile.ZipFile('/content/train.parquet.zip', 'r')\n",
        "zip_ref.extractall('files')\n",
        "zip_ref.close()"
      ],
      "execution_count": 2,
      "outputs": [
        {
          "output_type": "stream",
          "text": [
            "Downloading train.parquet.zip to /content\n",
            " 99% 1.06G/1.08G [00:47<00:00, 26.3MB/s]\n",
            "100% 1.08G/1.08G [00:47<00:00, 24.1MB/s]\n"
          ],
          "name": "stdout"
        }
      ]
    },
    {
      "cell_type": "code",
      "metadata": {
        "id": "3Hn5MKCH_EWD"
      },
      "source": [
        "import numpy as np\n",
        "import pandas as pd\n",
        "from collections import defaultdict\n",
        "from tqdm.notebook import tqdm\n",
        "from matplotlib import pyplot as plt\n",
        "import warnings\n",
        "warnings.filterwarnings('ignore')\n",
        "import seaborn as sns\n",
        "import gc\n",
        "# pd.options.display.float_format| = \"{:.2f}\".format\n",
        "pd.options.display.max_columns = 500"
      ],
      "execution_count": 3,
      "outputs": []
    },
    {
      "cell_type": "code",
      "metadata": {
        "id": "GfjEWfnB_G0b",
        "colab": {
          "base_uri": "https://localhost:8080/"
        },
        "outputId": "8f4ea596-fa5d-4379-9bfc-08cdf7b5ea80"
      },
      "source": [
        "train = pd.read_parquet('/content/files/train.parquet')\n",
        "train = train.query('date > 85').reset_index(drop = True) \n",
        "train = train[train['weight'] != 0]\n",
        "train.shape"
      ],
      "execution_count": 4,
      "outputs": [
        {
          "output_type": "execute_result",
          "data": {
            "text/plain": [
              "(1571415, 138)"
            ]
          },
          "metadata": {
            "tags": []
          },
          "execution_count": 4
        }
      ]
    },
    {
      "cell_type": "code",
      "metadata": {
        "id": "ZoOEJCR4r0Tn"
      },
      "source": [
        "train.fillna(train.mean(), inplace=True)"
      ],
      "execution_count": 5,
      "outputs": []
    },
    {
      "cell_type": "markdown",
      "metadata": {
        "id": "AZ2760O7T0Cq"
      },
      "source": [
        "# Two Features"
      ]
    },
    {
      "cell_type": "code",
      "metadata": {
        "id": "HZRt79H3UL3c"
      },
      "source": [
        "feat = [f for f in train.columns if 'feature' in f]"
      ],
      "execution_count": 5,
      "outputs": []
    },
    {
      "cell_type": "code",
      "metadata": {
        "colab": {
          "base_uri": "https://localhost:8080/"
        },
        "id": "kl2v-6RBUL3r",
        "outputId": "e026ca6a-88e3-44ae-bcc3-27b024c9fff2"
      },
      "source": [
        "len(feat)"
      ],
      "execution_count": 6,
      "outputs": [
        {
          "output_type": "execute_result",
          "data": {
            "text/plain": [
              "130"
            ]
          },
          "metadata": {
            "tags": []
          },
          "execution_count": 6
        }
      ]
    },
    {
      "cell_type": "code",
      "metadata": {
        "id": "7_wbB6s7UQFt"
      },
      "source": [
        "corr = train[feat].corrwith(train['resp']).abs().sort_values(ascending=False)"
      ],
      "execution_count": 7,
      "outputs": []
    },
    {
      "cell_type": "code",
      "metadata": {
        "colab": {
          "base_uri": "https://localhost:8080/"
        },
        "id": "b4eHfDdNsHgK",
        "outputId": "c2ac2c4c-5702-49a2-bef0-63a76e1dfc61"
      },
      "source": [
        "len(corr[corr > 0.018].index.to_list())"
      ],
      "execution_count": 284,
      "outputs": [
        {
          "output_type": "execute_result",
          "data": {
            "text/plain": [
              "17"
            ]
          },
          "metadata": {
            "tags": []
          },
          "execution_count": 284
        }
      ]
    },
    {
      "cell_type": "code",
      "metadata": {
        "id": "FlruZAcCUL3s"
      },
      "source": [
        "two_comb = []\n",
        "from itertools import combinations\n",
        "for i in combinations(corr[corr > 0.018].index.to_list(), 5):\n",
        "    two_comb.append(list(i))"
      ],
      "execution_count": 285,
      "outputs": []
    },
    {
      "cell_type": "code",
      "metadata": {
        "colab": {
          "base_uri": "https://localhost:8080/"
        },
        "id": "B65UbvUiUL3t",
        "outputId": "185f6d30-c62f-4cc9-e0f9-2e7aee566608"
      },
      "source": [
        "len(two_comb)"
      ],
      "execution_count": 286,
      "outputs": [
        {
          "output_type": "execute_result",
          "data": {
            "text/plain": [
              "6188"
            ]
          },
          "metadata": {
            "tags": []
          },
          "execution_count": 286
        }
      ]
    },
    {
      "cell_type": "code",
      "metadata": {
        "id": "iUnVzos6UL3u"
      },
      "source": [
        "from itertools import permutations,combinations_with_replacement, combinations\n",
        "operators = [\"+\",\"-\",\"*\",\"/\"]\n",
        "op_list = []\n",
        "for i in combinations_with_replacement(operators, 4):\n",
        "    # print(i)\n",
        "    op_list.append(list(i))"
      ],
      "execution_count": 287,
      "outputs": []
    },
    {
      "cell_type": "code",
      "metadata": {
        "id": "j56TYG4cC1SD"
      },
      "source": [
        "feature_names = []\n",
        "for_calc = []\n",
        "for i in two_comb:\n",
        "    for x, j  in enumerate(op_list):\n",
        "\n",
        "        f_calc = \"df['computed_\" + str(x) + \"'] =\" + \"train[a]\" + j[0] + \"train[b]\" + j[1] + \"train[c]\" + j[2] + \"train[d]\" + j[3] + \"train[e]\"\n",
        "        f_name = i[0] + j[0] + i[1] + j[1] + i[2] + j[2] + i[3] + j[3] + i[4]\n",
        "        a = i[0]\n",
        "        b = j[0]\n",
        "        c = i[1]\n",
        "        d = j[1]\n",
        "        e = i[2] \n",
        "        f = j[2]\n",
        "        g = i[3]\n",
        "        h = j[3]\n",
        "        k = i[4]\n",
        "\n",
        "        for_calc.append(f_calc)\n",
        "        feature_names.append(f_name)"
      ],
      "execution_count": 288,
      "outputs": []
    },
    {
      "cell_type": "code",
      "metadata": {
        "colab": {
          "base_uri": "https://localhost:8080/"
        },
        "id": "DITh4Tay3it7",
        "outputId": "7bddd59b-fb2b-4a62-9587-729ea0bfdac6"
      },
      "source": [
        "len(feature_names)"
      ],
      "execution_count": 289,
      "outputs": [
        {
          "output_type": "execute_result",
          "data": {
            "text/plain": [
              "216580"
            ]
          },
          "metadata": {
            "tags": []
          },
          "execution_count": 289
        }
      ]
    },
    {
      "cell_type": "code",
      "metadata": {
        "colab": {
          "base_uri": "https://localhost:8080/"
        },
        "id": "6tGUqKt_ygPL",
        "outputId": "7d9eed0e-92cb-4f5a-8316-bcc048804404"
      },
      "source": [
        "6188*35"
      ],
      "execution_count": 291,
      "outputs": [
        {
          "output_type": "execute_result",
          "data": {
            "text/plain": [
              "216580"
            ]
          },
          "metadata": {
            "tags": []
          },
          "execution_count": 291
        }
      ]
    },
    {
      "cell_type": "code",
      "metadata": {
        "colab": {
          "base_uri": "https://localhost:8080/"
        },
        "id": "w9DKrKbZUL3u",
        "outputId": "973d15f8-ce57-4e3f-9ca8-0c61d530ea52"
      },
      "source": [
        "%%time\n",
        "from google.colab import output\n",
        "score = []\n",
        "count = 0\n",
        "df= pd.DataFrame()\n",
        "for i in two_comb:\n",
        "    a = i[0]\n",
        "    b = i[1]\n",
        "    c = i[2]\n",
        "    d = i[3]\n",
        "    e = i[4]\n",
        "    \n",
        "    df['computed_0'] =train[a]+train[b]+train[c]+train[d]+train[e]\n",
        "    df['computed_1'] =train[a]+train[b]+train[c]+train[d]-train[e]\n",
        "    df['computed_2'] =train[a]+train[b]+train[c]+train[d]*train[e]\n",
        "    df['computed_3'] =train[a]+train[b]+train[c]+train[d]/train[e]\n",
        "    df['computed_4'] =train[a]+train[b]+train[c]-train[d]-train[e]\n",
        "    df['computed_5'] =train[a]+train[b]+train[c]-train[d]*train[e]\n",
        "    df['computed_6'] =train[a]+train[b]+train[c]-train[d]/train[e]\n",
        "    df['computed_7'] =train[a]+train[b]+train[c]*train[d]*train[e]\n",
        "    df['computed_8'] =train[a]+train[b]+train[c]*train[d]/train[e]\n",
        "    df['computed_9'] =train[a]+train[b]+train[c]/train[d]/train[e]\n",
        "    df['computed_10'] =train[a]+train[b]-train[c]-train[d]-train[e]\n",
        "    df['computed_11'] =train[a]+train[b]-train[c]-train[d]*train[e]\n",
        "    df['computed_12'] =train[a]+train[b]-train[c]-train[d]/train[e]\n",
        "    df['computed_13'] =train[a]+train[b]-train[c]*train[d]*train[e]\n",
        "    df['computed_14'] =train[a]+train[b]-train[c]*train[d]/train[e]\n",
        "    df['computed_15'] =train[a]+train[b]-train[c]/train[d]/train[e]\n",
        "    df['computed_16'] =train[a]+train[b]*train[c]*train[d]*train[e]\n",
        "    df['computed_17'] =train[a]+train[b]*train[c]*train[d]/train[e]\n",
        "    df['computed_18'] =train[a]+train[b]*train[c]/train[d]/train[e]\n",
        "    df['computed_19'] =train[a]+train[b]/train[c]/train[d]/train[e]\n",
        "    df['computed_20'] =train[a]-train[b]-train[c]-train[d]-train[e]\n",
        "    df['computed_21'] =train[a]-train[b]-train[c]-train[d]*train[e]\n",
        "    df['computed_22'] =train[a]-train[b]-train[c]-train[d]/train[e]\n",
        "    df['computed_23'] =train[a]-train[b]-train[c]*train[d]*train[e]\n",
        "    df['computed_24'] =train[a]-train[b]-train[c]*train[d]/train[e]\n",
        "    df['computed_25'] =train[a]-train[b]-train[c]/train[d]/train[e]\n",
        "    df['computed_26'] =train[a]-train[b]*train[c]*train[d]*train[e]\n",
        "    df['computed_27'] =train[a]-train[b]*train[c]*train[d]/train[e]\n",
        "    df['computed_28'] =train[a]-train[b]*train[c]/train[d]/train[e]\n",
        "    df['computed_29'] =train[a]-train[b]/train[c]/train[d]/train[e]\n",
        "    df['computed_30'] =train[a]*train[b]*train[c]*train[d]*train[e]\n",
        "    df['computed_31'] =train[a]*train[b]*train[c]*train[d]/train[e]\n",
        "    df['computed_32'] =train[a]*train[b]*train[c]/train[d]/train[e]\n",
        "    df['computed_33'] =train[a]*train[b]/train[c]/train[d]/train[e]\n",
        "    df['computed_34'] =train[a]/train[b]/train[c]/train[d]/train[e]\n",
        "\n",
        "    for i in df.corrwith(train['resp']).values:\n",
        "        score.append(i)\n",
        "   \n",
        "    count += 1\n",
        "    print(count, \"done out of \", len(two_comb) )\n",
        "    if count % 10 ==0:\n",
        "        output.clear()"
      ],
      "execution_count": 293,
      "outputs": [
        {
          "output_type": "stream",
          "text": [
            "6181 done out of  6188\n",
            "6182 done out of  6188\n",
            "6183 done out of  6188\n",
            "6184 done out of  6188\n",
            "6185 done out of  6188\n",
            "6186 done out of  6188\n",
            "6187 done out of  6188\n",
            "6188 done out of  6188\n",
            "CPU times: user 2h 12min 25s, sys: 6min 12s, total: 2h 18min 38s\n",
            "Wall time: 1h 50min 20s\n"
          ],
          "name": "stdout"
        }
      ]
    },
    {
      "cell_type": "code",
      "metadata": {
        "id": "Dc2mt2icwnl5"
      },
      "source": [
        "five_features = pd.DataFrame(zip(feature_names, score), columns=['feature', 'score'])"
      ],
      "execution_count": 296,
      "outputs": []
    },
    {
      "cell_type": "code",
      "metadata": {
        "id": "IXCwd_GB0omq"
      },
      "source": [
        "five_features['scores'] = five_features['score'].abs()"
      ],
      "execution_count": 298,
      "outputs": []
    },
    {
      "cell_type": "code",
      "metadata": {
        "id": "juEWZeYUWVo9"
      },
      "source": [
        "five_features.sort_values(by='scores', ascending=False)[['feature', 'scores']][:25]"
      ],
      "execution_count": null,
      "outputs": []
    },
    {
      "cell_type": "code",
      "metadata": {
        "id": "P4vD2CO9Wblj"
      },
      "source": [
        "five_features.to_csv('five_features.csv', index=False)"
      ],
      "execution_count": 305,
      "outputs": []
    },
    {
      "cell_type": "code",
      "metadata": {
        "id": "yDhjQsrLWyJj"
      },
      "source": [
        ""
      ],
      "execution_count": null,
      "outputs": []
    },
    {
      "cell_type": "markdown",
      "metadata": {
        "id": "IRt9MY83Yltn"
      },
      "source": [
        "# Ten Combinations\n"
      ]
    },
    {
      "cell_type": "code",
      "metadata": {
        "colab": {
          "base_uri": "https://localhost:8080/"
        },
        "id": "zoBfVAnJZY0p",
        "outputId": "3b1fa2e4-8d54-4fe3-dc2d-8406e02bd8b5"
      },
      "source": [
        "len(corr[corr > 0.022].index.to_list())"
      ],
      "execution_count": 315,
      "outputs": [
        {
          "output_type": "execute_result",
          "data": {
            "text/plain": [
              "15"
            ]
          },
          "metadata": {
            "tags": []
          },
          "execution_count": 315
        }
      ]
    },
    {
      "cell_type": "code",
      "metadata": {
        "colab": {
          "base_uri": "https://localhost:8080/"
        },
        "id": "Znwwji-RYqdQ",
        "outputId": "fefbee0d-b549-41e4-d7bb-d2769c2ef41e"
      },
      "source": [
        "ten_combinations = []\n",
        "from itertools import combinations, permutations, combinations_with_replacement\n",
        "for i in combinations(corr[corr > 0.022].index.to_list(), 10):\n",
        "    ten_combinations.append(list(i))\n",
        "print(len(ten_combinations))"
      ],
      "execution_count": 319,
      "outputs": [
        {
          "output_type": "stream",
          "text": [
            "3003\n"
          ],
          "name": "stdout"
        }
      ]
    },
    {
      "cell_type": "code",
      "metadata": {
        "id": "lWUwZ16iYr5z"
      },
      "source": [
        "operators = [\"+\",\"-\",\"*\",\"/\"]\n",
        "op_list = []\n",
        "for i in combinations_with_replacement(operators, 9):\n",
        "    # print(i)\n",
        "    op_list.append(list(i))"
      ],
      "execution_count": 320,
      "outputs": []
    },
    {
      "cell_type": "code",
      "metadata": {
        "id": "dMCA20GMYt3H"
      },
      "source": [
        "for_calc = []\n",
        "for i in ten_combinations[:1]:\n",
        "    for x, y  in enumerate(op_list):\n",
        "        f_calc = (\"df['computed_\" + str(x) + \"'] =\" + \"train[a]\" + y[0] + \"train[b]\" + y[1] + \n",
        "                  \"train[c]\" + y[2] + \"train[d]\" + y[3] + \"train[e]\" + y[4] + \"train[f]\" + \n",
        "                 y[5] + \"train[g]\" + y[6] + \"train[h]\" + y[7] + \"train[i]\" + y[8]+ \"train[j]\"\n",
        "                 )\n",
        "        for_calc.append(f_calc)"
      ],
      "execution_count": 321,
      "outputs": []
    },
    {
      "cell_type": "code",
      "metadata": {
        "id": "lPyyCrQnYxa3"
      },
      "source": [
        "feature_names = []\n",
        "for i in ten_combinations:\n",
        "    for x, y  in enumerate(op_list):\n",
        "        f_name = (i[0] + y[0] + i[1] + y[1] + i[2] + y[2] + i[3] + y[3] + i[4] + y[4] +\n",
        "                 i[5] + y[5] + i[6] + y[6] + i[7] + y[7] + i[8] + y[8] + i[9])\n",
        "        feature_names.append(f_name)\n",
        "        "
      ],
      "execution_count": 322,
      "outputs": []
    },
    {
      "cell_type": "code",
      "metadata": {
        "id": "_kBneUcMYy2K"
      },
      "source": [
        "for i in for_calc:\n",
        "    print(i)"
      ],
      "execution_count": null,
      "outputs": []
    },
    {
      "cell_type": "code",
      "metadata": {
        "colab": {
          "base_uri": "https://localhost:8080/"
        },
        "id": "zBz2TzSBY0WU",
        "outputId": "0afc6244-620d-4cd1-f4f6-fa2f07762d9d"
      },
      "source": [
        "%%time\n",
        "from google.colab import output\n",
        "score = []\n",
        "count = 0\n",
        "df= pd.DataFrame()\n",
        "for z in ten_combinations:\n",
        "    a = z[0]\n",
        "    b = z[1]\n",
        "    c = z[2]\n",
        "    d = z[3]\n",
        "    e = z[4]\n",
        "    f = z[5]\n",
        "    g = z[6]\n",
        "    h = z[7]\n",
        "    i = z[8]\n",
        "    j = z[9]\n",
        "    \n",
        "    \n",
        "    df['computed_0'] =train[a]+train[b]+train[c]+train[d]+train[e]+train[f]+train[g]+train[h]+train[i]+train[j]\n",
        "    df['computed_1'] =train[a]+train[b]+train[c]+train[d]+train[e]+train[f]+train[g]+train[h]+train[i]-train[j]\n",
        "    df['computed_2'] =train[a]+train[b]+train[c]+train[d]+train[e]+train[f]+train[g]+train[h]+train[i]*train[j]\n",
        "    df['computed_3'] =train[a]+train[b]+train[c]+train[d]+train[e]+train[f]+train[g]+train[h]+train[i]/train[j]\n",
        "    df['computed_4'] =train[a]+train[b]+train[c]+train[d]+train[e]+train[f]+train[g]+train[h]-train[i]-train[j]\n",
        "    df['computed_5'] =train[a]+train[b]+train[c]+train[d]+train[e]+train[f]+train[g]+train[h]-train[i]*train[j]\n",
        "    df['computed_6'] =train[a]+train[b]+train[c]+train[d]+train[e]+train[f]+train[g]+train[h]-train[i]/train[j]\n",
        "    df['computed_7'] =train[a]+train[b]+train[c]+train[d]+train[e]+train[f]+train[g]+train[h]*train[i]*train[j]\n",
        "    df['computed_8'] =train[a]+train[b]+train[c]+train[d]+train[e]+train[f]+train[g]+train[h]*train[i]/train[j]\n",
        "    df['computed_9'] =train[a]+train[b]+train[c]+train[d]+train[e]+train[f]+train[g]+train[h]/train[i]/train[j]\n",
        "    df['computed_10'] =train[a]+train[b]+train[c]+train[d]+train[e]+train[f]+train[g]-train[h]-train[i]-train[j]\n",
        "    df['computed_11'] =train[a]+train[b]+train[c]+train[d]+train[e]+train[f]+train[g]-train[h]-train[i]*train[j]\n",
        "    df['computed_12'] =train[a]+train[b]+train[c]+train[d]+train[e]+train[f]+train[g]-train[h]-train[i]/train[j]\n",
        "    df['computed_13'] =train[a]+train[b]+train[c]+train[d]+train[e]+train[f]+train[g]-train[h]*train[i]*train[j]\n",
        "    df['computed_14'] =train[a]+train[b]+train[c]+train[d]+train[e]+train[f]+train[g]-train[h]*train[i]/train[j]\n",
        "    df['computed_15'] =train[a]+train[b]+train[c]+train[d]+train[e]+train[f]+train[g]-train[h]/train[i]/train[j]\n",
        "    df['computed_16'] =train[a]+train[b]+train[c]+train[d]+train[e]+train[f]+train[g]*train[h]*train[i]*train[j]\n",
        "    df['computed_17'] =train[a]+train[b]+train[c]+train[d]+train[e]+train[f]+train[g]*train[h]*train[i]/train[j]\n",
        "    df['computed_18'] =train[a]+train[b]+train[c]+train[d]+train[e]+train[f]+train[g]*train[h]/train[i]/train[j]\n",
        "    df['computed_19'] =train[a]+train[b]+train[c]+train[d]+train[e]+train[f]+train[g]/train[h]/train[i]/train[j]\n",
        "    df['computed_20'] =train[a]+train[b]+train[c]+train[d]+train[e]+train[f]-train[g]-train[h]-train[i]-train[j]\n",
        "    df['computed_21'] =train[a]+train[b]+train[c]+train[d]+train[e]+train[f]-train[g]-train[h]-train[i]*train[j]\n",
        "    df['computed_22'] =train[a]+train[b]+train[c]+train[d]+train[e]+train[f]-train[g]-train[h]-train[i]/train[j]\n",
        "    df['computed_23'] =train[a]+train[b]+train[c]+train[d]+train[e]+train[f]-train[g]-train[h]*train[i]*train[j]\n",
        "    df['computed_24'] =train[a]+train[b]+train[c]+train[d]+train[e]+train[f]-train[g]-train[h]*train[i]/train[j]\n",
        "    df['computed_25'] =train[a]+train[b]+train[c]+train[d]+train[e]+train[f]-train[g]-train[h]/train[i]/train[j]\n",
        "    df['computed_26'] =train[a]+train[b]+train[c]+train[d]+train[e]+train[f]-train[g]*train[h]*train[i]*train[j]\n",
        "    df['computed_27'] =train[a]+train[b]+train[c]+train[d]+train[e]+train[f]-train[g]*train[h]*train[i]/train[j]\n",
        "    df['computed_28'] =train[a]+train[b]+train[c]+train[d]+train[e]+train[f]-train[g]*train[h]/train[i]/train[j]\n",
        "    df['computed_29'] =train[a]+train[b]+train[c]+train[d]+train[e]+train[f]-train[g]/train[h]/train[i]/train[j]\n",
        "    df['computed_30'] =train[a]+train[b]+train[c]+train[d]+train[e]+train[f]*train[g]*train[h]*train[i]*train[j]\n",
        "    df['computed_31'] =train[a]+train[b]+train[c]+train[d]+train[e]+train[f]*train[g]*train[h]*train[i]/train[j]\n",
        "    df['computed_32'] =train[a]+train[b]+train[c]+train[d]+train[e]+train[f]*train[g]*train[h]/train[i]/train[j]\n",
        "    df['computed_33'] =train[a]+train[b]+train[c]+train[d]+train[e]+train[f]*train[g]/train[h]/train[i]/train[j]\n",
        "    df['computed_34'] =train[a]+train[b]+train[c]+train[d]+train[e]+train[f]/train[g]/train[h]/train[i]/train[j]\n",
        "    df['computed_35'] =train[a]+train[b]+train[c]+train[d]+train[e]-train[f]-train[g]-train[h]-train[i]-train[j]\n",
        "    df['computed_36'] =train[a]+train[b]+train[c]+train[d]+train[e]-train[f]-train[g]-train[h]-train[i]*train[j]\n",
        "    df['computed_37'] =train[a]+train[b]+train[c]+train[d]+train[e]-train[f]-train[g]-train[h]-train[i]/train[j]\n",
        "    df['computed_38'] =train[a]+train[b]+train[c]+train[d]+train[e]-train[f]-train[g]-train[h]*train[i]*train[j]\n",
        "    df['computed_39'] =train[a]+train[b]+train[c]+train[d]+train[e]-train[f]-train[g]-train[h]*train[i]/train[j]\n",
        "    df['computed_40'] =train[a]+train[b]+train[c]+train[d]+train[e]-train[f]-train[g]-train[h]/train[i]/train[j]\n",
        "    df['computed_41'] =train[a]+train[b]+train[c]+train[d]+train[e]-train[f]-train[g]*train[h]*train[i]*train[j]\n",
        "    df['computed_42'] =train[a]+train[b]+train[c]+train[d]+train[e]-train[f]-train[g]*train[h]*train[i]/train[j]\n",
        "    df['computed_43'] =train[a]+train[b]+train[c]+train[d]+train[e]-train[f]-train[g]*train[h]/train[i]/train[j]\n",
        "    df['computed_44'] =train[a]+train[b]+train[c]+train[d]+train[e]-train[f]-train[g]/train[h]/train[i]/train[j]\n",
        "    df['computed_45'] =train[a]+train[b]+train[c]+train[d]+train[e]-train[f]*train[g]*train[h]*train[i]*train[j]\n",
        "    df['computed_46'] =train[a]+train[b]+train[c]+train[d]+train[e]-train[f]*train[g]*train[h]*train[i]/train[j]\n",
        "    df['computed_47'] =train[a]+train[b]+train[c]+train[d]+train[e]-train[f]*train[g]*train[h]/train[i]/train[j]\n",
        "    df['computed_48'] =train[a]+train[b]+train[c]+train[d]+train[e]-train[f]*train[g]/train[h]/train[i]/train[j]\n",
        "    df['computed_49'] =train[a]+train[b]+train[c]+train[d]+train[e]-train[f]/train[g]/train[h]/train[i]/train[j]\n",
        "    df['computed_50'] =train[a]+train[b]+train[c]+train[d]+train[e]*train[f]*train[g]*train[h]*train[i]*train[j]\n",
        "    df['computed_51'] =train[a]+train[b]+train[c]+train[d]+train[e]*train[f]*train[g]*train[h]*train[i]/train[j]\n",
        "    df['computed_52'] =train[a]+train[b]+train[c]+train[d]+train[e]*train[f]*train[g]*train[h]/train[i]/train[j]\n",
        "    df['computed_53'] =train[a]+train[b]+train[c]+train[d]+train[e]*train[f]*train[g]/train[h]/train[i]/train[j]\n",
        "    df['computed_54'] =train[a]+train[b]+train[c]+train[d]+train[e]*train[f]/train[g]/train[h]/train[i]/train[j]\n",
        "    df['computed_55'] =train[a]+train[b]+train[c]+train[d]+train[e]/train[f]/train[g]/train[h]/train[i]/train[j]\n",
        "    df['computed_56'] =train[a]+train[b]+train[c]+train[d]-train[e]-train[f]-train[g]-train[h]-train[i]-train[j]\n",
        "    df['computed_57'] =train[a]+train[b]+train[c]+train[d]-train[e]-train[f]-train[g]-train[h]-train[i]*train[j]\n",
        "    df['computed_58'] =train[a]+train[b]+train[c]+train[d]-train[e]-train[f]-train[g]-train[h]-train[i]/train[j]\n",
        "    df['computed_59'] =train[a]+train[b]+train[c]+train[d]-train[e]-train[f]-train[g]-train[h]*train[i]*train[j]\n",
        "    df['computed_60'] =train[a]+train[b]+train[c]+train[d]-train[e]-train[f]-train[g]-train[h]*train[i]/train[j]\n",
        "    df['computed_61'] =train[a]+train[b]+train[c]+train[d]-train[e]-train[f]-train[g]-train[h]/train[i]/train[j]\n",
        "    df['computed_62'] =train[a]+train[b]+train[c]+train[d]-train[e]-train[f]-train[g]*train[h]*train[i]*train[j]\n",
        "    df['computed_63'] =train[a]+train[b]+train[c]+train[d]-train[e]-train[f]-train[g]*train[h]*train[i]/train[j]\n",
        "    df['computed_64'] =train[a]+train[b]+train[c]+train[d]-train[e]-train[f]-train[g]*train[h]/train[i]/train[j]\n",
        "    df['computed_65'] =train[a]+train[b]+train[c]+train[d]-train[e]-train[f]-train[g]/train[h]/train[i]/train[j]\n",
        "    df['computed_66'] =train[a]+train[b]+train[c]+train[d]-train[e]-train[f]*train[g]*train[h]*train[i]*train[j]\n",
        "    df['computed_67'] =train[a]+train[b]+train[c]+train[d]-train[e]-train[f]*train[g]*train[h]*train[i]/train[j]\n",
        "    df['computed_68'] =train[a]+train[b]+train[c]+train[d]-train[e]-train[f]*train[g]*train[h]/train[i]/train[j]\n",
        "    df['computed_69'] =train[a]+train[b]+train[c]+train[d]-train[e]-train[f]*train[g]/train[h]/train[i]/train[j]\n",
        "    df['computed_70'] =train[a]+train[b]+train[c]+train[d]-train[e]-train[f]/train[g]/train[h]/train[i]/train[j]\n",
        "    df['computed_71'] =train[a]+train[b]+train[c]+train[d]-train[e]*train[f]*train[g]*train[h]*train[i]*train[j]\n",
        "    df['computed_72'] =train[a]+train[b]+train[c]+train[d]-train[e]*train[f]*train[g]*train[h]*train[i]/train[j]\n",
        "    df['computed_73'] =train[a]+train[b]+train[c]+train[d]-train[e]*train[f]*train[g]*train[h]/train[i]/train[j]\n",
        "    df['computed_74'] =train[a]+train[b]+train[c]+train[d]-train[e]*train[f]*train[g]/train[h]/train[i]/train[j]\n",
        "    df['computed_75'] =train[a]+train[b]+train[c]+train[d]-train[e]*train[f]/train[g]/train[h]/train[i]/train[j]\n",
        "    df['computed_76'] =train[a]+train[b]+train[c]+train[d]-train[e]/train[f]/train[g]/train[h]/train[i]/train[j]\n",
        "    df['computed_77'] =train[a]+train[b]+train[c]+train[d]*train[e]*train[f]*train[g]*train[h]*train[i]*train[j]\n",
        "    df['computed_78'] =train[a]+train[b]+train[c]+train[d]*train[e]*train[f]*train[g]*train[h]*train[i]/train[j]\n",
        "    df['computed_79'] =train[a]+train[b]+train[c]+train[d]*train[e]*train[f]*train[g]*train[h]/train[i]/train[j]\n",
        "    df['computed_80'] =train[a]+train[b]+train[c]+train[d]*train[e]*train[f]*train[g]/train[h]/train[i]/train[j]\n",
        "    df['computed_81'] =train[a]+train[b]+train[c]+train[d]*train[e]*train[f]/train[g]/train[h]/train[i]/train[j]\n",
        "    df['computed_82'] =train[a]+train[b]+train[c]+train[d]*train[e]/train[f]/train[g]/train[h]/train[i]/train[j]\n",
        "    df['computed_83'] =train[a]+train[b]+train[c]+train[d]/train[e]/train[f]/train[g]/train[h]/train[i]/train[j]\n",
        "    df['computed_84'] =train[a]+train[b]+train[c]-train[d]-train[e]-train[f]-train[g]-train[h]-train[i]-train[j]\n",
        "    df['computed_85'] =train[a]+train[b]+train[c]-train[d]-train[e]-train[f]-train[g]-train[h]-train[i]*train[j]\n",
        "    df['computed_86'] =train[a]+train[b]+train[c]-train[d]-train[e]-train[f]-train[g]-train[h]-train[i]/train[j]\n",
        "    df['computed_87'] =train[a]+train[b]+train[c]-train[d]-train[e]-train[f]-train[g]-train[h]*train[i]*train[j]\n",
        "    df['computed_88'] =train[a]+train[b]+train[c]-train[d]-train[e]-train[f]-train[g]-train[h]*train[i]/train[j]\n",
        "    df['computed_89'] =train[a]+train[b]+train[c]-train[d]-train[e]-train[f]-train[g]-train[h]/train[i]/train[j]\n",
        "    df['computed_90'] =train[a]+train[b]+train[c]-train[d]-train[e]-train[f]-train[g]*train[h]*train[i]*train[j]\n",
        "    df['computed_91'] =train[a]+train[b]+train[c]-train[d]-train[e]-train[f]-train[g]*train[h]*train[i]/train[j]\n",
        "    df['computed_92'] =train[a]+train[b]+train[c]-train[d]-train[e]-train[f]-train[g]*train[h]/train[i]/train[j]\n",
        "    df['computed_93'] =train[a]+train[b]+train[c]-train[d]-train[e]-train[f]-train[g]/train[h]/train[i]/train[j]\n",
        "    df['computed_94'] =train[a]+train[b]+train[c]-train[d]-train[e]-train[f]*train[g]*train[h]*train[i]*train[j]\n",
        "    df['computed_95'] =train[a]+train[b]+train[c]-train[d]-train[e]-train[f]*train[g]*train[h]*train[i]/train[j]\n",
        "    df['computed_96'] =train[a]+train[b]+train[c]-train[d]-train[e]-train[f]*train[g]*train[h]/train[i]/train[j]\n",
        "    df['computed_97'] =train[a]+train[b]+train[c]-train[d]-train[e]-train[f]*train[g]/train[h]/train[i]/train[j]\n",
        "    df['computed_98'] =train[a]+train[b]+train[c]-train[d]-train[e]-train[f]/train[g]/train[h]/train[i]/train[j]\n",
        "    df['computed_99'] =train[a]+train[b]+train[c]-train[d]-train[e]*train[f]*train[g]*train[h]*train[i]*train[j]\n",
        "    df['computed_100'] =train[a]+train[b]+train[c]-train[d]-train[e]*train[f]*train[g]*train[h]*train[i]/train[j]\n",
        "    df['computed_101'] =train[a]+train[b]+train[c]-train[d]-train[e]*train[f]*train[g]*train[h]/train[i]/train[j]\n",
        "    df['computed_102'] =train[a]+train[b]+train[c]-train[d]-train[e]*train[f]*train[g]/train[h]/train[i]/train[j]\n",
        "    df['computed_103'] =train[a]+train[b]+train[c]-train[d]-train[e]*train[f]/train[g]/train[h]/train[i]/train[j]\n",
        "    df['computed_104'] =train[a]+train[b]+train[c]-train[d]-train[e]/train[f]/train[g]/train[h]/train[i]/train[j]\n",
        "    df['computed_105'] =train[a]+train[b]+train[c]-train[d]*train[e]*train[f]*train[g]*train[h]*train[i]*train[j]\n",
        "    df['computed_106'] =train[a]+train[b]+train[c]-train[d]*train[e]*train[f]*train[g]*train[h]*train[i]/train[j]\n",
        "    df['computed_107'] =train[a]+train[b]+train[c]-train[d]*train[e]*train[f]*train[g]*train[h]/train[i]/train[j]\n",
        "    df['computed_108'] =train[a]+train[b]+train[c]-train[d]*train[e]*train[f]*train[g]/train[h]/train[i]/train[j]\n",
        "    df['computed_109'] =train[a]+train[b]+train[c]-train[d]*train[e]*train[f]/train[g]/train[h]/train[i]/train[j]\n",
        "    df['computed_110'] =train[a]+train[b]+train[c]-train[d]*train[e]/train[f]/train[g]/train[h]/train[i]/train[j]\n",
        "    df['computed_111'] =train[a]+train[b]+train[c]-train[d]/train[e]/train[f]/train[g]/train[h]/train[i]/train[j]\n",
        "    df['computed_112'] =train[a]+train[b]+train[c]*train[d]*train[e]*train[f]*train[g]*train[h]*train[i]*train[j]\n",
        "    df['computed_113'] =train[a]+train[b]+train[c]*train[d]*train[e]*train[f]*train[g]*train[h]*train[i]/train[j]\n",
        "    df['computed_114'] =train[a]+train[b]+train[c]*train[d]*train[e]*train[f]*train[g]*train[h]/train[i]/train[j]\n",
        "    df['computed_115'] =train[a]+train[b]+train[c]*train[d]*train[e]*train[f]*train[g]/train[h]/train[i]/train[j]\n",
        "    df['computed_116'] =train[a]+train[b]+train[c]*train[d]*train[e]*train[f]/train[g]/train[h]/train[i]/train[j]\n",
        "    df['computed_117'] =train[a]+train[b]+train[c]*train[d]*train[e]/train[f]/train[g]/train[h]/train[i]/train[j]\n",
        "    df['computed_118'] =train[a]+train[b]+train[c]*train[d]/train[e]/train[f]/train[g]/train[h]/train[i]/train[j]\n",
        "    df['computed_119'] =train[a]+train[b]+train[c]/train[d]/train[e]/train[f]/train[g]/train[h]/train[i]/train[j]\n",
        "    df['computed_120'] =train[a]+train[b]-train[c]-train[d]-train[e]-train[f]-train[g]-train[h]-train[i]-train[j]\n",
        "    df['computed_121'] =train[a]+train[b]-train[c]-train[d]-train[e]-train[f]-train[g]-train[h]-train[i]*train[j]\n",
        "    df['computed_122'] =train[a]+train[b]-train[c]-train[d]-train[e]-train[f]-train[g]-train[h]-train[i]/train[j]\n",
        "    df['computed_123'] =train[a]+train[b]-train[c]-train[d]-train[e]-train[f]-train[g]-train[h]*train[i]*train[j]\n",
        "    df['computed_124'] =train[a]+train[b]-train[c]-train[d]-train[e]-train[f]-train[g]-train[h]*train[i]/train[j]\n",
        "    df['computed_125'] =train[a]+train[b]-train[c]-train[d]-train[e]-train[f]-train[g]-train[h]/train[i]/train[j]\n",
        "    df['computed_126'] =train[a]+train[b]-train[c]-train[d]-train[e]-train[f]-train[g]*train[h]*train[i]*train[j]\n",
        "    df['computed_127'] =train[a]+train[b]-train[c]-train[d]-train[e]-train[f]-train[g]*train[h]*train[i]/train[j]\n",
        "    df['computed_128'] =train[a]+train[b]-train[c]-train[d]-train[e]-train[f]-train[g]*train[h]/train[i]/train[j]\n",
        "    df['computed_129'] =train[a]+train[b]-train[c]-train[d]-train[e]-train[f]-train[g]/train[h]/train[i]/train[j]\n",
        "    df['computed_130'] =train[a]+train[b]-train[c]-train[d]-train[e]-train[f]*train[g]*train[h]*train[i]*train[j]\n",
        "    df['computed_131'] =train[a]+train[b]-train[c]-train[d]-train[e]-train[f]*train[g]*train[h]*train[i]/train[j]\n",
        "    df['computed_132'] =train[a]+train[b]-train[c]-train[d]-train[e]-train[f]*train[g]*train[h]/train[i]/train[j]\n",
        "    df['computed_133'] =train[a]+train[b]-train[c]-train[d]-train[e]-train[f]*train[g]/train[h]/train[i]/train[j]\n",
        "    df['computed_134'] =train[a]+train[b]-train[c]-train[d]-train[e]-train[f]/train[g]/train[h]/train[i]/train[j]\n",
        "    df['computed_135'] =train[a]+train[b]-train[c]-train[d]-train[e]*train[f]*train[g]*train[h]*train[i]*train[j]\n",
        "    df['computed_136'] =train[a]+train[b]-train[c]-train[d]-train[e]*train[f]*train[g]*train[h]*train[i]/train[j]\n",
        "    df['computed_137'] =train[a]+train[b]-train[c]-train[d]-train[e]*train[f]*train[g]*train[h]/train[i]/train[j]\n",
        "    df['computed_138'] =train[a]+train[b]-train[c]-train[d]-train[e]*train[f]*train[g]/train[h]/train[i]/train[j]\n",
        "    df['computed_139'] =train[a]+train[b]-train[c]-train[d]-train[e]*train[f]/train[g]/train[h]/train[i]/train[j]\n",
        "    df['computed_140'] =train[a]+train[b]-train[c]-train[d]-train[e]/train[f]/train[g]/train[h]/train[i]/train[j]\n",
        "    df['computed_141'] =train[a]+train[b]-train[c]-train[d]*train[e]*train[f]*train[g]*train[h]*train[i]*train[j]\n",
        "    df['computed_142'] =train[a]+train[b]-train[c]-train[d]*train[e]*train[f]*train[g]*train[h]*train[i]/train[j]\n",
        "    df['computed_143'] =train[a]+train[b]-train[c]-train[d]*train[e]*train[f]*train[g]*train[h]/train[i]/train[j]\n",
        "    df['computed_144'] =train[a]+train[b]-train[c]-train[d]*train[e]*train[f]*train[g]/train[h]/train[i]/train[j]\n",
        "    df['computed_145'] =train[a]+train[b]-train[c]-train[d]*train[e]*train[f]/train[g]/train[h]/train[i]/train[j]\n",
        "    df['computed_146'] =train[a]+train[b]-train[c]-train[d]*train[e]/train[f]/train[g]/train[h]/train[i]/train[j]\n",
        "    df['computed_147'] =train[a]+train[b]-train[c]-train[d]/train[e]/train[f]/train[g]/train[h]/train[i]/train[j]\n",
        "    df['computed_148'] =train[a]+train[b]-train[c]*train[d]*train[e]*train[f]*train[g]*train[h]*train[i]*train[j]\n",
        "    df['computed_149'] =train[a]+train[b]-train[c]*train[d]*train[e]*train[f]*train[g]*train[h]*train[i]/train[j]\n",
        "    df['computed_150'] =train[a]+train[b]-train[c]*train[d]*train[e]*train[f]*train[g]*train[h]/train[i]/train[j]\n",
        "    df['computed_151'] =train[a]+train[b]-train[c]*train[d]*train[e]*train[f]*train[g]/train[h]/train[i]/train[j]\n",
        "    df['computed_152'] =train[a]+train[b]-train[c]*train[d]*train[e]*train[f]/train[g]/train[h]/train[i]/train[j]\n",
        "    df['computed_153'] =train[a]+train[b]-train[c]*train[d]*train[e]/train[f]/train[g]/train[h]/train[i]/train[j]\n",
        "    df['computed_154'] =train[a]+train[b]-train[c]*train[d]/train[e]/train[f]/train[g]/train[h]/train[i]/train[j]\n",
        "    df['computed_155'] =train[a]+train[b]-train[c]/train[d]/train[e]/train[f]/train[g]/train[h]/train[i]/train[j]\n",
        "    df['computed_156'] =train[a]+train[b]*train[c]*train[d]*train[e]*train[f]*train[g]*train[h]*train[i]*train[j]\n",
        "    df['computed_157'] =train[a]+train[b]*train[c]*train[d]*train[e]*train[f]*train[g]*train[h]*train[i]/train[j]\n",
        "    df['computed_158'] =train[a]+train[b]*train[c]*train[d]*train[e]*train[f]*train[g]*train[h]/train[i]/train[j]\n",
        "    df['computed_159'] =train[a]+train[b]*train[c]*train[d]*train[e]*train[f]*train[g]/train[h]/train[i]/train[j]\n",
        "    df['computed_160'] =train[a]+train[b]*train[c]*train[d]*train[e]*train[f]/train[g]/train[h]/train[i]/train[j]\n",
        "    df['computed_161'] =train[a]+train[b]*train[c]*train[d]*train[e]/train[f]/train[g]/train[h]/train[i]/train[j]\n",
        "    df['computed_162'] =train[a]+train[b]*train[c]*train[d]/train[e]/train[f]/train[g]/train[h]/train[i]/train[j]\n",
        "    df['computed_163'] =train[a]+train[b]*train[c]/train[d]/train[e]/train[f]/train[g]/train[h]/train[i]/train[j]\n",
        "    df['computed_164'] =train[a]+train[b]/train[c]/train[d]/train[e]/train[f]/train[g]/train[h]/train[i]/train[j]\n",
        "    df['computed_165'] =train[a]-train[b]-train[c]-train[d]-train[e]-train[f]-train[g]-train[h]-train[i]-train[j]\n",
        "    df['computed_166'] =train[a]-train[b]-train[c]-train[d]-train[e]-train[f]-train[g]-train[h]-train[i]*train[j]\n",
        "    df['computed_167'] =train[a]-train[b]-train[c]-train[d]-train[e]-train[f]-train[g]-train[h]-train[i]/train[j]\n",
        "    df['computed_168'] =train[a]-train[b]-train[c]-train[d]-train[e]-train[f]-train[g]-train[h]*train[i]*train[j]\n",
        "    df['computed_169'] =train[a]-train[b]-train[c]-train[d]-train[e]-train[f]-train[g]-train[h]*train[i]/train[j]\n",
        "    df['computed_170'] =train[a]-train[b]-train[c]-train[d]-train[e]-train[f]-train[g]-train[h]/train[i]/train[j]\n",
        "    df['computed_171'] =train[a]-train[b]-train[c]-train[d]-train[e]-train[f]-train[g]*train[h]*train[i]*train[j]\n",
        "    df['computed_172'] =train[a]-train[b]-train[c]-train[d]-train[e]-train[f]-train[g]*train[h]*train[i]/train[j]\n",
        "    df['computed_173'] =train[a]-train[b]-train[c]-train[d]-train[e]-train[f]-train[g]*train[h]/train[i]/train[j]\n",
        "    df['computed_174'] =train[a]-train[b]-train[c]-train[d]-train[e]-train[f]-train[g]/train[h]/train[i]/train[j]\n",
        "    df['computed_175'] =train[a]-train[b]-train[c]-train[d]-train[e]-train[f]*train[g]*train[h]*train[i]*train[j]\n",
        "    df['computed_176'] =train[a]-train[b]-train[c]-train[d]-train[e]-train[f]*train[g]*train[h]*train[i]/train[j]\n",
        "    df['computed_177'] =train[a]-train[b]-train[c]-train[d]-train[e]-train[f]*train[g]*train[h]/train[i]/train[j]\n",
        "    df['computed_178'] =train[a]-train[b]-train[c]-train[d]-train[e]-train[f]*train[g]/train[h]/train[i]/train[j]\n",
        "    df['computed_179'] =train[a]-train[b]-train[c]-train[d]-train[e]-train[f]/train[g]/train[h]/train[i]/train[j]\n",
        "    df['computed_180'] =train[a]-train[b]-train[c]-train[d]-train[e]*train[f]*train[g]*train[h]*train[i]*train[j]\n",
        "    df['computed_181'] =train[a]-train[b]-train[c]-train[d]-train[e]*train[f]*train[g]*train[h]*train[i]/train[j]\n",
        "    df['computed_182'] =train[a]-train[b]-train[c]-train[d]-train[e]*train[f]*train[g]*train[h]/train[i]/train[j]\n",
        "    df['computed_183'] =train[a]-train[b]-train[c]-train[d]-train[e]*train[f]*train[g]/train[h]/train[i]/train[j]\n",
        "    df['computed_184'] =train[a]-train[b]-train[c]-train[d]-train[e]*train[f]/train[g]/train[h]/train[i]/train[j]\n",
        "    df['computed_185'] =train[a]-train[b]-train[c]-train[d]-train[e]/train[f]/train[g]/train[h]/train[i]/train[j]\n",
        "    df['computed_186'] =train[a]-train[b]-train[c]-train[d]*train[e]*train[f]*train[g]*train[h]*train[i]*train[j]\n",
        "    df['computed_187'] =train[a]-train[b]-train[c]-train[d]*train[e]*train[f]*train[g]*train[h]*train[i]/train[j]\n",
        "    df['computed_188'] =train[a]-train[b]-train[c]-train[d]*train[e]*train[f]*train[g]*train[h]/train[i]/train[j]\n",
        "    df['computed_189'] =train[a]-train[b]-train[c]-train[d]*train[e]*train[f]*train[g]/train[h]/train[i]/train[j]\n",
        "    df['computed_190'] =train[a]-train[b]-train[c]-train[d]*train[e]*train[f]/train[g]/train[h]/train[i]/train[j]\n",
        "    df['computed_191'] =train[a]-train[b]-train[c]-train[d]*train[e]/train[f]/train[g]/train[h]/train[i]/train[j]\n",
        "    df['computed_192'] =train[a]-train[b]-train[c]-train[d]/train[e]/train[f]/train[g]/train[h]/train[i]/train[j]\n",
        "    df['computed_193'] =train[a]-train[b]-train[c]*train[d]*train[e]*train[f]*train[g]*train[h]*train[i]*train[j]\n",
        "    df['computed_194'] =train[a]-train[b]-train[c]*train[d]*train[e]*train[f]*train[g]*train[h]*train[i]/train[j]\n",
        "    df['computed_195'] =train[a]-train[b]-train[c]*train[d]*train[e]*train[f]*train[g]*train[h]/train[i]/train[j]\n",
        "    df['computed_196'] =train[a]-train[b]-train[c]*train[d]*train[e]*train[f]*train[g]/train[h]/train[i]/train[j]\n",
        "    df['computed_197'] =train[a]-train[b]-train[c]*train[d]*train[e]*train[f]/train[g]/train[h]/train[i]/train[j]\n",
        "    df['computed_198'] =train[a]-train[b]-train[c]*train[d]*train[e]/train[f]/train[g]/train[h]/train[i]/train[j]\n",
        "    df['computed_199'] =train[a]-train[b]-train[c]*train[d]/train[e]/train[f]/train[g]/train[h]/train[i]/train[j]\n",
        "    df['computed_200'] =train[a]-train[b]-train[c]/train[d]/train[e]/train[f]/train[g]/train[h]/train[i]/train[j]\n",
        "    df['computed_201'] =train[a]-train[b]*train[c]*train[d]*train[e]*train[f]*train[g]*train[h]*train[i]*train[j]\n",
        "    df['computed_202'] =train[a]-train[b]*train[c]*train[d]*train[e]*train[f]*train[g]*train[h]*train[i]/train[j]\n",
        "    df['computed_203'] =train[a]-train[b]*train[c]*train[d]*train[e]*train[f]*train[g]*train[h]/train[i]/train[j]\n",
        "    df['computed_204'] =train[a]-train[b]*train[c]*train[d]*train[e]*train[f]*train[g]/train[h]/train[i]/train[j]\n",
        "    df['computed_205'] =train[a]-train[b]*train[c]*train[d]*train[e]*train[f]/train[g]/train[h]/train[i]/train[j]\n",
        "    df['computed_206'] =train[a]-train[b]*train[c]*train[d]*train[e]/train[f]/train[g]/train[h]/train[i]/train[j]\n",
        "    df['computed_207'] =train[a]-train[b]*train[c]*train[d]/train[e]/train[f]/train[g]/train[h]/train[i]/train[j]\n",
        "    df['computed_208'] =train[a]-train[b]*train[c]/train[d]/train[e]/train[f]/train[g]/train[h]/train[i]/train[j]\n",
        "    df['computed_209'] =train[a]-train[b]/train[c]/train[d]/train[e]/train[f]/train[g]/train[h]/train[i]/train[j]\n",
        "    df['computed_210'] =train[a]*train[b]*train[c]*train[d]*train[e]*train[f]*train[g]*train[h]*train[i]*train[j]\n",
        "    df['computed_211'] =train[a]*train[b]*train[c]*train[d]*train[e]*train[f]*train[g]*train[h]*train[i]/train[j]\n",
        "    df['computed_212'] =train[a]*train[b]*train[c]*train[d]*train[e]*train[f]*train[g]*train[h]/train[i]/train[j]\n",
        "    df['computed_213'] =train[a]*train[b]*train[c]*train[d]*train[e]*train[f]*train[g]/train[h]/train[i]/train[j]\n",
        "    df['computed_214'] =train[a]*train[b]*train[c]*train[d]*train[e]*train[f]/train[g]/train[h]/train[i]/train[j]\n",
        "    df['computed_215'] =train[a]*train[b]*train[c]*train[d]*train[e]/train[f]/train[g]/train[h]/train[i]/train[j]\n",
        "    df['computed_216'] =train[a]*train[b]*train[c]*train[d]/train[e]/train[f]/train[g]/train[h]/train[i]/train[j]\n",
        "    df['computed_217'] =train[a]*train[b]*train[c]/train[d]/train[e]/train[f]/train[g]/train[h]/train[i]/train[j]\n",
        "    df['computed_218'] =train[a]*train[b]/train[c]/train[d]/train[e]/train[f]/train[g]/train[h]/train[i]/train[j]\n",
        "    df['computed_219'] =train[a]/train[b]/train[c]/train[d]/train[e]/train[f]/train[g]/train[h]/train[i]/train[j]\n",
        "    \n",
        "    for i in df.corrwith(train['resp']).values:\n",
        "        score.append(i)\n",
        "    count += 1\n",
        "    print(count, \"done out of \", len(ten_combinations) )\n",
        "    if count % 10 ==0:\n",
        "        output.clear()"
      ],
      "execution_count": 326,
      "outputs": [
        {
          "output_type": "stream",
          "text": [
            "3001 done out of  3003\n",
            "3002 done out of  3003\n",
            "3003 done out of  3003\n",
            "CPU times: user 9h 52min 47s, sys: 37min 5s, total: 10h 29min 52s\n",
            "Wall time: 7h 19min 53s\n"
          ],
          "name": "stdout"
        }
      ]
    },
    {
      "cell_type": "code",
      "metadata": {
        "id": "AxFk_EZcZH5H"
      },
      "source": [
        ""
      ],
      "execution_count": null,
      "outputs": []
    },
    {
      "cell_type": "code",
      "metadata": {
        "id": "Y1_MTF-28zIg"
      },
      "source": [
        "ten_features = pd.DataFrame(zip(feature_names, score), columns=['feature', 'score'])"
      ],
      "execution_count": 327,
      "outputs": []
    },
    {
      "cell_type": "code",
      "metadata": {
        "id": "LA1wIONG8zIl"
      },
      "source": [
        "ten_features['scores'] = five_features['score'].abs()"
      ],
      "execution_count": 328,
      "outputs": []
    },
    {
      "cell_type": "code",
      "metadata": {
        "id": "N9e0n0-O8zIm"
      },
      "source": [
        "ten_features.sort_values(by='scores', ascending=False)[['feature', 'scores']][:25]"
      ],
      "execution_count": null,
      "outputs": []
    },
    {
      "cell_type": "code",
      "metadata": {
        "id": "xg0Un1B58zIn"
      },
      "source": [
        "ten_features.to_csv('five_features.csv', index=False)"
      ],
      "execution_count": 330,
      "outputs": []
    },
    {
      "cell_type": "code",
      "metadata": {
        "id": "57l3RsUT86gS"
      },
      "source": [
        "pd.options.display.max_rows = 500\n",
        "ten_features[:200]"
      ],
      "execution_count": null,
      "outputs": []
    },
    {
      "cell_type": "code",
      "metadata": {
        "id": "QZxRrHVKAVMc"
      },
      "source": [
        "ten_features = pd.read_csv('five_features.csv')"
      ],
      "execution_count": 333,
      "outputs": []
    },
    {
      "cell_type": "code",
      "metadata": {
        "id": "FIpnYGSjDL46"
      },
      "source": [
        "ten_features.sort_values(by='scores', ascending=False)"
      ],
      "execution_count": null,
      "outputs": []
    },
    {
      "cell_type": "code",
      "metadata": {
        "id": "kEbac51vDYJW",
        "outputId": "23474262-9740-4791-8196-c8048c34fcc2",
        "colab": {
          "base_uri": "https://localhost:8080/"
        }
      },
      "source": [
        "np.power(train['feature_100'], 0.09)"
      ],
      "execution_count": 337,
      "outputs": [
        {
          "output_type": "execute_result",
          "data": {
            "text/plain": [
              "0          0.997231\n",
              "2               NaN\n",
              "3               NaN\n",
              "6               NaN\n",
              "7               NaN\n",
              "             ...   \n",
              "1862550    0.957455\n",
              "1862552    1.044606\n",
              "1862584    0.939044\n",
              "1862587         NaN\n",
              "1862595    1.032051\n",
              "Name: feature_100, Length: 1571415, dtype: float64"
            ]
          },
          "metadata": {
            "tags": []
          },
          "execution_count": 337
        }
      ]
    },
    {
      "cell_type": "code",
      "metadata": {
        "id": "gQU9UteRDnZx"
      },
      "source": [
        "train.isna().sum()"
      ],
      "execution_count": null,
      "outputs": []
    },
    {
      "cell_type": "code",
      "metadata": {
        "id": "SQ_Ljr5DDryt"
      },
      "source": [
        "def diagnostic_plots(df, variable):\n",
        "    plt.figure(figsize=(15,6))\n",
        "    plt.subplot(1, 2, 1)\n",
        "    df[variable].hist(bins=30)\n",
        "    plt.subplot(1, 2, 2)\n",
        "    stats.probplot(df[variable], dist=\"norm\", plot=plt)\n",
        "    plt.show()"
      ],
      "execution_count": 339,
      "outputs": []
    },
    {
      "cell_type": "code",
      "metadata": {
        "id": "_BWsyzfvEASU"
      },
      "source": [
        "np.linspace(0.0001, 5, 100)"
      ],
      "execution_count": null,
      "outputs": []
    },
    {
      "cell_type": "code",
      "metadata": {
        "id": "Mh8Z0QNSEYXz"
      },
      "source": [
        "df = pd.DataFrame()\n",
        "for i in np.linspace(2.2, 2.6, 50):\n",
        "    for f in [f'feature_{i}' for i in range(1,130)]:\n",
        "        df['power_'+str(f)] = np.power(train[f], i)\n",
        "    print(\"power : \", i, \"corr == \", df.corrwith(train['resp']).abs().sort_values(ascending=False)[:2].values)"
      ],
      "execution_count": null,
      "outputs": []
    },
    {
      "cell_type": "code",
      "metadata": {
        "id": "Lv2TKNzmEPks"
      },
      "source": [
        "np.power(train[feat], 2.526530612244898).corrwith(train['resp']).abs().sort_values(ascending=False)"
      ],
      "execution_count": null,
      "outputs": []
    },
    {
      "cell_type": "code",
      "metadata": {
        "id": "MQWQmSLdIOdS",
        "outputId": "d2e3e94d-d109-4e67-e176-272f0f73708d",
        "colab": {
          "base_uri": "https://localhost:8080/",
          "height": 383
        }
      },
      "source": [
        "scores = []\n",
        "power = []\n",
        "df = pd.DataFrame()\n",
        "for i in np.linspace(0.9, 2.6, 100):\n",
        "    df['power'] = np.power(train['feature_39'], i)\n",
        "    # print(\"power : \", i, \"corr == \", np.abs(df['power'].corr(train['resp'])) )\n",
        "    power.append(i)\n",
        "    scores.append(np.abs(df['power'].corr(train['resp'])))\n",
        "res = pd.DataFrame(scores, index=power, columns=['corr'])\n",
        "print(res.loc[res['corr'].idxmax()])\n",
        "display(res.sort_values(by='corr', ascending=False).head(10))"
      ],
      "execution_count": 421,
      "outputs": [
        {
          "output_type": "stream",
          "text": [
            "corr    0.057834\n",
            "Name: 2.5313131313131314, dtype: float64\n"
          ],
          "name": "stdout"
        },
        {
          "output_type": "display_data",
          "data": {
            "text/html": [
              "<div>\n",
              "<style scoped>\n",
              "    .dataframe tbody tr th:only-of-type {\n",
              "        vertical-align: middle;\n",
              "    }\n",
              "\n",
              "    .dataframe tbody tr th {\n",
              "        vertical-align: top;\n",
              "    }\n",
              "\n",
              "    .dataframe thead th {\n",
              "        text-align: right;\n",
              "    }\n",
              "</style>\n",
              "<table border=\"1\" class=\"dataframe\">\n",
              "  <thead>\n",
              "    <tr style=\"text-align: right;\">\n",
              "      <th></th>\n",
              "      <th>corr</th>\n",
              "    </tr>\n",
              "  </thead>\n",
              "  <tbody>\n",
              "    <tr>\n",
              "      <th>2.531313</th>\n",
              "      <td>0.057834</td>\n",
              "    </tr>\n",
              "    <tr>\n",
              "      <th>2.548485</th>\n",
              "      <td>0.057834</td>\n",
              "    </tr>\n",
              "    <tr>\n",
              "      <th>2.514141</th>\n",
              "      <td>0.057831</td>\n",
              "    </tr>\n",
              "    <tr>\n",
              "      <th>2.565657</th>\n",
              "      <td>0.057831</td>\n",
              "    </tr>\n",
              "    <tr>\n",
              "      <th>2.496970</th>\n",
              "      <td>0.057827</td>\n",
              "    </tr>\n",
              "    <tr>\n",
              "      <th>2.582828</th>\n",
              "      <td>0.057826</td>\n",
              "    </tr>\n",
              "    <tr>\n",
              "      <th>2.479798</th>\n",
              "      <td>0.057819</td>\n",
              "    </tr>\n",
              "    <tr>\n",
              "      <th>2.600000</th>\n",
              "      <td>0.057818</td>\n",
              "    </tr>\n",
              "    <tr>\n",
              "      <th>2.462626</th>\n",
              "      <td>0.057809</td>\n",
              "    </tr>\n",
              "    <tr>\n",
              "      <th>2.445455</th>\n",
              "      <td>0.057797</td>\n",
              "    </tr>\n",
              "  </tbody>\n",
              "</table>\n",
              "</div>"
            ],
            "text/plain": [
              "              corr\n",
              "2.531313  0.057834\n",
              "2.548485  0.057834\n",
              "2.514141  0.057831\n",
              "2.565657  0.057831\n",
              "2.496970  0.057827\n",
              "2.582828  0.057826\n",
              "2.479798  0.057819\n",
              "2.600000  0.057818\n",
              "2.462626  0.057809\n",
              "2.445455  0.057797"
            ]
          },
          "metadata": {
            "tags": []
          }
        }
      ]
    },
    {
      "cell_type": "code",
      "metadata": {
        "id": "yfFGNR-WOyvA",
        "outputId": "070e866a-7a72-4f9c-8c12-1e47fc02fbe3",
        "colab": {
          "base_uri": "https://localhost:8080/"
        }
      },
      "source": [
        "corr[40:50]"
      ],
      "execution_count": 544,
      "outputs": [
        {
          "output_type": "execute_result",
          "data": {
            "text/plain": [
              "feature_42     0.012365\n",
              "feature_91     0.011558\n",
              "feature_26     0.011444\n",
              "feature_97     0.010965\n",
              "feature_5      0.010879\n",
              "feature_8      0.010841\n",
              "feature_106    0.010557\n",
              "feature_2      0.010423\n",
              "feature_82     0.010390\n",
              "feature_85     0.010340\n",
              "dtype: float64"
            ]
          },
          "metadata": {
            "tags": []
          },
          "execution_count": 544
        }
      ]
    },
    {
      "cell_type": "code",
      "metadata": {
        "id": "9QCjKnVYQPZl",
        "outputId": "1151e664-ed1f-4750-e0ba-bb0169566af4",
        "colab": {
          "base_uri": "https://localhost:8080/",
          "height": 418
        }
      },
      "source": [
        "%%time\n",
        "scores = []\n",
        "power = []\n",
        "df = pd.DataFrame()\n",
        "for i in np.linspace(0.001,1,50):\n",
        "    df['power'] = np.power(train['feature_85'], i)\n",
        "    # print(\"power : \", i, \"corr == \", np.abs(df['power'].corr(train['resp'])) )\n",
        "    power.append(i)\n",
        "    scores.append(np.abs(df['power'].corr(train['resp'])))\n",
        "res = pd.DataFrame(scores, index=power, columns=['corr'])\n",
        "print(res.loc[res['corr'].idxmax()])\n",
        "display(res.sort_values(by='corr', ascending=False).head(10))"
      ],
      "execution_count": 597,
      "outputs": [
        {
          "output_type": "stream",
          "text": [
            "corr    0.01034\n",
            "Name: 1.0, dtype: float64\n"
          ],
          "name": "stdout"
        },
        {
          "output_type": "display_data",
          "data": {
            "text/html": [
              "<div>\n",
              "<style scoped>\n",
              "    .dataframe tbody tr th:only-of-type {\n",
              "        vertical-align: middle;\n",
              "    }\n",
              "\n",
              "    .dataframe tbody tr th {\n",
              "        vertical-align: top;\n",
              "    }\n",
              "\n",
              "    .dataframe thead th {\n",
              "        text-align: right;\n",
              "    }\n",
              "</style>\n",
              "<table border=\"1\" class=\"dataframe\">\n",
              "  <thead>\n",
              "    <tr style=\"text-align: right;\">\n",
              "      <th></th>\n",
              "      <th>corr</th>\n",
              "    </tr>\n",
              "  </thead>\n",
              "  <tbody>\n",
              "    <tr>\n",
              "      <th>1.000000</th>\n",
              "      <td>0.010340</td>\n",
              "    </tr>\n",
              "    <tr>\n",
              "      <th>0.001000</th>\n",
              "      <td>0.003710</td>\n",
              "    </tr>\n",
              "    <tr>\n",
              "      <th>0.021388</th>\n",
              "      <td>0.003662</td>\n",
              "    </tr>\n",
              "    <tr>\n",
              "      <th>0.041776</th>\n",
              "      <td>0.003611</td>\n",
              "    </tr>\n",
              "    <tr>\n",
              "      <th>0.062163</th>\n",
              "      <td>0.003556</td>\n",
              "    </tr>\n",
              "    <tr>\n",
              "      <th>0.082551</th>\n",
              "      <td>0.003497</td>\n",
              "    </tr>\n",
              "    <tr>\n",
              "      <th>0.102939</th>\n",
              "      <td>0.003436</td>\n",
              "    </tr>\n",
              "    <tr>\n",
              "      <th>0.123327</th>\n",
              "      <td>0.003371</td>\n",
              "    </tr>\n",
              "    <tr>\n",
              "      <th>0.143714</th>\n",
              "      <td>0.003305</td>\n",
              "    </tr>\n",
              "    <tr>\n",
              "      <th>0.164102</th>\n",
              "      <td>0.003236</td>\n",
              "    </tr>\n",
              "  </tbody>\n",
              "</table>\n",
              "</div>"
            ],
            "text/plain": [
              "              corr\n",
              "1.000000  0.010340\n",
              "0.001000  0.003710\n",
              "0.021388  0.003662\n",
              "0.041776  0.003611\n",
              "0.062163  0.003556\n",
              "0.082551  0.003497\n",
              "0.102939  0.003436\n",
              "0.123327  0.003371\n",
              "0.143714  0.003305\n",
              "0.164102  0.003236"
            ]
          },
          "metadata": {
            "tags": []
          }
        },
        {
          "output_type": "stream",
          "text": [
            "CPU times: user 7.86 s, sys: 61 ms, total: 7.92 s\n",
            "Wall time: 3.73 s\n"
          ],
          "name": "stdout"
        }
      ]
    },
    {
      "cell_type": "code",
      "metadata": {
        "id": "gtJVUYixzad-",
        "outputId": "d13df772-4f87-4913-8632-f00df7da7298",
        "colab": {
          "base_uri": "https://localhost:8080/"
        }
      },
      "source": [
        "print(corr[:25].index.to_list())"
      ],
      "execution_count": 757,
      "outputs": [
        {
          "output_type": "stream",
          "text": [
            "['feature_39', 'feature_31', 'feature_27', 'feature_33', 'feature_35', 'feature_29', 'feature_21', 'feature_40', 'feature_37', 'feature_17', 'feature_28', 'feature_23', 'feature_32', 'feature_0', 'feature_25', 'feature_34', 'feature_38', 'feature_36', 'feature_13', 'feature_22', 'feature_1', 'feature_11', 'feature_18', 'feature_19', 'feature_7']\n"
          ],
          "name": "stdout"
        }
      ]
    },
    {
      "cell_type": "markdown",
      "metadata": {
        "id": "cgmES_zkQMje"
      },
      "source": [
        "# POWER TRANS AND CORRELATION"
      ]
    },
    {
      "cell_type": "code",
      "metadata": {
        "id": "NBf_xkm8zhR9"
      },
      "source": [
        "to_keep  = ['feature_39', 'feature_31', 'feature_27', 'feature_33', 'feature_35', 'feature_29', 'feature_21', 'feature_40', 'feature_37', 'feature_17', 'feature_28', 'feature_23', 'feature_32', 'feature_0', 'feature_25', 'feature_34', 'feature_38', 'feature_36', 'feature_13', 'feature_22', 'feature_1', 'feature_11', 'feature_18', 'feature_19', 'feature_7']\n",
        "df = train[to_keep]"
      ],
      "execution_count": 6,
      "outputs": []
    },
    {
      "cell_type": "code",
      "metadata": {
        "id": "ds1uJqADzmp1"
      },
      "source": [
        "df['feature_39'] = np.power(train['feature_39'],2.5313131313131314 )\n",
        "df['feature_37'] = np.power(train['feature_37'], 3.850701402805611)\n",
        "df['feature_17'] = np.power(train['feature_17'], 2.658291457286432)\n",
        "df['feature_38'] = np.power(train['feature_38'], 5.085427135678392 )"
      ],
      "execution_count": 7,
      "outputs": []
    },
    {
      "cell_type": "code",
      "metadata": {
        "id": "zV2jbj6GQTZP",
        "outputId": "4558304f-1c72-404e-ab76-6c8e1ec9e97e",
        "colab": {
          "base_uri": "https://localhost:8080/"
        }
      },
      "source": [
        "import gc\n",
        "gc.collect()"
      ],
      "execution_count": 8,
      "outputs": [
        {
          "output_type": "execute_result",
          "data": {
            "text/plain": [
              "244"
            ]
          },
          "metadata": {
            "tags": []
          },
          "execution_count": 8
        }
      ]
    },
    {
      "cell_type": "code",
      "metadata": {
        "id": "Eum6VYnOQbyu",
        "outputId": "0adf5b8a-5938-4076-80fc-ef0304edccf5",
        "colab": {
          "base_uri": "https://localhost:8080/"
        }
      },
      "source": [
        "len(to_keep)"
      ],
      "execution_count": 12,
      "outputs": [
        {
          "output_type": "execute_result",
          "data": {
            "text/plain": [
              "25"
            ]
          },
          "metadata": {
            "tags": []
          },
          "execution_count": 12
        }
      ]
    },
    {
      "cell_type": "code",
      "metadata": {
        "id": "llLJ0OtiRSic"
      },
      "source": [
        "# df = pd.DataFrame()\n",
        "# df['feature_39'] = np.power(train['feature_39'],2.5313131313131314 )\n",
        "# df['feature_37'] = np.power(train['feature_37'], 3.850701402805611)\n",
        "# df['feature_17'] = np.power(train['feature_17'], 2.658291457286432)\n",
        "# df['feature_38'] = np.power(train['feature_38'], 5.085427135678392 )\n",
        "\n",
        "# df['feature_31'] = train['feature_31']\n",
        "# df['feature_27']= train['feature_27']\n",
        "# df['feature_33']= train['feature_33']\n",
        "# df['feature_35']= train['feature_35']\n",
        "# df['feature_29']= train['feature_29']\n",
        "# df['feature_21']= train['feature_21']\n",
        "# df['feature_40']= train['feature_40']\n",
        "# df['feature_38']= train['feature_38']"
      ],
      "execution_count": 727,
      "outputs": []
    },
    {
      "cell_type": "code",
      "metadata": {
        "id": "E-i0E0EIoMIQ"
      },
      "source": [
        "to_combine= df.columns.to_list()"
      ],
      "execution_count": 9,
      "outputs": []
    },
    {
      "cell_type": "code",
      "metadata": {
        "id": "wioKAD3qkxZc"
      },
      "source": [
        "three_comb = []\n",
        "from itertools import combinations\n",
        "for i in combinations(to_combine, 4):\n",
        "    three_comb.append(i)"
      ],
      "execution_count": 10,
      "outputs": []
    },
    {
      "cell_type": "code",
      "metadata": {
        "id": "elxQ2gdXyYTP",
        "outputId": "dcff2819-1586-4b33-8f87-d03eed00e5b7",
        "colab": {
          "base_uri": "https://localhost:8080/"
        }
      },
      "source": [
        "len(three_comb)"
      ],
      "execution_count": 11,
      "outputs": [
        {
          "output_type": "execute_result",
          "data": {
            "text/plain": [
              "12650"
            ]
          },
          "metadata": {
            "tags": []
          },
          "execution_count": 11
        }
      ]
    },
    {
      "cell_type": "code",
      "metadata": {
        "id": "j2yACv1boGjQ"
      },
      "source": [
        "from itertools import permutations,combinations_with_replacement, combinations\n",
        "operators = [\"+\",\"-\",\"*\",\"/\"]\n",
        "op_list = []\n",
        "for i in combinations_with_replacement(operators, 3):\n",
        "    # print(i)\n",
        "    op_list.append(list(i))"
      ],
      "execution_count": 13,
      "outputs": []
    },
    {
      "cell_type": "code",
      "metadata": {
        "id": "W-UC_SVjpMgT"
      },
      "source": [
        "for_calc = []\n",
        "for i in three_comb[:1]:\n",
        "    for x, y  in enumerate(op_list):\n",
        "        f_calc = (\"df['computed_\" + str(x) + \"'] =\" + \"df[a]\" + y[0] + \"df[b]\" + y[1] + \n",
        "                  \"df[c]\" + y[2] + \"df[d]\" \n",
        "                 )\n",
        "        for_calc.append(f_calc)"
      ],
      "execution_count": 14,
      "outputs": []
    },
    {
      "cell_type": "code",
      "metadata": {
        "id": "11vz7oC1psAf",
        "outputId": "0f18c799-52f8-4dd0-a46c-bc10738243be",
        "colab": {
          "base_uri": "https://localhost:8080/"
        }
      },
      "source": [
        "len(for_calc), len(three_comb)"
      ],
      "execution_count": 15,
      "outputs": [
        {
          "output_type": "execute_result",
          "data": {
            "text/plain": [
              "(20, 12650)"
            ]
          },
          "metadata": {
            "tags": []
          },
          "execution_count": 15
        }
      ]
    },
    {
      "cell_type": "code",
      "metadata": {
        "id": "TedbODvWqBJa"
      },
      "source": [
        "feature_names = []\n",
        "for i in three_comb:\n",
        "    # print(i[0])\n",
        "    for x, y  in enumerate(op_list):\n",
        "        f_name = (i[0] + y[0] + i[1] + y[1] + i[2] + y[2] + i[3])\n",
        "        feature_names.append(f_name)"
      ],
      "execution_count": 16,
      "outputs": []
    },
    {
      "cell_type": "code",
      "metadata": {
        "id": "6-ykg6JcqvUt",
        "outputId": "01809111-5560-442b-c9b3-a9cb3f3bce58",
        "colab": {
          "base_uri": "https://localhost:8080/"
        }
      },
      "source": [
        "len(feature_names) == len(for_calc) * len(three_comb)"
      ],
      "execution_count": 17,
      "outputs": [
        {
          "output_type": "execute_result",
          "data": {
            "text/plain": [
              "True"
            ]
          },
          "metadata": {
            "tags": []
          },
          "execution_count": 17
        }
      ]
    },
    {
      "cell_type": "code",
      "metadata": {
        "id": "edR6XA_KqcMs",
        "outputId": "bcb11459-fff4-4c1d-d9b9-27d6bdf2fdcc",
        "colab": {
          "base_uri": "https://localhost:8080/"
        }
      },
      "source": [
        "for i in for_calc:\n",
        "    print(i)"
      ],
      "execution_count": 18,
      "outputs": [
        {
          "output_type": "stream",
          "text": [
            "df['computed_0'] =df[a]+df[b]+df[c]+df[d]\n",
            "df['computed_1'] =df[a]+df[b]+df[c]-df[d]\n",
            "df['computed_2'] =df[a]+df[b]+df[c]*df[d]\n",
            "df['computed_3'] =df[a]+df[b]+df[c]/df[d]\n",
            "df['computed_4'] =df[a]+df[b]-df[c]-df[d]\n",
            "df['computed_5'] =df[a]+df[b]-df[c]*df[d]\n",
            "df['computed_6'] =df[a]+df[b]-df[c]/df[d]\n",
            "df['computed_7'] =df[a]+df[b]*df[c]*df[d]\n",
            "df['computed_8'] =df[a]+df[b]*df[c]/df[d]\n",
            "df['computed_9'] =df[a]+df[b]/df[c]/df[d]\n",
            "df['computed_10'] =df[a]-df[b]-df[c]-df[d]\n",
            "df['computed_11'] =df[a]-df[b]-df[c]*df[d]\n",
            "df['computed_12'] =df[a]-df[b]-df[c]/df[d]\n",
            "df['computed_13'] =df[a]-df[b]*df[c]*df[d]\n",
            "df['computed_14'] =df[a]-df[b]*df[c]/df[d]\n",
            "df['computed_15'] =df[a]-df[b]/df[c]/df[d]\n",
            "df['computed_16'] =df[a]*df[b]*df[c]*df[d]\n",
            "df['computed_17'] =df[a]*df[b]*df[c]/df[d]\n",
            "df['computed_18'] =df[a]*df[b]/df[c]/df[d]\n",
            "df['computed_19'] =df[a]/df[b]/df[c]/df[d]\n"
          ],
          "name": "stdout"
        }
      ]
    },
    {
      "cell_type": "code",
      "metadata": {
        "colab": {
          "base_uri": "https://localhost:8080/"
        },
        "id": "_8-HKXLyqcM-",
        "outputId": "af7c825c-1dae-445a-da81-7f2d21510d84"
      },
      "source": [
        "%%time\n",
        "from google.colab import output\n",
        "score = []\n",
        "count = 0\n",
        "\n",
        "for z in three_comb:\n",
        "    a = z[0]\n",
        "    b = z[1]\n",
        "    c = z[2]\n",
        "    d = z[3]\n",
        "    # e = z[4]\n",
        "    # f = z[5]\n",
        "    # g = z[6]\n",
        "    # h = z[7]\n",
        "    # i = z[8]\n",
        "    # j = z[9]\n",
        "    \n",
        "    df['computed_0'] =df[a]+df[b]+df[c]+df[d]\n",
        "    df['computed_1'] =df[a]+df[b]+df[c]-df[d]\n",
        "    df['computed_2'] =df[a]+df[b]+df[c]*df[d]\n",
        "    df['computed_3'] =df[a]+df[b]+df[c]/df[d]\n",
        "    df['computed_4'] =df[a]+df[b]-df[c]-df[d]\n",
        "    df['computed_5'] =df[a]+df[b]-df[c]*df[d]\n",
        "    df['computed_6'] =df[a]+df[b]-df[c]/df[d]\n",
        "    df['computed_7'] =df[a]+df[b]*df[c]*df[d]\n",
        "    df['computed_8'] =df[a]+df[b]*df[c]/df[d]\n",
        "    df['computed_9'] =df[a]+df[b]/df[c]/df[d]\n",
        "    df['computed_10'] =df[a]-df[b]-df[c]-df[d]\n",
        "    df['computed_11'] =df[a]-df[b]-df[c]*df[d]\n",
        "    df['computed_12'] =df[a]-df[b]-df[c]/df[d]\n",
        "    df['computed_13'] =df[a]-df[b]*df[c]*df[d]\n",
        "    df['computed_14'] =df[a]-df[b]*df[c]/df[d]\n",
        "    df['computed_15'] =df[a]-df[b]/df[c]/df[d]\n",
        "    df['computed_16'] =df[a]*df[b]*df[c]*df[d]\n",
        "    df['computed_17'] =df[a]*df[b]*df[c]/df[d]\n",
        "    df['computed_18'] =df[a]*df[b]/df[c]/df[d]\n",
        "    df['computed_19'] =df[a]/df[b]/df[c]/df[d]\n",
        "    f = [fe for fe in df.columns if 'computed' in fe]\n",
        "    for i in df[f].corrwith(train['resp']).values:\n",
        "        score.append(i)\n",
        "    count += 1\n",
        "    print(count, \"done out of \", len(three_comb) )\n",
        "    if count % 10 ==0:\n",
        "        output.clear()"
      ],
      "execution_count": 19,
      "outputs": [
        {
          "output_type": "stream",
          "text": [
            "CPU times: user 5h 1min 15s, sys: 6min 40s, total: 5h 7min 55s\n",
            "Wall time: 4h 12min 31s\n"
          ],
          "name": "stdout"
        }
      ]
    },
    {
      "cell_type": "code",
      "metadata": {
        "id": "j0l_0ZABq0Sa"
      },
      "source": [
        "result = pd.DataFrame(zip(feature_names, score), columns=['feature', 'score'])\n",
        "result['score'] = np.abs(result['score'])\n",
        "result.dropna(inplace=True)"
      ],
      "execution_count": 20,
      "outputs": []
    },
    {
      "cell_type": "code",
      "metadata": {
        "id": "9UH7kukKs_yZ",
        "outputId": "6888a45c-f9ad-4298-9bb5-663a9c4cd2d8",
        "colab": {
          "base_uri": "https://localhost:8080/",
          "height": 406
        }
      },
      "source": [
        "result"
      ],
      "execution_count": 21,
      "outputs": [
        {
          "output_type": "execute_result",
          "data": {
            "text/html": [
              "<div>\n",
              "<style scoped>\n",
              "    .dataframe tbody tr th:only-of-type {\n",
              "        vertical-align: middle;\n",
              "    }\n",
              "\n",
              "    .dataframe tbody tr th {\n",
              "        vertical-align: top;\n",
              "    }\n",
              "\n",
              "    .dataframe thead th {\n",
              "        text-align: right;\n",
              "    }\n",
              "</style>\n",
              "<table border=\"1\" class=\"dataframe\">\n",
              "  <thead>\n",
              "    <tr style=\"text-align: right;\">\n",
              "      <th></th>\n",
              "      <th>feature</th>\n",
              "      <th>score</th>\n",
              "    </tr>\n",
              "  </thead>\n",
              "  <tbody>\n",
              "    <tr>\n",
              "      <th>0</th>\n",
              "      <td>feature_39+feature_31+feature_27+feature_33</td>\n",
              "      <td>0.060844</td>\n",
              "    </tr>\n",
              "    <tr>\n",
              "      <th>1</th>\n",
              "      <td>feature_39+feature_31+feature_27-feature_33</td>\n",
              "      <td>0.058307</td>\n",
              "    </tr>\n",
              "    <tr>\n",
              "      <th>2</th>\n",
              "      <td>feature_39+feature_31+feature_27*feature_33</td>\n",
              "      <td>0.058224</td>\n",
              "    </tr>\n",
              "    <tr>\n",
              "      <th>3</th>\n",
              "      <td>feature_39+feature_31+feature_27/feature_33</td>\n",
              "      <td>0.019418</td>\n",
              "    </tr>\n",
              "    <tr>\n",
              "      <th>4</th>\n",
              "      <td>feature_39+feature_31-feature_27-feature_33</td>\n",
              "      <td>0.056263</td>\n",
              "    </tr>\n",
              "    <tr>\n",
              "      <th>...</th>\n",
              "      <td>...</td>\n",
              "      <td>...</td>\n",
              "    </tr>\n",
              "    <tr>\n",
              "      <th>252995</th>\n",
              "      <td>feature_11-feature_18/feature_19/feature_7</td>\n",
              "      <td>0.000012</td>\n",
              "    </tr>\n",
              "    <tr>\n",
              "      <th>252996</th>\n",
              "      <td>feature_11*feature_18*feature_19*feature_7</td>\n",
              "      <td>0.009924</td>\n",
              "    </tr>\n",
              "    <tr>\n",
              "      <th>252997</th>\n",
              "      <td>feature_11*feature_18*feature_19/feature_7</td>\n",
              "      <td>0.000123</td>\n",
              "    </tr>\n",
              "    <tr>\n",
              "      <th>252998</th>\n",
              "      <td>feature_11*feature_18/feature_19/feature_7</td>\n",
              "      <td>0.000149</td>\n",
              "    </tr>\n",
              "    <tr>\n",
              "      <th>252999</th>\n",
              "      <td>feature_11/feature_18/feature_19/feature_7</td>\n",
              "      <td>0.000078</td>\n",
              "    </tr>\n",
              "  </tbody>\n",
              "</table>\n",
              "<p>232536 rows × 2 columns</p>\n",
              "</div>"
            ],
            "text/plain": [
              "                                            feature     score\n",
              "0       feature_39+feature_31+feature_27+feature_33  0.060844\n",
              "1       feature_39+feature_31+feature_27-feature_33  0.058307\n",
              "2       feature_39+feature_31+feature_27*feature_33  0.058224\n",
              "3       feature_39+feature_31+feature_27/feature_33  0.019418\n",
              "4       feature_39+feature_31-feature_27-feature_33  0.056263\n",
              "...                                             ...       ...\n",
              "252995   feature_11-feature_18/feature_19/feature_7  0.000012\n",
              "252996   feature_11*feature_18*feature_19*feature_7  0.009924\n",
              "252997   feature_11*feature_18*feature_19/feature_7  0.000123\n",
              "252998   feature_11*feature_18/feature_19/feature_7  0.000149\n",
              "252999   feature_11/feature_18/feature_19/feature_7  0.000078\n",
              "\n",
              "[232536 rows x 2 columns]"
            ]
          },
          "metadata": {
            "tags": []
          },
          "execution_count": 21
        }
      ]
    },
    {
      "cell_type": "code",
      "metadata": {
        "id": "m8XEA7VwtJOH"
      },
      "source": [
        "result.sort_values(by='score', ascending=False).to_csv('12650_corr_four_power.csv', index=False)"
      ],
      "execution_count": 28,
      "outputs": []
    },
    {
      "cell_type": "code",
      "metadata": {
        "id": "JehPyutHtQFA",
        "outputId": "e1f9a475-79cf-42a3-e99f-eca84301fddc",
        "colab": {
          "base_uri": "https://localhost:8080/",
          "height": 797
        }
      },
      "source": [
        "pd.read_csv('/content/12650_corr_four_power.csv')[:25]"
      ],
      "execution_count": 29,
      "outputs": [
        {
          "output_type": "execute_result",
          "data": {
            "text/html": [
              "<div>\n",
              "<style scoped>\n",
              "    .dataframe tbody tr th:only-of-type {\n",
              "        vertical-align: middle;\n",
              "    }\n",
              "\n",
              "    .dataframe tbody tr th {\n",
              "        vertical-align: top;\n",
              "    }\n",
              "\n",
              "    .dataframe thead th {\n",
              "        text-align: right;\n",
              "    }\n",
              "</style>\n",
              "<table border=\"1\" class=\"dataframe\">\n",
              "  <thead>\n",
              "    <tr style=\"text-align: right;\">\n",
              "      <th></th>\n",
              "      <th>feature</th>\n",
              "      <th>score</th>\n",
              "    </tr>\n",
              "  </thead>\n",
              "  <tbody>\n",
              "    <tr>\n",
              "      <th>0</th>\n",
              "      <td>feature_39-feature_35*feature_17*feature_38</td>\n",
              "      <td>0.128258</td>\n",
              "    </tr>\n",
              "    <tr>\n",
              "      <th>1</th>\n",
              "      <td>feature_39+feature_35*feature_17*feature_38</td>\n",
              "      <td>0.128258</td>\n",
              "    </tr>\n",
              "    <tr>\n",
              "      <th>2</th>\n",
              "      <td>feature_39-feature_33*feature_17*feature_38</td>\n",
              "      <td>0.127987</td>\n",
              "    </tr>\n",
              "    <tr>\n",
              "      <th>3</th>\n",
              "      <td>feature_39+feature_33*feature_17*feature_38</td>\n",
              "      <td>0.127987</td>\n",
              "    </tr>\n",
              "    <tr>\n",
              "      <th>4</th>\n",
              "      <td>feature_39-feature_29*feature_17*feature_38</td>\n",
              "      <td>0.127875</td>\n",
              "    </tr>\n",
              "    <tr>\n",
              "      <th>5</th>\n",
              "      <td>feature_39+feature_29*feature_17*feature_38</td>\n",
              "      <td>0.127875</td>\n",
              "    </tr>\n",
              "    <tr>\n",
              "      <th>6</th>\n",
              "      <td>feature_39-feature_31*feature_17*feature_38</td>\n",
              "      <td>0.127706</td>\n",
              "    </tr>\n",
              "    <tr>\n",
              "      <th>7</th>\n",
              "      <td>feature_39+feature_31*feature_17*feature_38</td>\n",
              "      <td>0.127706</td>\n",
              "    </tr>\n",
              "    <tr>\n",
              "      <th>8</th>\n",
              "      <td>feature_39-feature_27*feature_17*feature_38</td>\n",
              "      <td>0.127344</td>\n",
              "    </tr>\n",
              "    <tr>\n",
              "      <th>9</th>\n",
              "      <td>feature_39+feature_27*feature_17*feature_38</td>\n",
              "      <td>0.127344</td>\n",
              "    </tr>\n",
              "    <tr>\n",
              "      <th>10</th>\n",
              "      <td>feature_39-feature_35*feature_37*feature_38</td>\n",
              "      <td>0.125630</td>\n",
              "    </tr>\n",
              "    <tr>\n",
              "      <th>11</th>\n",
              "      <td>feature_39+feature_35*feature_37*feature_38</td>\n",
              "      <td>0.125630</td>\n",
              "    </tr>\n",
              "    <tr>\n",
              "      <th>12</th>\n",
              "      <td>feature_39-feature_33*feature_37*feature_38</td>\n",
              "      <td>0.125116</td>\n",
              "    </tr>\n",
              "    <tr>\n",
              "      <th>13</th>\n",
              "      <td>feature_39+feature_33*feature_37*feature_38</td>\n",
              "      <td>0.125116</td>\n",
              "    </tr>\n",
              "    <tr>\n",
              "      <th>14</th>\n",
              "      <td>feature_39-feature_17*feature_38*feature_36</td>\n",
              "      <td>0.124904</td>\n",
              "    </tr>\n",
              "    <tr>\n",
              "      <th>15</th>\n",
              "      <td>feature_39+feature_17*feature_38*feature_36</td>\n",
              "      <td>0.124904</td>\n",
              "    </tr>\n",
              "    <tr>\n",
              "      <th>16</th>\n",
              "      <td>feature_39-feature_17*feature_34*feature_38</td>\n",
              "      <td>0.124824</td>\n",
              "    </tr>\n",
              "    <tr>\n",
              "      <th>17</th>\n",
              "      <td>feature_39+feature_17*feature_34*feature_38</td>\n",
              "      <td>0.124824</td>\n",
              "    </tr>\n",
              "    <tr>\n",
              "      <th>18</th>\n",
              "      <td>feature_39-feature_31*feature_37*feature_38</td>\n",
              "      <td>0.124735</td>\n",
              "    </tr>\n",
              "    <tr>\n",
              "      <th>19</th>\n",
              "      <td>feature_39+feature_31*feature_37*feature_38</td>\n",
              "      <td>0.124735</td>\n",
              "    </tr>\n",
              "    <tr>\n",
              "      <th>20</th>\n",
              "      <td>feature_39-feature_17*feature_28*feature_38</td>\n",
              "      <td>0.124733</td>\n",
              "    </tr>\n",
              "    <tr>\n",
              "      <th>21</th>\n",
              "      <td>feature_39+feature_17*feature_28*feature_38</td>\n",
              "      <td>0.124733</td>\n",
              "    </tr>\n",
              "    <tr>\n",
              "      <th>22</th>\n",
              "      <td>feature_39-feature_40*feature_17*feature_38</td>\n",
              "      <td>0.124576</td>\n",
              "    </tr>\n",
              "    <tr>\n",
              "      <th>23</th>\n",
              "      <td>feature_39+feature_40*feature_17*feature_38</td>\n",
              "      <td>0.124576</td>\n",
              "    </tr>\n",
              "    <tr>\n",
              "      <th>24</th>\n",
              "      <td>feature_39-feature_27*feature_37*feature_38</td>\n",
              "      <td>0.124402</td>\n",
              "    </tr>\n",
              "  </tbody>\n",
              "</table>\n",
              "</div>"
            ],
            "text/plain": [
              "                                        feature     score\n",
              "0   feature_39-feature_35*feature_17*feature_38  0.128258\n",
              "1   feature_39+feature_35*feature_17*feature_38  0.128258\n",
              "2   feature_39-feature_33*feature_17*feature_38  0.127987\n",
              "3   feature_39+feature_33*feature_17*feature_38  0.127987\n",
              "4   feature_39-feature_29*feature_17*feature_38  0.127875\n",
              "5   feature_39+feature_29*feature_17*feature_38  0.127875\n",
              "6   feature_39-feature_31*feature_17*feature_38  0.127706\n",
              "7   feature_39+feature_31*feature_17*feature_38  0.127706\n",
              "8   feature_39-feature_27*feature_17*feature_38  0.127344\n",
              "9   feature_39+feature_27*feature_17*feature_38  0.127344\n",
              "10  feature_39-feature_35*feature_37*feature_38  0.125630\n",
              "11  feature_39+feature_35*feature_37*feature_38  0.125630\n",
              "12  feature_39-feature_33*feature_37*feature_38  0.125116\n",
              "13  feature_39+feature_33*feature_37*feature_38  0.125116\n",
              "14  feature_39-feature_17*feature_38*feature_36  0.124904\n",
              "15  feature_39+feature_17*feature_38*feature_36  0.124904\n",
              "16  feature_39-feature_17*feature_34*feature_38  0.124824\n",
              "17  feature_39+feature_17*feature_34*feature_38  0.124824\n",
              "18  feature_39-feature_31*feature_37*feature_38  0.124735\n",
              "19  feature_39+feature_31*feature_37*feature_38  0.124735\n",
              "20  feature_39-feature_17*feature_28*feature_38  0.124733\n",
              "21  feature_39+feature_17*feature_28*feature_38  0.124733\n",
              "22  feature_39-feature_40*feature_17*feature_38  0.124576\n",
              "23  feature_39+feature_40*feature_17*feature_38  0.124576\n",
              "24  feature_39-feature_27*feature_37*feature_38  0.124402"
            ]
          },
          "metadata": {
            "tags": []
          },
          "execution_count": 29
        }
      ]
    },
    {
      "cell_type": "code",
      "metadata": {
        "id": "-P6_YKewPeqR"
      },
      "source": [
        "y= train['resp'].values\n",
        "x = train['feature_39'].values"
      ],
      "execution_count": 32,
      "outputs": []
    },
    {
      "cell_type": "code",
      "metadata": {
        "id": "ccjr_H7lx1je"
      },
      "source": [
        "#define cost function\n",
        "def cost_function(e):\n",
        "    #y and x are already defined\n",
        "    r = np.corrcoef(y,x**e) #returns correlation matrix\n",
        "    #print each iteration\n",
        "    print('r value: {:0.4f} exp: {:.4f}'.format(r[0][1],e)) \n",
        "    return -abs(r[0][1])"
      ],
      "execution_count": 33,
      "outputs": []
    },
    {
      "cell_type": "code",
      "metadata": {
        "id": "PoclvGWuPXYs",
        "outputId": "83ad277b-f5ff-4026-becc-64319b01c8a8",
        "colab": {
          "base_uri": "https://localhost:8080/"
        }
      },
      "source": [
        "from scipy.optimize import minimize_scalar\n",
        "minimize_scalar(cost_function)"
      ],
      "execution_count": 34,
      "outputs": [
        {
          "output_type": "stream",
          "text": [
            "r value: nan exp: 0.0000\n",
            "r value: 0.0485 exp: 1.0000\n",
            "r value: nan exp: 2.6180\n",
            "r value: 0.0485 exp: 1.0000\n",
            "r value: nan exp: 1.6180\n",
            "r value: 0.0109 exp: 2.0000\n",
            "r value: nan exp: 2.2361\n",
            "r value: nan exp: 2.3820\n",
            "r value: nan exp: 2.4721\n",
            "r value: nan exp: 2.5279\n",
            "r value: nan exp: 2.5623\n",
            "r value: nan exp: 2.5836\n",
            "r value: nan exp: 2.5967\n",
            "r value: nan exp: 2.6049\n",
            "r value: nan exp: 2.6099\n",
            "r value: nan exp: 2.6130\n",
            "r value: nan exp: 2.6149\n",
            "r value: nan exp: 2.6161\n",
            "r value: nan exp: 2.6168\n",
            "r value: nan exp: 2.6173\n",
            "r value: nan exp: 2.6176\n",
            "r value: nan exp: 2.6178\n",
            "r value: nan exp: 2.6179\n",
            "r value: nan exp: 2.6179\n",
            "r value: nan exp: 2.6180\n",
            "r value: nan exp: 2.6180\n",
            "r value: nan exp: 2.6180\n",
            "r value: nan exp: 2.6180\n",
            "r value: nan exp: 2.6180\n",
            "r value: nan exp: 2.6180\n",
            "r value: nan exp: 2.6180\n",
            "r value: nan exp: 2.6180\n",
            "r value: nan exp: 2.6180\n",
            "r value: nan exp: 2.6180\n",
            "r value: nan exp: 2.6180\n",
            "r value: nan exp: 2.6180\n",
            "r value: nan exp: 2.6180\n",
            "r value: nan exp: 2.6180\n",
            "r value: nan exp: 2.6180\n",
            "r value: nan exp: 2.6180\n"
          ],
          "name": "stdout"
        },
        {
          "output_type": "execute_result",
          "data": {
            "text/plain": [
              "     fun: nan\n",
              "    nfev: 40\n",
              "     nit: 36\n",
              " success: False\n",
              "       x: 2.6180339603380443"
            ]
          },
          "metadata": {
            "tags": []
          },
          "execution_count": 34
        }
      ]
    },
    {
      "cell_type": "code",
      "metadata": {
        "id": "BERHn7EPPbDz",
        "outputId": "137ee755-0a3c-4cd3-e290-0c6539467b25",
        "colab": {
          "base_uri": "https://localhost:8080/"
        }
      },
      "source": [
        "minimize_scalar(cost_function,bounds=(0.1, 10), method='bounded')"
      ],
      "execution_count": 35,
      "outputs": [
        {
          "output_type": "stream",
          "text": [
            "r value: nan exp: 3.8815\n",
            "r value: nan exp: 6.2185\n",
            "r value: nan exp: 2.4371\n",
            "r value: nan exp: 4.7741\n",
            "r value: nan exp: 3.3298\n",
            "r value: nan exp: 4.2224\n",
            "r value: nan exp: 3.6707\n",
            "r value: nan exp: 4.0117\n",
            "r value: nan exp: 3.8010\n",
            "r value: nan exp: 3.9312\n",
            "r value: nan exp: 3.8507\n",
            "r value: nan exp: 3.9005\n",
            "r value: nan exp: 3.8697\n",
            "r value: nan exp: 3.8887\n",
            "r value: nan exp: 3.8770\n",
            "r value: nan exp: 3.8842\n",
            "r value: nan exp: 3.8798\n",
            "r value: nan exp: 3.8825\n",
            "r value: nan exp: 3.8808\n",
            "r value: nan exp: 3.8819\n",
            "r value: nan exp: 3.8812\n",
            "r value: nan exp: 3.8816\n",
            "r value: nan exp: 3.8814\n",
            "r value: nan exp: 3.8815\n",
            "r value: nan exp: 3.8814\n",
            "r value: nan exp: 3.8815\n",
            "r value: nan exp: 3.8814\n",
            "r value: nan exp: 3.8815\n",
            "r value: nan exp: 3.8815\n",
            "r value: nan exp: 3.8815\n"
          ],
          "name": "stdout"
        },
        {
          "output_type": "execute_result",
          "data": {
            "text/plain": [
              "     fun: nan\n",
              " message: 'NaN result encountered.'\n",
              "    nfev: 30\n",
              "  status: 2\n",
              " success: False\n",
              "       x: 3.8814635113760407"
            ]
          },
          "metadata": {
            "tags": []
          },
          "execution_count": 35
        }
      ]
    },
    {
      "cell_type": "code",
      "metadata": {
        "id": "ElmUVB6uPoF6",
        "outputId": "8e9b5a11-39eb-4986-842f-d9be75720403",
        "colab": {
          "base_uri": "https://localhost:8080/"
        }
      },
      "source": [
        "np.power(train['feature_39'], 2.5313131313131314).corr(train['resp'])"
      ],
      "execution_count": 37,
      "outputs": [
        {
          "output_type": "execute_result",
          "data": {
            "text/plain": [
              "0.05783380811809068"
            ]
          },
          "metadata": {
            "tags": []
          },
          "execution_count": 37
        }
      ]
    },
    {
      "cell_type": "code",
      "metadata": {
        "id": "NwrNOiNkP2cr"
      },
      "source": [
        "def func(x, a, b):\n",
        "    return a * np.exp(b*x)"
      ],
      "execution_count": 38,
      "outputs": []
    },
    {
      "cell_type": "code",
      "metadata": {
        "id": "h6AEEjI9Rp5h",
        "outputId": "aa496229-5732-41fe-ecda-cdca1ff76a83",
        "colab": {
          "base_uri": "https://localhost:8080/",
          "height": 282
        }
      },
      "source": [
        "plt.plot(x, y, 'bo', label='exp')"
      ],
      "execution_count": 39,
      "outputs": [
        {
          "output_type": "execute_result",
          "data": {
            "text/plain": [
              "[<matplotlib.lines.Line2D at 0x7fc825335320>]"
            ]
          },
          "metadata": {
            "tags": []
          },
          "execution_count": 39
        },
        {
          "output_type": "display_data",
          "data": {
            "image/png": "[encoded data removed]",
            "text/plain": [
              "<Figure size 432x288 with 1 Axes>"
            ]
          },
          "metadata": {
            "tags": [],
            "needs_background": "light"
          }
        }
      ]
    },
    {
      "cell_type": "code",
      "metadata": {
        "id": "qgZ8VKNYRxCJ"
      },
      "source": [
        "from scipy.optimize import curve_fit\n",
        "ppot, pcov = curve_fit(func, x, y)"
      ],
      "execution_count": 41,
      "outputs": []
    },
    {
      "cell_type": "code",
      "metadata": {
        "id": "aKFg5AzOSAWJ",
        "outputId": "2780ee70-e2ca-4586-a015-fc267c429981",
        "colab": {
          "base_uri": "https://localhost:8080/"
        }
      },
      "source": [
        "ppot"
      ],
      "execution_count": 42,
      "outputs": [
        {
          "output_type": "execute_result",
          "data": {
            "text/plain": [
              "array([0.00051053, 0.46315954])"
            ]
          },
          "metadata": {
            "tags": []
          },
          "execution_count": 42
        }
      ]
    },
    {
      "cell_type": "code",
      "metadata": {
        "id": "AjlpyGtoSEQl",
        "outputId": "194535ad-0937-4d0b-b1cd-64bc98cbde0b",
        "colab": {
          "base_uri": "https://localhost:8080/"
        }
      },
      "source": [
        "0.00051053 + 0.46315954 *x "
      ],
      "execution_count": 43,
      "outputs": [
        {
          "output_type": "execute_result",
          "data": {
            "text/plain": [
              "array([-0.09317196,  0.02611692, -0.01510723, ...,  0.5403842 ,\n",
              "        0.7350462 ,  0.33215562], dtype=float32)"
            ]
          },
          "metadata": {
            "tags": []
          },
          "execution_count": 43
        }
      ]
    },
    {
      "cell_type": "code",
      "metadata": {
        "id": "_h7qLFrZSOHw",
        "outputId": "4938d777-869f-4054-be21-ddb14e53ede8",
        "colab": {
          "base_uri": "https://localhost:8080/"
        }
      },
      "source": [
        "(0.00051053 + 0.46315954 * train['feature_39']).corr(train['resp'])"
      ],
      "execution_count": 45,
      "outputs": [
        {
          "output_type": "execute_result",
          "data": {
            "text/plain": [
              "0.04846098281254801"
            ]
          },
          "metadata": {
            "tags": []
          },
          "execution_count": 45
        }
      ]
    },
    {
      "cell_type": "code",
      "metadata": {
        "id": "rI-kN6YYSSrx"
      },
      "source": [
        ""
      ],
      "execution_count": null,
      "outputs": []
    }
  ]
}