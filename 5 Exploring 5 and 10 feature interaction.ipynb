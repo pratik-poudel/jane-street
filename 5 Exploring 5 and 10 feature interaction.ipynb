{
  "nbformat": 4,
  "nbformat_minor": 0,
  "metadata": {
    "colab": {
      "name": "scratchpad",
      "provenance": [],
      "machine_shape": "hm",
      "include_colab_link": true
    },
    "kernelspec": {
      "display_name": "Python 3",
      "name": "python3"
    }
  },
  "cells": [
    {
      "cell_type": "markdown",
      "metadata": {
        "id": "view-in-github",
        "colab_type": "text"
      },
      "source": [
        "<a href=\"https://colab.research.google.com/github/pratik-poudel/jane-street/blob/main/5%20Exploring%205%20and%2010%20feature%20interaction.ipynb\" target=\"_parent\"><img src=\"https://colab.research.google.com/assets/colab-badge.svg\" alt=\"Open In Colab\"/></a>"
      ]
    },
    {
      "cell_type": "code",
      "metadata": {
        "colab": {
          "base_uri": "https://localhost:8080/"
        },
        "id": "lIYdn1woOS1n",
        "outputId": "07d78e8d-ce25-4643-f9cb-82c0b6c45d40"
      },
      "source": [
        "!mkdir -p ~/.kaggle\n",
        "!cp kaggle.json ~/.kaggle/\n",
        "!chmod 600 ~/.kaggle/kaggle.json\n",
        "!kaggle datasets download gdonchyts/jane-street-market-prediction-parquet -f train.parquet\n",
        "import zipfile\n",
        "zip_ref = zipfile.ZipFile('/content/train.parquet.zip', 'r')\n",
        "zip_ref.extractall('files')\n",
        "zip_ref.close()"
      ],
      "execution_count": 1,
      "outputs": [
        {
          "output_type": "stream",
          "text": [
            "Downloading train.parquet.zip to /content\n",
            " 98% 1.06G/1.08G [00:54<00:02, 9.97MB/s]\n",
            "100% 1.08G/1.08G [00:54<00:00, 21.1MB/s]\n"
          ],
          "name": "stdout"
        }
      ]
    },
    {
      "cell_type": "code",
      "metadata": {
        "id": "3Hn5MKCH_EWD"
      },
      "source": [
        "import numpy as np\n",
        "import pandas as pd\n",
        "from collections import defaultdict\n",
        "from tqdm.notebook import tqdm\n",
        "from matplotlib import pyplot as plt\n",
        "import warnings\n",
        "warnings.filterwarnings('ignore')\n",
        "import seaborn as sns\n",
        "import gc\n",
        "# pd.options.display.float_format| = \"{:.2f}\".format\n",
        "pd.options.display.max_columns = 500"
      ],
      "execution_count": 2,
      "outputs": []
    },
    {
      "cell_type": "code",
      "metadata": {
        "id": "GfjEWfnB_G0b",
        "colab": {
          "base_uri": "https://localhost:8080/"
        },
        "outputId": "a7d18c95-5489-4e3d-c9ef-00d3aaac81c6"
      },
      "source": [
        "train = pd.read_parquet('/content/files/train.parquet')\n",
        "train = train.query('date > 85').reset_index(drop = True) \n",
        "train = train[train['weight'] != 0]\n",
        "train.shape"
      ],
      "execution_count": 3,
      "outputs": [
        {
          "output_type": "execute_result",
          "data": {
            "text/plain": [
              "(1571415, 138)"
            ]
          },
          "metadata": {
            "tags": []
          },
          "execution_count": 3
        }
      ]
    },
    {
      "cell_type": "code",
      "metadata": {
        "id": "ZoOEJCR4r0Tn"
      },
      "source": [
        "train.fillna(train.mean(), inplace=True)"
      ],
      "execution_count": 4,
      "outputs": []
    },
    {
      "cell_type": "markdown",
      "metadata": {
        "id": "AZ2760O7T0Cq"
      },
      "source": [
        "# Two Features"
      ]
    },
    {
      "cell_type": "code",
      "metadata": {
        "id": "HZRt79H3UL3c"
      },
      "source": [
        "feat = [f for f in train.columns if 'feature' in f]"
      ],
      "execution_count": 5,
      "outputs": []
    },
    {
      "cell_type": "code",
      "metadata": {
        "colab": {
          "base_uri": "https://localhost:8080/"
        },
        "id": "kl2v-6RBUL3r",
        "outputId": "e026ca6a-88e3-44ae-bcc3-27b024c9fff2"
      },
      "source": [
        "len(feat)"
      ],
      "execution_count": 6,
      "outputs": [
        {
          "output_type": "execute_result",
          "data": {
            "text/plain": [
              "130"
            ]
          },
          "metadata": {
            "tags": []
          },
          "execution_count": 6
        }
      ]
    },
    {
      "cell_type": "code",
      "metadata": {
        "id": "7_wbB6s7UQFt"
      },
      "source": [
        "corr = train[feat].corrwith(train['resp']).abs().sort_values(ascending=False)"
      ],
      "execution_count": 7,
      "outputs": []
    },
    {
      "cell_type": "code",
      "metadata": {
        "colab": {
          "base_uri": "https://localhost:8080/"
        },
        "id": "b4eHfDdNsHgK",
        "outputId": "c2ac2c4c-5702-49a2-bef0-63a76e1dfc61"
      },
      "source": [
        "len(corr[corr > 0.018].index.to_list())"
      ],
      "execution_count": 284,
      "outputs": [
        {
          "output_type": "execute_result",
          "data": {
            "text/plain": [
              "17"
            ]
          },
          "metadata": {
            "tags": []
          },
          "execution_count": 284
        }
      ]
    },
    {
      "cell_type": "code",
      "metadata": {
        "id": "FlruZAcCUL3s"
      },
      "source": [
        "two_comb = []\n",
        "from itertools import combinations\n",
        "for i in combinations(corr[corr > 0.018].index.to_list(), 5):\n",
        "    two_comb.append(list(i))"
      ],
      "execution_count": 285,
      "outputs": []
    },
    {
      "cell_type": "code",
      "metadata": {
        "colab": {
          "base_uri": "https://localhost:8080/"
        },
        "id": "B65UbvUiUL3t",
        "outputId": "185f6d30-c62f-4cc9-e0f9-2e7aee566608"
      },
      "source": [
        "len(two_comb)"
      ],
      "execution_count": 286,
      "outputs": [
        {
          "output_type": "execute_result",
          "data": {
            "text/plain": [
              "6188"
            ]
          },
          "metadata": {
            "tags": []
          },
          "execution_count": 286
        }
      ]
    },
    {
      "cell_type": "code",
      "metadata": {
        "id": "iUnVzos6UL3u"
      },
      "source": [
        "from itertools import permutations,combinations_with_replacement, combinations\n",
        "operators = [\"+\",\"-\",\"*\",\"/\"]\n",
        "op_list = []\n",
        "for i in combinations_with_replacement(operators, 4):\n",
        "    # print(i)\n",
        "    op_list.append(list(i))"
      ],
      "execution_count": 287,
      "outputs": []
    },
    {
      "cell_type": "code",
      "metadata": {
        "id": "j56TYG4cC1SD"
      },
      "source": [
        "feature_names = []\n",
        "for_calc = []\n",
        "for i in two_comb:\n",
        "    for x, j  in enumerate(op_list):\n",
        "\n",
        "        f_calc = \"df['computed_\" + str(x) + \"'] =\" + \"train[a]\" + j[0] + \"train[b]\" + j[1] + \"train[c]\" + j[2] + \"train[d]\" + j[3] + \"train[e]\"\n",
        "        f_name = i[0] + j[0] + i[1] + j[1] + i[2] + j[2] + i[3] + j[3] + i[4]\n",
        "        a = i[0]\n",
        "        b = j[0]\n",
        "        c = i[1]\n",
        "        d = j[1]\n",
        "        e = i[2] \n",
        "        f = j[2]\n",
        "        g = i[3]\n",
        "        h = j[3]\n",
        "        k = i[4]\n",
        "\n",
        "        for_calc.append(f_calc)\n",
        "        feature_names.append(f_name)"
      ],
      "execution_count": 288,
      "outputs": []
    },
    {
      "cell_type": "code",
      "metadata": {
        "id": "DITh4Tay3it7",
        "outputId": "7bddd59b-fb2b-4a62-9587-729ea0bfdac6",
        "colab": {
          "base_uri": "https://localhost:8080/"
        }
      },
      "source": [
        "len(feature_names)"
      ],
      "execution_count": 289,
      "outputs": [
        {
          "output_type": "execute_result",
          "data": {
            "text/plain": [
              "216580"
            ]
          },
          "metadata": {
            "tags": []
          },
          "execution_count": 289
        }
      ]
    },
    {
      "cell_type": "code",
      "metadata": {
        "id": "6tGUqKt_ygPL",
        "outputId": "7d9eed0e-92cb-4f5a-8316-bcc048804404",
        "colab": {
          "base_uri": "https://localhost:8080/"
        }
      },
      "source": [
        "6188*35"
      ],
      "execution_count": 291,
      "outputs": [
        {
          "output_type": "execute_result",
          "data": {
            "text/plain": [
              "216580"
            ]
          },
          "metadata": {
            "tags": []
          },
          "execution_count": 291
        }
      ]
    },
    {
      "cell_type": "code",
      "metadata": {
        "colab": {
          "base_uri": "https://localhost:8080/"
        },
        "id": "w9DKrKbZUL3u",
        "outputId": "973d15f8-ce57-4e3f-9ca8-0c61d530ea52"
      },
      "source": [
        "%%time\n",
        "from google.colab import output\n",
        "score = []\n",
        "count = 0\n",
        "df= pd.DataFrame()\n",
        "for i in two_comb:\n",
        "    a = i[0]\n",
        "    b = i[1]\n",
        "    c = i[2]\n",
        "    d = i[3]\n",
        "    e = i[4]\n",
        "    \n",
        "    df['computed_0'] =train[a]+train[b]+train[c]+train[d]+train[e]\n",
        "    df['computed_1'] =train[a]+train[b]+train[c]+train[d]-train[e]\n",
        "    df['computed_2'] =train[a]+train[b]+train[c]+train[d]*train[e]\n",
        "    df['computed_3'] =train[a]+train[b]+train[c]+train[d]/train[e]\n",
        "    df['computed_4'] =train[a]+train[b]+train[c]-train[d]-train[e]\n",
        "    df['computed_5'] =train[a]+train[b]+train[c]-train[d]*train[e]\n",
        "    df['computed_6'] =train[a]+train[b]+train[c]-train[d]/train[e]\n",
        "    df['computed_7'] =train[a]+train[b]+train[c]*train[d]*train[e]\n",
        "    df['computed_8'] =train[a]+train[b]+train[c]*train[d]/train[e]\n",
        "    df['computed_9'] =train[a]+train[b]+train[c]/train[d]/train[e]\n",
        "    df['computed_10'] =train[a]+train[b]-train[c]-train[d]-train[e]\n",
        "    df['computed_11'] =train[a]+train[b]-train[c]-train[d]*train[e]\n",
        "    df['computed_12'] =train[a]+train[b]-train[c]-train[d]/train[e]\n",
        "    df['computed_13'] =train[a]+train[b]-train[c]*train[d]*train[e]\n",
        "    df['computed_14'] =train[a]+train[b]-train[c]*train[d]/train[e]\n",
        "    df['computed_15'] =train[a]+train[b]-train[c]/train[d]/train[e]\n",
        "    df['computed_16'] =train[a]+train[b]*train[c]*train[d]*train[e]\n",
        "    df['computed_17'] =train[a]+train[b]*train[c]*train[d]/train[e]\n",
        "    df['computed_18'] =train[a]+train[b]*train[c]/train[d]/train[e]\n",
        "    df['computed_19'] =train[a]+train[b]/train[c]/train[d]/train[e]\n",
        "    df['computed_20'] =train[a]-train[b]-train[c]-train[d]-train[e]\n",
        "    df['computed_21'] =train[a]-train[b]-train[c]-train[d]*train[e]\n",
        "    df['computed_22'] =train[a]-train[b]-train[c]-train[d]/train[e]\n",
        "    df['computed_23'] =train[a]-train[b]-train[c]*train[d]*train[e]\n",
        "    df['computed_24'] =train[a]-train[b]-train[c]*train[d]/train[e]\n",
        "    df['computed_25'] =train[a]-train[b]-train[c]/train[d]/train[e]\n",
        "    df['computed_26'] =train[a]-train[b]*train[c]*train[d]*train[e]\n",
        "    df['computed_27'] =train[a]-train[b]*train[c]*train[d]/train[e]\n",
        "    df['computed_28'] =train[a]-train[b]*train[c]/train[d]/train[e]\n",
        "    df['computed_29'] =train[a]-train[b]/train[c]/train[d]/train[e]\n",
        "    df['computed_30'] =train[a]*train[b]*train[c]*train[d]*train[e]\n",
        "    df['computed_31'] =train[a]*train[b]*train[c]*train[d]/train[e]\n",
        "    df['computed_32'] =train[a]*train[b]*train[c]/train[d]/train[e]\n",
        "    df['computed_33'] =train[a]*train[b]/train[c]/train[d]/train[e]\n",
        "    df['computed_34'] =train[a]/train[b]/train[c]/train[d]/train[e]\n",
        "\n",
        "    for i in df.corrwith(train['resp']).values:\n",
        "        score.append(i)\n",
        "   \n",
        "    count += 1\n",
        "    print(count, \"done out of \", len(two_comb) )\n",
        "    if count % 10 ==0:\n",
        "        output.clear()"
      ],
      "execution_count": 293,
      "outputs": [
        {
          "output_type": "stream",
          "text": [
            "6181 done out of  6188\n",
            "6182 done out of  6188\n",
            "6183 done out of  6188\n",
            "6184 done out of  6188\n",
            "6185 done out of  6188\n",
            "6186 done out of  6188\n",
            "6187 done out of  6188\n",
            "6188 done out of  6188\n",
            "CPU times: user 2h 12min 25s, sys: 6min 12s, total: 2h 18min 38s\n",
            "Wall time: 1h 50min 20s\n"
          ],
          "name": "stdout"
        }
      ]
    },
    {
      "cell_type": "code",
      "metadata": {
        "id": "Dc2mt2icwnl5"
      },
      "source": [
        "five_features = pd.DataFrame(zip(feature_names, score), columns=['feature', 'score'])"
      ],
      "execution_count": 296,
      "outputs": []
    },
    {
      "cell_type": "code",
      "metadata": {
        "id": "IXCwd_GB0omq"
      },
      "source": [
        "five_features['scores'] = five_features['score'].abs()"
      ],
      "execution_count": 298,
      "outputs": []
    },
    {
      "cell_type": "code",
      "metadata": {
        "id": "juEWZeYUWVo9"
      },
      "source": [
        "five_features.sort_values(by='scores', ascending=False)[['feature', 'scores']][:25]"
      ],
      "execution_count": null,
      "outputs": []
    },
    {
      "cell_type": "code",
      "metadata": {
        "id": "P4vD2CO9Wblj"
      },
      "source": [
        "five_features.to_csv('five_features.csv', index=False)"
      ],
      "execution_count": 305,
      "outputs": []
    },
    {
      "cell_type": "code",
      "metadata": {
        "id": "yDhjQsrLWyJj"
      },
      "source": [
        ""
      ],
      "execution_count": null,
      "outputs": []
    },
    {
      "cell_type": "markdown",
      "metadata": {
        "id": "IRt9MY83Yltn"
      },
      "source": [
        "# Ten Combinations\n"
      ]
    },
    {
      "cell_type": "code",
      "metadata": {
        "id": "zoBfVAnJZY0p",
        "outputId": "3b1fa2e4-8d54-4fe3-dc2d-8406e02bd8b5",
        "colab": {
          "base_uri": "https://localhost:8080/"
        }
      },
      "source": [
        "len(corr[corr > 0.022].index.to_list())"
      ],
      "execution_count": 315,
      "outputs": [
        {
          "output_type": "execute_result",
          "data": {
            "text/plain": [
              "15"
            ]
          },
          "metadata": {
            "tags": []
          },
          "execution_count": 315
        }
      ]
    },
    {
      "cell_type": "code",
      "metadata": {
        "id": "Znwwji-RYqdQ",
        "outputId": "fefbee0d-b549-41e4-d7bb-d2769c2ef41e",
        "colab": {
          "base_uri": "https://localhost:8080/"
        }
      },
      "source": [
        "ten_combinations = []\n",
        "from itertools import combinations, permutations, combinations_with_replacement\n",
        "for i in combinations(corr[corr > 0.022].index.to_list(), 10):\n",
        "    ten_combinations.append(list(i))\n",
        "print(len(ten_combinations))"
      ],
      "execution_count": 319,
      "outputs": [
        {
          "output_type": "stream",
          "text": [
            "3003\n"
          ],
          "name": "stdout"
        }
      ]
    },
    {
      "cell_type": "code",
      "metadata": {
        "id": "lWUwZ16iYr5z"
      },
      "source": [
        "operators = [\"+\",\"-\",\"*\",\"/\"]\n",
        "op_list = []\n",
        "for i in combinations_with_replacement(operators, 9):\n",
        "    # print(i)\n",
        "    op_list.append(list(i))"
      ],
      "execution_count": 320,
      "outputs": []
    },
    {
      "cell_type": "code",
      "metadata": {
        "id": "dMCA20GMYt3H"
      },
      "source": [
        "for_calc = []\n",
        "for i in ten_combinations[:1]:\n",
        "    for x, y  in enumerate(op_list):\n",
        "        f_calc = (\"df['computed_\" + str(x) + \"'] =\" + \"train[a]\" + y[0] + \"train[b]\" + y[1] + \n",
        "                  \"train[c]\" + y[2] + \"train[d]\" + y[3] + \"train[e]\" + y[4] + \"train[f]\" + \n",
        "                 y[5] + \"train[g]\" + y[6] + \"train[h]\" + y[7] + \"train[i]\" + y[8]+ \"train[j]\"\n",
        "                 )\n",
        "        for_calc.append(f_calc)"
      ],
      "execution_count": 321,
      "outputs": []
    },
    {
      "cell_type": "code",
      "metadata": {
        "id": "lPyyCrQnYxa3"
      },
      "source": [
        "feature_names = []\n",
        "for i in ten_combinations:\n",
        "    for x, y  in enumerate(op_list):\n",
        "        f_name = (i[0] + y[0] + i[1] + y[1] + i[2] + y[2] + i[3] + y[3] + i[4] + y[4] +\n",
        "                 i[5] + y[5] + i[6] + y[6] + i[7] + y[7] + i[8] + y[8] + i[9])\n",
        "        feature_names.append(f_name)\n",
        "        "
      ],
      "execution_count": 322,
      "outputs": []
    },
    {
      "cell_type": "code",
      "metadata": {
        "id": "_kBneUcMYy2K",
        "outputId": "5b648379-9386-4710-c1a5-0f6adf7e577a",
        "colab": {
          "base_uri": "https://localhost:8080/"
        }
      },
      "source": [
        "for i in for_calc:\n",
        "    print(i)"
      ],
      "execution_count": 323,
      "outputs": [
        {
          "output_type": "stream",
          "text": [
            "df['computed_0'] =train[a]+train[b]+train[c]+train[d]+train[e]+train[f]+train[g]+train[h]+train[i]+train[j]\n",
            "df['computed_1'] =train[a]+train[b]+train[c]+train[d]+train[e]+train[f]+train[g]+train[h]+train[i]-train[j]\n",
            "df['computed_2'] =train[a]+train[b]+train[c]+train[d]+train[e]+train[f]+train[g]+train[h]+train[i]*train[j]\n",
            "df['computed_3'] =train[a]+train[b]+train[c]+train[d]+train[e]+train[f]+train[g]+train[h]+train[i]/train[j]\n",
            "df['computed_4'] =train[a]+train[b]+train[c]+train[d]+train[e]+train[f]+train[g]+train[h]-train[i]-train[j]\n",
            "df['computed_5'] =train[a]+train[b]+train[c]+train[d]+train[e]+train[f]+train[g]+train[h]-train[i]*train[j]\n",
            "df['computed_6'] =train[a]+train[b]+train[c]+train[d]+train[e]+train[f]+train[g]+train[h]-train[i]/train[j]\n",
            "df['computed_7'] =train[a]+train[b]+train[c]+train[d]+train[e]+train[f]+train[g]+train[h]*train[i]*train[j]\n",
            "df['computed_8'] =train[a]+train[b]+train[c]+train[d]+train[e]+train[f]+train[g]+train[h]*train[i]/train[j]\n",
            "df['computed_9'] =train[a]+train[b]+train[c]+train[d]+train[e]+train[f]+train[g]+train[h]/train[i]/train[j]\n",
            "df['computed_10'] =train[a]+train[b]+train[c]+train[d]+train[e]+train[f]+train[g]-train[h]-train[i]-train[j]\n",
            "df['computed_11'] =train[a]+train[b]+train[c]+train[d]+train[e]+train[f]+train[g]-train[h]-train[i]*train[j]\n",
            "df['computed_12'] =train[a]+train[b]+train[c]+train[d]+train[e]+train[f]+train[g]-train[h]-train[i]/train[j]\n",
            "df['computed_13'] =train[a]+train[b]+train[c]+train[d]+train[e]+train[f]+train[g]-train[h]*train[i]*train[j]\n",
            "df['computed_14'] =train[a]+train[b]+train[c]+train[d]+train[e]+train[f]+train[g]-train[h]*train[i]/train[j]\n",
            "df['computed_15'] =train[a]+train[b]+train[c]+train[d]+train[e]+train[f]+train[g]-train[h]/train[i]/train[j]\n",
            "df['computed_16'] =train[a]+train[b]+train[c]+train[d]+train[e]+train[f]+train[g]*train[h]*train[i]*train[j]\n",
            "df['computed_17'] =train[a]+train[b]+train[c]+train[d]+train[e]+train[f]+train[g]*train[h]*train[i]/train[j]\n",
            "df['computed_18'] =train[a]+train[b]+train[c]+train[d]+train[e]+train[f]+train[g]*train[h]/train[i]/train[j]\n",
            "df['computed_19'] =train[a]+train[b]+train[c]+train[d]+train[e]+train[f]+train[g]/train[h]/train[i]/train[j]\n",
            "df['computed_20'] =train[a]+train[b]+train[c]+train[d]+train[e]+train[f]-train[g]-train[h]-train[i]-train[j]\n",
            "df['computed_21'] =train[a]+train[b]+train[c]+train[d]+train[e]+train[f]-train[g]-train[h]-train[i]*train[j]\n",
            "df['computed_22'] =train[a]+train[b]+train[c]+train[d]+train[e]+train[f]-train[g]-train[h]-train[i]/train[j]\n",
            "df['computed_23'] =train[a]+train[b]+train[c]+train[d]+train[e]+train[f]-train[g]-train[h]*train[i]*train[j]\n",
            "df['computed_24'] =train[a]+train[b]+train[c]+train[d]+train[e]+train[f]-train[g]-train[h]*train[i]/train[j]\n",
            "df['computed_25'] =train[a]+train[b]+train[c]+train[d]+train[e]+train[f]-train[g]-train[h]/train[i]/train[j]\n",
            "df['computed_26'] =train[a]+train[b]+train[c]+train[d]+train[e]+train[f]-train[g]*train[h]*train[i]*train[j]\n",
            "df['computed_27'] =train[a]+train[b]+train[c]+train[d]+train[e]+train[f]-train[g]*train[h]*train[i]/train[j]\n",
            "df['computed_28'] =train[a]+train[b]+train[c]+train[d]+train[e]+train[f]-train[g]*train[h]/train[i]/train[j]\n",
            "df['computed_29'] =train[a]+train[b]+train[c]+train[d]+train[e]+train[f]-train[g]/train[h]/train[i]/train[j]\n",
            "df['computed_30'] =train[a]+train[b]+train[c]+train[d]+train[e]+train[f]*train[g]*train[h]*train[i]*train[j]\n",
            "df['computed_31'] =train[a]+train[b]+train[c]+train[d]+train[e]+train[f]*train[g]*train[h]*train[i]/train[j]\n",
            "df['computed_32'] =train[a]+train[b]+train[c]+train[d]+train[e]+train[f]*train[g]*train[h]/train[i]/train[j]\n",
            "df['computed_33'] =train[a]+train[b]+train[c]+train[d]+train[e]+train[f]*train[g]/train[h]/train[i]/train[j]\n",
            "df['computed_34'] =train[a]+train[b]+train[c]+train[d]+train[e]+train[f]/train[g]/train[h]/train[i]/train[j]\n",
            "df['computed_35'] =train[a]+train[b]+train[c]+train[d]+train[e]-train[f]-train[g]-train[h]-train[i]-train[j]\n",
            "df['computed_36'] =train[a]+train[b]+train[c]+train[d]+train[e]-train[f]-train[g]-train[h]-train[i]*train[j]\n",
            "df['computed_37'] =train[a]+train[b]+train[c]+train[d]+train[e]-train[f]-train[g]-train[h]-train[i]/train[j]\n",
            "df['computed_38'] =train[a]+train[b]+train[c]+train[d]+train[e]-train[f]-train[g]-train[h]*train[i]*train[j]\n",
            "df['computed_39'] =train[a]+train[b]+train[c]+train[d]+train[e]-train[f]-train[g]-train[h]*train[i]/train[j]\n",
            "df['computed_40'] =train[a]+train[b]+train[c]+train[d]+train[e]-train[f]-train[g]-train[h]/train[i]/train[j]\n",
            "df['computed_41'] =train[a]+train[b]+train[c]+train[d]+train[e]-train[f]-train[g]*train[h]*train[i]*train[j]\n",
            "df['computed_42'] =train[a]+train[b]+train[c]+train[d]+train[e]-train[f]-train[g]*train[h]*train[i]/train[j]\n",
            "df['computed_43'] =train[a]+train[b]+train[c]+train[d]+train[e]-train[f]-train[g]*train[h]/train[i]/train[j]\n",
            "df['computed_44'] =train[a]+train[b]+train[c]+train[d]+train[e]-train[f]-train[g]/train[h]/train[i]/train[j]\n",
            "df['computed_45'] =train[a]+train[b]+train[c]+train[d]+train[e]-train[f]*train[g]*train[h]*train[i]*train[j]\n",
            "df['computed_46'] =train[a]+train[b]+train[c]+train[d]+train[e]-train[f]*train[g]*train[h]*train[i]/train[j]\n",
            "df['computed_47'] =train[a]+train[b]+train[c]+train[d]+train[e]-train[f]*train[g]*train[h]/train[i]/train[j]\n",
            "df['computed_48'] =train[a]+train[b]+train[c]+train[d]+train[e]-train[f]*train[g]/train[h]/train[i]/train[j]\n",
            "df['computed_49'] =train[a]+train[b]+train[c]+train[d]+train[e]-train[f]/train[g]/train[h]/train[i]/train[j]\n",
            "df['computed_50'] =train[a]+train[b]+train[c]+train[d]+train[e]*train[f]*train[g]*train[h]*train[i]*train[j]\n",
            "df['computed_51'] =train[a]+train[b]+train[c]+train[d]+train[e]*train[f]*train[g]*train[h]*train[i]/train[j]\n",
            "df['computed_52'] =train[a]+train[b]+train[c]+train[d]+train[e]*train[f]*train[g]*train[h]/train[i]/train[j]\n",
            "df['computed_53'] =train[a]+train[b]+train[c]+train[d]+train[e]*train[f]*train[g]/train[h]/train[i]/train[j]\n",
            "df['computed_54'] =train[a]+train[b]+train[c]+train[d]+train[e]*train[f]/train[g]/train[h]/train[i]/train[j]\n",
            "df['computed_55'] =train[a]+train[b]+train[c]+train[d]+train[e]/train[f]/train[g]/train[h]/train[i]/train[j]\n",
            "df['computed_56'] =train[a]+train[b]+train[c]+train[d]-train[e]-train[f]-train[g]-train[h]-train[i]-train[j]\n",
            "df['computed_57'] =train[a]+train[b]+train[c]+train[d]-train[e]-train[f]-train[g]-train[h]-train[i]*train[j]\n",
            "df['computed_58'] =train[a]+train[b]+train[c]+train[d]-train[e]-train[f]-train[g]-train[h]-train[i]/train[j]\n",
            "df['computed_59'] =train[a]+train[b]+train[c]+train[d]-train[e]-train[f]-train[g]-train[h]*train[i]*train[j]\n",
            "df['computed_60'] =train[a]+train[b]+train[c]+train[d]-train[e]-train[f]-train[g]-train[h]*train[i]/train[j]\n",
            "df['computed_61'] =train[a]+train[b]+train[c]+train[d]-train[e]-train[f]-train[g]-train[h]/train[i]/train[j]\n",
            "df['computed_62'] =train[a]+train[b]+train[c]+train[d]-train[e]-train[f]-train[g]*train[h]*train[i]*train[j]\n",
            "df['computed_63'] =train[a]+train[b]+train[c]+train[d]-train[e]-train[f]-train[g]*train[h]*train[i]/train[j]\n",
            "df['computed_64'] =train[a]+train[b]+train[c]+train[d]-train[e]-train[f]-train[g]*train[h]/train[i]/train[j]\n",
            "df['computed_65'] =train[a]+train[b]+train[c]+train[d]-train[e]-train[f]-train[g]/train[h]/train[i]/train[j]\n",
            "df['computed_66'] =train[a]+train[b]+train[c]+train[d]-train[e]-train[f]*train[g]*train[h]*train[i]*train[j]\n",
            "df['computed_67'] =train[a]+train[b]+train[c]+train[d]-train[e]-train[f]*train[g]*train[h]*train[i]/train[j]\n",
            "df['computed_68'] =train[a]+train[b]+train[c]+train[d]-train[e]-train[f]*train[g]*train[h]/train[i]/train[j]\n",
            "df['computed_69'] =train[a]+train[b]+train[c]+train[d]-train[e]-train[f]*train[g]/train[h]/train[i]/train[j]\n",
            "df['computed_70'] =train[a]+train[b]+train[c]+train[d]-train[e]-train[f]/train[g]/train[h]/train[i]/train[j]\n",
            "df['computed_71'] =train[a]+train[b]+train[c]+train[d]-train[e]*train[f]*train[g]*train[h]*train[i]*train[j]\n",
            "df['computed_72'] =train[a]+train[b]+train[c]+train[d]-train[e]*train[f]*train[g]*train[h]*train[i]/train[j]\n",
            "df['computed_73'] =train[a]+train[b]+train[c]+train[d]-train[e]*train[f]*train[g]*train[h]/train[i]/train[j]\n",
            "df['computed_74'] =train[a]+train[b]+train[c]+train[d]-train[e]*train[f]*train[g]/train[h]/train[i]/train[j]\n",
            "df['computed_75'] =train[a]+train[b]+train[c]+train[d]-train[e]*train[f]/train[g]/train[h]/train[i]/train[j]\n",
            "df['computed_76'] =train[a]+train[b]+train[c]+train[d]-train[e]/train[f]/train[g]/train[h]/train[i]/train[j]\n",
            "df['computed_77'] =train[a]+train[b]+train[c]+train[d]*train[e]*train[f]*train[g]*train[h]*train[i]*train[j]\n",
            "df['computed_78'] =train[a]+train[b]+train[c]+train[d]*train[e]*train[f]*train[g]*train[h]*train[i]/train[j]\n",
            "df['computed_79'] =train[a]+train[b]+train[c]+train[d]*train[e]*train[f]*train[g]*train[h]/train[i]/train[j]\n",
            "df['computed_80'] =train[a]+train[b]+train[c]+train[d]*train[e]*train[f]*train[g]/train[h]/train[i]/train[j]\n",
            "df['computed_81'] =train[a]+train[b]+train[c]+train[d]*train[e]*train[f]/train[g]/train[h]/train[i]/train[j]\n",
            "df['computed_82'] =train[a]+train[b]+train[c]+train[d]*train[e]/train[f]/train[g]/train[h]/train[i]/train[j]\n",
            "df['computed_83'] =train[a]+train[b]+train[c]+train[d]/train[e]/train[f]/train[g]/train[h]/train[i]/train[j]\n",
            "df['computed_84'] =train[a]+train[b]+train[c]-train[d]-train[e]-train[f]-train[g]-train[h]-train[i]-train[j]\n",
            "df['computed_85'] =train[a]+train[b]+train[c]-train[d]-train[e]-train[f]-train[g]-train[h]-train[i]*train[j]\n",
            "df['computed_86'] =train[a]+train[b]+train[c]-train[d]-train[e]-train[f]-train[g]-train[h]-train[i]/train[j]\n",
            "df['computed_87'] =train[a]+train[b]+train[c]-train[d]-train[e]-train[f]-train[g]-train[h]*train[i]*train[j]\n",
            "df['computed_88'] =train[a]+train[b]+train[c]-train[d]-train[e]-train[f]-train[g]-train[h]*train[i]/train[j]\n",
            "df['computed_89'] =train[a]+train[b]+train[c]-train[d]-train[e]-train[f]-train[g]-train[h]/train[i]/train[j]\n",
            "df['computed_90'] =train[a]+train[b]+train[c]-train[d]-train[e]-train[f]-train[g]*train[h]*train[i]*train[j]\n",
            "df['computed_91'] =train[a]+train[b]+train[c]-train[d]-train[e]-train[f]-train[g]*train[h]*train[i]/train[j]\n",
            "df['computed_92'] =train[a]+train[b]+train[c]-train[d]-train[e]-train[f]-train[g]*train[h]/train[i]/train[j]\n",
            "df['computed_93'] =train[a]+train[b]+train[c]-train[d]-train[e]-train[f]-train[g]/train[h]/train[i]/train[j]\n",
            "df['computed_94'] =train[a]+train[b]+train[c]-train[d]-train[e]-train[f]*train[g]*train[h]*train[i]*train[j]\n",
            "df['computed_95'] =train[a]+train[b]+train[c]-train[d]-train[e]-train[f]*train[g]*train[h]*train[i]/train[j]\n",
            "df['computed_96'] =train[a]+train[b]+train[c]-train[d]-train[e]-train[f]*train[g]*train[h]/train[i]/train[j]\n",
            "df['computed_97'] =train[a]+train[b]+train[c]-train[d]-train[e]-train[f]*train[g]/train[h]/train[i]/train[j]\n",
            "df['computed_98'] =train[a]+train[b]+train[c]-train[d]-train[e]-train[f]/train[g]/train[h]/train[i]/train[j]\n",
            "df['computed_99'] =train[a]+train[b]+train[c]-train[d]-train[e]*train[f]*train[g]*train[h]*train[i]*train[j]\n",
            "df['computed_100'] =train[a]+train[b]+train[c]-train[d]-train[e]*train[f]*train[g]*train[h]*train[i]/train[j]\n",
            "df['computed_101'] =train[a]+train[b]+train[c]-train[d]-train[e]*train[f]*train[g]*train[h]/train[i]/train[j]\n",
            "df['computed_102'] =train[a]+train[b]+train[c]-train[d]-train[e]*train[f]*train[g]/train[h]/train[i]/train[j]\n",
            "df['computed_103'] =train[a]+train[b]+train[c]-train[d]-train[e]*train[f]/train[g]/train[h]/train[i]/train[j]\n",
            "df['computed_104'] =train[a]+train[b]+train[c]-train[d]-train[e]/train[f]/train[g]/train[h]/train[i]/train[j]\n",
            "df['computed_105'] =train[a]+train[b]+train[c]-train[d]*train[e]*train[f]*train[g]*train[h]*train[i]*train[j]\n",
            "df['computed_106'] =train[a]+train[b]+train[c]-train[d]*train[e]*train[f]*train[g]*train[h]*train[i]/train[j]\n",
            "df['computed_107'] =train[a]+train[b]+train[c]-train[d]*train[e]*train[f]*train[g]*train[h]/train[i]/train[j]\n",
            "df['computed_108'] =train[a]+train[b]+train[c]-train[d]*train[e]*train[f]*train[g]/train[h]/train[i]/train[j]\n",
            "df['computed_109'] =train[a]+train[b]+train[c]-train[d]*train[e]*train[f]/train[g]/train[h]/train[i]/train[j]\n",
            "df['computed_110'] =train[a]+train[b]+train[c]-train[d]*train[e]/train[f]/train[g]/train[h]/train[i]/train[j]\n",
            "df['computed_111'] =train[a]+train[b]+train[c]-train[d]/train[e]/train[f]/train[g]/train[h]/train[i]/train[j]\n",
            "df['computed_112'] =train[a]+train[b]+train[c]*train[d]*train[e]*train[f]*train[g]*train[h]*train[i]*train[j]\n",
            "df['computed_113'] =train[a]+train[b]+train[c]*train[d]*train[e]*train[f]*train[g]*train[h]*train[i]/train[j]\n",
            "df['computed_114'] =train[a]+train[b]+train[c]*train[d]*train[e]*train[f]*train[g]*train[h]/train[i]/train[j]\n",
            "df['computed_115'] =train[a]+train[b]+train[c]*train[d]*train[e]*train[f]*train[g]/train[h]/train[i]/train[j]\n",
            "df['computed_116'] =train[a]+train[b]+train[c]*train[d]*train[e]*train[f]/train[g]/train[h]/train[i]/train[j]\n",
            "df['computed_117'] =train[a]+train[b]+train[c]*train[d]*train[e]/train[f]/train[g]/train[h]/train[i]/train[j]\n",
            "df['computed_118'] =train[a]+train[b]+train[c]*train[d]/train[e]/train[f]/train[g]/train[h]/train[i]/train[j]\n",
            "df['computed_119'] =train[a]+train[b]+train[c]/train[d]/train[e]/train[f]/train[g]/train[h]/train[i]/train[j]\n",
            "df['computed_120'] =train[a]+train[b]-train[c]-train[d]-train[e]-train[f]-train[g]-train[h]-train[i]-train[j]\n",
            "df['computed_121'] =train[a]+train[b]-train[c]-train[d]-train[e]-train[f]-train[g]-train[h]-train[i]*train[j]\n",
            "df['computed_122'] =train[a]+train[b]-train[c]-train[d]-train[e]-train[f]-train[g]-train[h]-train[i]/train[j]\n",
            "df['computed_123'] =train[a]+train[b]-train[c]-train[d]-train[e]-train[f]-train[g]-train[h]*train[i]*train[j]\n",
            "df['computed_124'] =train[a]+train[b]-train[c]-train[d]-train[e]-train[f]-train[g]-train[h]*train[i]/train[j]\n",
            "df['computed_125'] =train[a]+train[b]-train[c]-train[d]-train[e]-train[f]-train[g]-train[h]/train[i]/train[j]\n",
            "df['computed_126'] =train[a]+train[b]-train[c]-train[d]-train[e]-train[f]-train[g]*train[h]*train[i]*train[j]\n",
            "df['computed_127'] =train[a]+train[b]-train[c]-train[d]-train[e]-train[f]-train[g]*train[h]*train[i]/train[j]\n",
            "df['computed_128'] =train[a]+train[b]-train[c]-train[d]-train[e]-train[f]-train[g]*train[h]/train[i]/train[j]\n",
            "df['computed_129'] =train[a]+train[b]-train[c]-train[d]-train[e]-train[f]-train[g]/train[h]/train[i]/train[j]\n",
            "df['computed_130'] =train[a]+train[b]-train[c]-train[d]-train[e]-train[f]*train[g]*train[h]*train[i]*train[j]\n",
            "df['computed_131'] =train[a]+train[b]-train[c]-train[d]-train[e]-train[f]*train[g]*train[h]*train[i]/train[j]\n",
            "df['computed_132'] =train[a]+train[b]-train[c]-train[d]-train[e]-train[f]*train[g]*train[h]/train[i]/train[j]\n",
            "df['computed_133'] =train[a]+train[b]-train[c]-train[d]-train[e]-train[f]*train[g]/train[h]/train[i]/train[j]\n",
            "df['computed_134'] =train[a]+train[b]-train[c]-train[d]-train[e]-train[f]/train[g]/train[h]/train[i]/train[j]\n",
            "df['computed_135'] =train[a]+train[b]-train[c]-train[d]-train[e]*train[f]*train[g]*train[h]*train[i]*train[j]\n",
            "df['computed_136'] =train[a]+train[b]-train[c]-train[d]-train[e]*train[f]*train[g]*train[h]*train[i]/train[j]\n",
            "df['computed_137'] =train[a]+train[b]-train[c]-train[d]-train[e]*train[f]*train[g]*train[h]/train[i]/train[j]\n",
            "df['computed_138'] =train[a]+train[b]-train[c]-train[d]-train[e]*train[f]*train[g]/train[h]/train[i]/train[j]\n",
            "df['computed_139'] =train[a]+train[b]-train[c]-train[d]-train[e]*train[f]/train[g]/train[h]/train[i]/train[j]\n",
            "df['computed_140'] =train[a]+train[b]-train[c]-train[d]-train[e]/train[f]/train[g]/train[h]/train[i]/train[j]\n",
            "df['computed_141'] =train[a]+train[b]-train[c]-train[d]*train[e]*train[f]*train[g]*train[h]*train[i]*train[j]\n",
            "df['computed_142'] =train[a]+train[b]-train[c]-train[d]*train[e]*train[f]*train[g]*train[h]*train[i]/train[j]\n",
            "df['computed_143'] =train[a]+train[b]-train[c]-train[d]*train[e]*train[f]*train[g]*train[h]/train[i]/train[j]\n",
            "df['computed_144'] =train[a]+train[b]-train[c]-train[d]*train[e]*train[f]*train[g]/train[h]/train[i]/train[j]\n",
            "df['computed_145'] =train[a]+train[b]-train[c]-train[d]*train[e]*train[f]/train[g]/train[h]/train[i]/train[j]\n",
            "df['computed_146'] =train[a]+train[b]-train[c]-train[d]*train[e]/train[f]/train[g]/train[h]/train[i]/train[j]\n",
            "df['computed_147'] =train[a]+train[b]-train[c]-train[d]/train[e]/train[f]/train[g]/train[h]/train[i]/train[j]\n",
            "df['computed_148'] =train[a]+train[b]-train[c]*train[d]*train[e]*train[f]*train[g]*train[h]*train[i]*train[j]\n",
            "df['computed_149'] =train[a]+train[b]-train[c]*train[d]*train[e]*train[f]*train[g]*train[h]*train[i]/train[j]\n",
            "df['computed_150'] =train[a]+train[b]-train[c]*train[d]*train[e]*train[f]*train[g]*train[h]/train[i]/train[j]\n",
            "df['computed_151'] =train[a]+train[b]-train[c]*train[d]*train[e]*train[f]*train[g]/train[h]/train[i]/train[j]\n",
            "df['computed_152'] =train[a]+train[b]-train[c]*train[d]*train[e]*train[f]/train[g]/train[h]/train[i]/train[j]\n",
            "df['computed_153'] =train[a]+train[b]-train[c]*train[d]*train[e]/train[f]/train[g]/train[h]/train[i]/train[j]\n",
            "df['computed_154'] =train[a]+train[b]-train[c]*train[d]/train[e]/train[f]/train[g]/train[h]/train[i]/train[j]\n",
            "df['computed_155'] =train[a]+train[b]-train[c]/train[d]/train[e]/train[f]/train[g]/train[h]/train[i]/train[j]\n",
            "df['computed_156'] =train[a]+train[b]*train[c]*train[d]*train[e]*train[f]*train[g]*train[h]*train[i]*train[j]\n",
            "df['computed_157'] =train[a]+train[b]*train[c]*train[d]*train[e]*train[f]*train[g]*train[h]*train[i]/train[j]\n",
            "df['computed_158'] =train[a]+train[b]*train[c]*train[d]*train[e]*train[f]*train[g]*train[h]/train[i]/train[j]\n",
            "df['computed_159'] =train[a]+train[b]*train[c]*train[d]*train[e]*train[f]*train[g]/train[h]/train[i]/train[j]\n",
            "df['computed_160'] =train[a]+train[b]*train[c]*train[d]*train[e]*train[f]/train[g]/train[h]/train[i]/train[j]\n",
            "df['computed_161'] =train[a]+train[b]*train[c]*train[d]*train[e]/train[f]/train[g]/train[h]/train[i]/train[j]\n",
            "df['computed_162'] =train[a]+train[b]*train[c]*train[d]/train[e]/train[f]/train[g]/train[h]/train[i]/train[j]\n",
            "df['computed_163'] =train[a]+train[b]*train[c]/train[d]/train[e]/train[f]/train[g]/train[h]/train[i]/train[j]\n",
            "df['computed_164'] =train[a]+train[b]/train[c]/train[d]/train[e]/train[f]/train[g]/train[h]/train[i]/train[j]\n",
            "df['computed_165'] =train[a]-train[b]-train[c]-train[d]-train[e]-train[f]-train[g]-train[h]-train[i]-train[j]\n",
            "df['computed_166'] =train[a]-train[b]-train[c]-train[d]-train[e]-train[f]-train[g]-train[h]-train[i]*train[j]\n",
            "df['computed_167'] =train[a]-train[b]-train[c]-train[d]-train[e]-train[f]-train[g]-train[h]-train[i]/train[j]\n",
            "df['computed_168'] =train[a]-train[b]-train[c]-train[d]-train[e]-train[f]-train[g]-train[h]*train[i]*train[j]\n",
            "df['computed_169'] =train[a]-train[b]-train[c]-train[d]-train[e]-train[f]-train[g]-train[h]*train[i]/train[j]\n",
            "df['computed_170'] =train[a]-train[b]-train[c]-train[d]-train[e]-train[f]-train[g]-train[h]/train[i]/train[j]\n",
            "df['computed_171'] =train[a]-train[b]-train[c]-train[d]-train[e]-train[f]-train[g]*train[h]*train[i]*train[j]\n",
            "df['computed_172'] =train[a]-train[b]-train[c]-train[d]-train[e]-train[f]-train[g]*train[h]*train[i]/train[j]\n",
            "df['computed_173'] =train[a]-train[b]-train[c]-train[d]-train[e]-train[f]-train[g]*train[h]/train[i]/train[j]\n",
            "df['computed_174'] =train[a]-train[b]-train[c]-train[d]-train[e]-train[f]-train[g]/train[h]/train[i]/train[j]\n",
            "df['computed_175'] =train[a]-train[b]-train[c]-train[d]-train[e]-train[f]*train[g]*train[h]*train[i]*train[j]\n",
            "df['computed_176'] =train[a]-train[b]-train[c]-train[d]-train[e]-train[f]*train[g]*train[h]*train[i]/train[j]\n",
            "df['computed_177'] =train[a]-train[b]-train[c]-train[d]-train[e]-train[f]*train[g]*train[h]/train[i]/train[j]\n",
            "df['computed_178'] =train[a]-train[b]-train[c]-train[d]-train[e]-train[f]*train[g]/train[h]/train[i]/train[j]\n",
            "df['computed_179'] =train[a]-train[b]-train[c]-train[d]-train[e]-train[f]/train[g]/train[h]/train[i]/train[j]\n",
            "df['computed_180'] =train[a]-train[b]-train[c]-train[d]-train[e]*train[f]*train[g]*train[h]*train[i]*train[j]\n",
            "df['computed_181'] =train[a]-train[b]-train[c]-train[d]-train[e]*train[f]*train[g]*train[h]*train[i]/train[j]\n",
            "df['computed_182'] =train[a]-train[b]-train[c]-train[d]-train[e]*train[f]*train[g]*train[h]/train[i]/train[j]\n",
            "df['computed_183'] =train[a]-train[b]-train[c]-train[d]-train[e]*train[f]*train[g]/train[h]/train[i]/train[j]\n",
            "df['computed_184'] =train[a]-train[b]-train[c]-train[d]-train[e]*train[f]/train[g]/train[h]/train[i]/train[j]\n",
            "df['computed_185'] =train[a]-train[b]-train[c]-train[d]-train[e]/train[f]/train[g]/train[h]/train[i]/train[j]\n",
            "df['computed_186'] =train[a]-train[b]-train[c]-train[d]*train[e]*train[f]*train[g]*train[h]*train[i]*train[j]\n",
            "df['computed_187'] =train[a]-train[b]-train[c]-train[d]*train[e]*train[f]*train[g]*train[h]*train[i]/train[j]\n",
            "df['computed_188'] =train[a]-train[b]-train[c]-train[d]*train[e]*train[f]*train[g]*train[h]/train[i]/train[j]\n",
            "df['computed_189'] =train[a]-train[b]-train[c]-train[d]*train[e]*train[f]*train[g]/train[h]/train[i]/train[j]\n",
            "df['computed_190'] =train[a]-train[b]-train[c]-train[d]*train[e]*train[f]/train[g]/train[h]/train[i]/train[j]\n",
            "df['computed_191'] =train[a]-train[b]-train[c]-train[d]*train[e]/train[f]/train[g]/train[h]/train[i]/train[j]\n",
            "df['computed_192'] =train[a]-train[b]-train[c]-train[d]/train[e]/train[f]/train[g]/train[h]/train[i]/train[j]\n",
            "df['computed_193'] =train[a]-train[b]-train[c]*train[d]*train[e]*train[f]*train[g]*train[h]*train[i]*train[j]\n",
            "df['computed_194'] =train[a]-train[b]-train[c]*train[d]*train[e]*train[f]*train[g]*train[h]*train[i]/train[j]\n",
            "df['computed_195'] =train[a]-train[b]-train[c]*train[d]*train[e]*train[f]*train[g]*train[h]/train[i]/train[j]\n",
            "df['computed_196'] =train[a]-train[b]-train[c]*train[d]*train[e]*train[f]*train[g]/train[h]/train[i]/train[j]\n",
            "df['computed_197'] =train[a]-train[b]-train[c]*train[d]*train[e]*train[f]/train[g]/train[h]/train[i]/train[j]\n",
            "df['computed_198'] =train[a]-train[b]-train[c]*train[d]*train[e]/train[f]/train[g]/train[h]/train[i]/train[j]\n",
            "df['computed_199'] =train[a]-train[b]-train[c]*train[d]/train[e]/train[f]/train[g]/train[h]/train[i]/train[j]\n",
            "df['computed_200'] =train[a]-train[b]-train[c]/train[d]/train[e]/train[f]/train[g]/train[h]/train[i]/train[j]\n",
            "df['computed_201'] =train[a]-train[b]*train[c]*train[d]*train[e]*train[f]*train[g]*train[h]*train[i]*train[j]\n",
            "df['computed_202'] =train[a]-train[b]*train[c]*train[d]*train[e]*train[f]*train[g]*train[h]*train[i]/train[j]\n",
            "df['computed_203'] =train[a]-train[b]*train[c]*train[d]*train[e]*train[f]*train[g]*train[h]/train[i]/train[j]\n",
            "df['computed_204'] =train[a]-train[b]*train[c]*train[d]*train[e]*train[f]*train[g]/train[h]/train[i]/train[j]\n",
            "df['computed_205'] =train[a]-train[b]*train[c]*train[d]*train[e]*train[f]/train[g]/train[h]/train[i]/train[j]\n",
            "df['computed_206'] =train[a]-train[b]*train[c]*train[d]*train[e]/train[f]/train[g]/train[h]/train[i]/train[j]\n",
            "df['computed_207'] =train[a]-train[b]*train[c]*train[d]/train[e]/train[f]/train[g]/train[h]/train[i]/train[j]\n",
            "df['computed_208'] =train[a]-train[b]*train[c]/train[d]/train[e]/train[f]/train[g]/train[h]/train[i]/train[j]\n",
            "df['computed_209'] =train[a]-train[b]/train[c]/train[d]/train[e]/train[f]/train[g]/train[h]/train[i]/train[j]\n",
            "df['computed_210'] =train[a]*train[b]*train[c]*train[d]*train[e]*train[f]*train[g]*train[h]*train[i]*train[j]\n",
            "df['computed_211'] =train[a]*train[b]*train[c]*train[d]*train[e]*train[f]*train[g]*train[h]*train[i]/train[j]\n",
            "df['computed_212'] =train[a]*train[b]*train[c]*train[d]*train[e]*train[f]*train[g]*train[h]/train[i]/train[j]\n",
            "df['computed_213'] =train[a]*train[b]*train[c]*train[d]*train[e]*train[f]*train[g]/train[h]/train[i]/train[j]\n",
            "df['computed_214'] =train[a]*train[b]*train[c]*train[d]*train[e]*train[f]/train[g]/train[h]/train[i]/train[j]\n",
            "df['computed_215'] =train[a]*train[b]*train[c]*train[d]*train[e]/train[f]/train[g]/train[h]/train[i]/train[j]\n",
            "df['computed_216'] =train[a]*train[b]*train[c]*train[d]/train[e]/train[f]/train[g]/train[h]/train[i]/train[j]\n",
            "df['computed_217'] =train[a]*train[b]*train[c]/train[d]/train[e]/train[f]/train[g]/train[h]/train[i]/train[j]\n",
            "df['computed_218'] =train[a]*train[b]/train[c]/train[d]/train[e]/train[f]/train[g]/train[h]/train[i]/train[j]\n",
            "df['computed_219'] =train[a]/train[b]/train[c]/train[d]/train[e]/train[f]/train[g]/train[h]/train[i]/train[j]\n"
          ],
          "name": "stdout"
        }
      ]
    },
    {
      "cell_type": "code",
      "metadata": {
        "id": "zBz2TzSBY0WU",
        "outputId": "51c5989c-c084-4f58-d576-40c269f4e0ae",
        "colab": {
          "base_uri": "https://localhost:8080/"
        }
      },
      "source": [
        "%%time\n",
        "from google.colab import output\n",
        "score = []\n",
        "count = 0\n",
        "df= pd.DataFrame()\n",
        "for z in ten_combinations:\n",
        "    a = z[0]\n",
        "    b = z[1]\n",
        "    c = z[2]\n",
        "    d = z[3]\n",
        "    e = z[4]\n",
        "    f = z[5]\n",
        "    g = z[6]\n",
        "    h = z[7]\n",
        "    i = z[8]\n",
        "    j = z[9]\n",
        "    \n",
        "    \n",
        "    df['computed_0'] =train[a]+train[b]+train[c]+train[d]+train[e]+train[f]+train[g]+train[h]+train[i]+train[j]\n",
        "    df['computed_1'] =train[a]+train[b]+train[c]+train[d]+train[e]+train[f]+train[g]+train[h]+train[i]-train[j]\n",
        "    df['computed_2'] =train[a]+train[b]+train[c]+train[d]+train[e]+train[f]+train[g]+train[h]+train[i]*train[j]\n",
        "    df['computed_3'] =train[a]+train[b]+train[c]+train[d]+train[e]+train[f]+train[g]+train[h]+train[i]/train[j]\n",
        "    df['computed_4'] =train[a]+train[b]+train[c]+train[d]+train[e]+train[f]+train[g]+train[h]-train[i]-train[j]\n",
        "    df['computed_5'] =train[a]+train[b]+train[c]+train[d]+train[e]+train[f]+train[g]+train[h]-train[i]*train[j]\n",
        "    df['computed_6'] =train[a]+train[b]+train[c]+train[d]+train[e]+train[f]+train[g]+train[h]-train[i]/train[j]\n",
        "    df['computed_7'] =train[a]+train[b]+train[c]+train[d]+train[e]+train[f]+train[g]+train[h]*train[i]*train[j]\n",
        "    df['computed_8'] =train[a]+train[b]+train[c]+train[d]+train[e]+train[f]+train[g]+train[h]*train[i]/train[j]\n",
        "    df['computed_9'] =train[a]+train[b]+train[c]+train[d]+train[e]+train[f]+train[g]+train[h]/train[i]/train[j]\n",
        "    df['computed_10'] =train[a]+train[b]+train[c]+train[d]+train[e]+train[f]+train[g]-train[h]-train[i]-train[j]\n",
        "    df['computed_11'] =train[a]+train[b]+train[c]+train[d]+train[e]+train[f]+train[g]-train[h]-train[i]*train[j]\n",
        "    df['computed_12'] =train[a]+train[b]+train[c]+train[d]+train[e]+train[f]+train[g]-train[h]-train[i]/train[j]\n",
        "    df['computed_13'] =train[a]+train[b]+train[c]+train[d]+train[e]+train[f]+train[g]-train[h]*train[i]*train[j]\n",
        "    df['computed_14'] =train[a]+train[b]+train[c]+train[d]+train[e]+train[f]+train[g]-train[h]*train[i]/train[j]\n",
        "    df['computed_15'] =train[a]+train[b]+train[c]+train[d]+train[e]+train[f]+train[g]-train[h]/train[i]/train[j]\n",
        "    df['computed_16'] =train[a]+train[b]+train[c]+train[d]+train[e]+train[f]+train[g]*train[h]*train[i]*train[j]\n",
        "    df['computed_17'] =train[a]+train[b]+train[c]+train[d]+train[e]+train[f]+train[g]*train[h]*train[i]/train[j]\n",
        "    df['computed_18'] =train[a]+train[b]+train[c]+train[d]+train[e]+train[f]+train[g]*train[h]/train[i]/train[j]\n",
        "    df['computed_19'] =train[a]+train[b]+train[c]+train[d]+train[e]+train[f]+train[g]/train[h]/train[i]/train[j]\n",
        "    df['computed_20'] =train[a]+train[b]+train[c]+train[d]+train[e]+train[f]-train[g]-train[h]-train[i]-train[j]\n",
        "    df['computed_21'] =train[a]+train[b]+train[c]+train[d]+train[e]+train[f]-train[g]-train[h]-train[i]*train[j]\n",
        "    df['computed_22'] =train[a]+train[b]+train[c]+train[d]+train[e]+train[f]-train[g]-train[h]-train[i]/train[j]\n",
        "    df['computed_23'] =train[a]+train[b]+train[c]+train[d]+train[e]+train[f]-train[g]-train[h]*train[i]*train[j]\n",
        "    df['computed_24'] =train[a]+train[b]+train[c]+train[d]+train[e]+train[f]-train[g]-train[h]*train[i]/train[j]\n",
        "    df['computed_25'] =train[a]+train[b]+train[c]+train[d]+train[e]+train[f]-train[g]-train[h]/train[i]/train[j]\n",
        "    df['computed_26'] =train[a]+train[b]+train[c]+train[d]+train[e]+train[f]-train[g]*train[h]*train[i]*train[j]\n",
        "    df['computed_27'] =train[a]+train[b]+train[c]+train[d]+train[e]+train[f]-train[g]*train[h]*train[i]/train[j]\n",
        "    df['computed_28'] =train[a]+train[b]+train[c]+train[d]+train[e]+train[f]-train[g]*train[h]/train[i]/train[j]\n",
        "    df['computed_29'] =train[a]+train[b]+train[c]+train[d]+train[e]+train[f]-train[g]/train[h]/train[i]/train[j]\n",
        "    df['computed_30'] =train[a]+train[b]+train[c]+train[d]+train[e]+train[f]*train[g]*train[h]*train[i]*train[j]\n",
        "    df['computed_31'] =train[a]+train[b]+train[c]+train[d]+train[e]+train[f]*train[g]*train[h]*train[i]/train[j]\n",
        "    df['computed_32'] =train[a]+train[b]+train[c]+train[d]+train[e]+train[f]*train[g]*train[h]/train[i]/train[j]\n",
        "    df['computed_33'] =train[a]+train[b]+train[c]+train[d]+train[e]+train[f]*train[g]/train[h]/train[i]/train[j]\n",
        "    df['computed_34'] =train[a]+train[b]+train[c]+train[d]+train[e]+train[f]/train[g]/train[h]/train[i]/train[j]\n",
        "    df['computed_35'] =train[a]+train[b]+train[c]+train[d]+train[e]-train[f]-train[g]-train[h]-train[i]-train[j]\n",
        "    df['computed_36'] =train[a]+train[b]+train[c]+train[d]+train[e]-train[f]-train[g]-train[h]-train[i]*train[j]\n",
        "    df['computed_37'] =train[a]+train[b]+train[c]+train[d]+train[e]-train[f]-train[g]-train[h]-train[i]/train[j]\n",
        "    df['computed_38'] =train[a]+train[b]+train[c]+train[d]+train[e]-train[f]-train[g]-train[h]*train[i]*train[j]\n",
        "    df['computed_39'] =train[a]+train[b]+train[c]+train[d]+train[e]-train[f]-train[g]-train[h]*train[i]/train[j]\n",
        "    df['computed_40'] =train[a]+train[b]+train[c]+train[d]+train[e]-train[f]-train[g]-train[h]/train[i]/train[j]\n",
        "    df['computed_41'] =train[a]+train[b]+train[c]+train[d]+train[e]-train[f]-train[g]*train[h]*train[i]*train[j]\n",
        "    df['computed_42'] =train[a]+train[b]+train[c]+train[d]+train[e]-train[f]-train[g]*train[h]*train[i]/train[j]\n",
        "    df['computed_43'] =train[a]+train[b]+train[c]+train[d]+train[e]-train[f]-train[g]*train[h]/train[i]/train[j]\n",
        "    df['computed_44'] =train[a]+train[b]+train[c]+train[d]+train[e]-train[f]-train[g]/train[h]/train[i]/train[j]\n",
        "    df['computed_45'] =train[a]+train[b]+train[c]+train[d]+train[e]-train[f]*train[g]*train[h]*train[i]*train[j]\n",
        "    df['computed_46'] =train[a]+train[b]+train[c]+train[d]+train[e]-train[f]*train[g]*train[h]*train[i]/train[j]\n",
        "    df['computed_47'] =train[a]+train[b]+train[c]+train[d]+train[e]-train[f]*train[g]*train[h]/train[i]/train[j]\n",
        "    df['computed_48'] =train[a]+train[b]+train[c]+train[d]+train[e]-train[f]*train[g]/train[h]/train[i]/train[j]\n",
        "    df['computed_49'] =train[a]+train[b]+train[c]+train[d]+train[e]-train[f]/train[g]/train[h]/train[i]/train[j]\n",
        "    df['computed_50'] =train[a]+train[b]+train[c]+train[d]+train[e]*train[f]*train[g]*train[h]*train[i]*train[j]\n",
        "    df['computed_51'] =train[a]+train[b]+train[c]+train[d]+train[e]*train[f]*train[g]*train[h]*train[i]/train[j]\n",
        "    df['computed_52'] =train[a]+train[b]+train[c]+train[d]+train[e]*train[f]*train[g]*train[h]/train[i]/train[j]\n",
        "    df['computed_53'] =train[a]+train[b]+train[c]+train[d]+train[e]*train[f]*train[g]/train[h]/train[i]/train[j]\n",
        "    df['computed_54'] =train[a]+train[b]+train[c]+train[d]+train[e]*train[f]/train[g]/train[h]/train[i]/train[j]\n",
        "    df['computed_55'] =train[a]+train[b]+train[c]+train[d]+train[e]/train[f]/train[g]/train[h]/train[i]/train[j]\n",
        "    df['computed_56'] =train[a]+train[b]+train[c]+train[d]-train[e]-train[f]-train[g]-train[h]-train[i]-train[j]\n",
        "    df['computed_57'] =train[a]+train[b]+train[c]+train[d]-train[e]-train[f]-train[g]-train[h]-train[i]*train[j]\n",
        "    df['computed_58'] =train[a]+train[b]+train[c]+train[d]-train[e]-train[f]-train[g]-train[h]-train[i]/train[j]\n",
        "    df['computed_59'] =train[a]+train[b]+train[c]+train[d]-train[e]-train[f]-train[g]-train[h]*train[i]*train[j]\n",
        "    df['computed_60'] =train[a]+train[b]+train[c]+train[d]-train[e]-train[f]-train[g]-train[h]*train[i]/train[j]\n",
        "    df['computed_61'] =train[a]+train[b]+train[c]+train[d]-train[e]-train[f]-train[g]-train[h]/train[i]/train[j]\n",
        "    df['computed_62'] =train[a]+train[b]+train[c]+train[d]-train[e]-train[f]-train[g]*train[h]*train[i]*train[j]\n",
        "    df['computed_63'] =train[a]+train[b]+train[c]+train[d]-train[e]-train[f]-train[g]*train[h]*train[i]/train[j]\n",
        "    df['computed_64'] =train[a]+train[b]+train[c]+train[d]-train[e]-train[f]-train[g]*train[h]/train[i]/train[j]\n",
        "    df['computed_65'] =train[a]+train[b]+train[c]+train[d]-train[e]-train[f]-train[g]/train[h]/train[i]/train[j]\n",
        "    df['computed_66'] =train[a]+train[b]+train[c]+train[d]-train[e]-train[f]*train[g]*train[h]*train[i]*train[j]\n",
        "    df['computed_67'] =train[a]+train[b]+train[c]+train[d]-train[e]-train[f]*train[g]*train[h]*train[i]/train[j]\n",
        "    df['computed_68'] =train[a]+train[b]+train[c]+train[d]-train[e]-train[f]*train[g]*train[h]/train[i]/train[j]\n",
        "    df['computed_69'] =train[a]+train[b]+train[c]+train[d]-train[e]-train[f]*train[g]/train[h]/train[i]/train[j]\n",
        "    df['computed_70'] =train[a]+train[b]+train[c]+train[d]-train[e]-train[f]/train[g]/train[h]/train[i]/train[j]\n",
        "    df['computed_71'] =train[a]+train[b]+train[c]+train[d]-train[e]*train[f]*train[g]*train[h]*train[i]*train[j]\n",
        "    df['computed_72'] =train[a]+train[b]+train[c]+train[d]-train[e]*train[f]*train[g]*train[h]*train[i]/train[j]\n",
        "    df['computed_73'] =train[a]+train[b]+train[c]+train[d]-train[e]*train[f]*train[g]*train[h]/train[i]/train[j]\n",
        "    df['computed_74'] =train[a]+train[b]+train[c]+train[d]-train[e]*train[f]*train[g]/train[h]/train[i]/train[j]\n",
        "    df['computed_75'] =train[a]+train[b]+train[c]+train[d]-train[e]*train[f]/train[g]/train[h]/train[i]/train[j]\n",
        "    df['computed_76'] =train[a]+train[b]+train[c]+train[d]-train[e]/train[f]/train[g]/train[h]/train[i]/train[j]\n",
        "    df['computed_77'] =train[a]+train[b]+train[c]+train[d]*train[e]*train[f]*train[g]*train[h]*train[i]*train[j]\n",
        "    df['computed_78'] =train[a]+train[b]+train[c]+train[d]*train[e]*train[f]*train[g]*train[h]*train[i]/train[j]\n",
        "    df['computed_79'] =train[a]+train[b]+train[c]+train[d]*train[e]*train[f]*train[g]*train[h]/train[i]/train[j]\n",
        "    df['computed_80'] =train[a]+train[b]+train[c]+train[d]*train[e]*train[f]*train[g]/train[h]/train[i]/train[j]\n",
        "    df['computed_81'] =train[a]+train[b]+train[c]+train[d]*train[e]*train[f]/train[g]/train[h]/train[i]/train[j]\n",
        "    df['computed_82'] =train[a]+train[b]+train[c]+train[d]*train[e]/train[f]/train[g]/train[h]/train[i]/train[j]\n",
        "    df['computed_83'] =train[a]+train[b]+train[c]+train[d]/train[e]/train[f]/train[g]/train[h]/train[i]/train[j]\n",
        "    df['computed_84'] =train[a]+train[b]+train[c]-train[d]-train[e]-train[f]-train[g]-train[h]-train[i]-train[j]\n",
        "    df['computed_85'] =train[a]+train[b]+train[c]-train[d]-train[e]-train[f]-train[g]-train[h]-train[i]*train[j]\n",
        "    df['computed_86'] =train[a]+train[b]+train[c]-train[d]-train[e]-train[f]-train[g]-train[h]-train[i]/train[j]\n",
        "    df['computed_87'] =train[a]+train[b]+train[c]-train[d]-train[e]-train[f]-train[g]-train[h]*train[i]*train[j]\n",
        "    df['computed_88'] =train[a]+train[b]+train[c]-train[d]-train[e]-train[f]-train[g]-train[h]*train[i]/train[j]\n",
        "    df['computed_89'] =train[a]+train[b]+train[c]-train[d]-train[e]-train[f]-train[g]-train[h]/train[i]/train[j]\n",
        "    df['computed_90'] =train[a]+train[b]+train[c]-train[d]-train[e]-train[f]-train[g]*train[h]*train[i]*train[j]\n",
        "    df['computed_91'] =train[a]+train[b]+train[c]-train[d]-train[e]-train[f]-train[g]*train[h]*train[i]/train[j]\n",
        "    df['computed_92'] =train[a]+train[b]+train[c]-train[d]-train[e]-train[f]-train[g]*train[h]/train[i]/train[j]\n",
        "    df['computed_93'] =train[a]+train[b]+train[c]-train[d]-train[e]-train[f]-train[g]/train[h]/train[i]/train[j]\n",
        "    df['computed_94'] =train[a]+train[b]+train[c]-train[d]-train[e]-train[f]*train[g]*train[h]*train[i]*train[j]\n",
        "    df['computed_95'] =train[a]+train[b]+train[c]-train[d]-train[e]-train[f]*train[g]*train[h]*train[i]/train[j]\n",
        "    df['computed_96'] =train[a]+train[b]+train[c]-train[d]-train[e]-train[f]*train[g]*train[h]/train[i]/train[j]\n",
        "    df['computed_97'] =train[a]+train[b]+train[c]-train[d]-train[e]-train[f]*train[g]/train[h]/train[i]/train[j]\n",
        "    df['computed_98'] =train[a]+train[b]+train[c]-train[d]-train[e]-train[f]/train[g]/train[h]/train[i]/train[j]\n",
        "    df['computed_99'] =train[a]+train[b]+train[c]-train[d]-train[e]*train[f]*train[g]*train[h]*train[i]*train[j]\n",
        "    df['computed_100'] =train[a]+train[b]+train[c]-train[d]-train[e]*train[f]*train[g]*train[h]*train[i]/train[j]\n",
        "    df['computed_101'] =train[a]+train[b]+train[c]-train[d]-train[e]*train[f]*train[g]*train[h]/train[i]/train[j]\n",
        "    df['computed_102'] =train[a]+train[b]+train[c]-train[d]-train[e]*train[f]*train[g]/train[h]/train[i]/train[j]\n",
        "    df['computed_103'] =train[a]+train[b]+train[c]-train[d]-train[e]*train[f]/train[g]/train[h]/train[i]/train[j]\n",
        "    df['computed_104'] =train[a]+train[b]+train[c]-train[d]-train[e]/train[f]/train[g]/train[h]/train[i]/train[j]\n",
        "    df['computed_105'] =train[a]+train[b]+train[c]-train[d]*train[e]*train[f]*train[g]*train[h]*train[i]*train[j]\n",
        "    df['computed_106'] =train[a]+train[b]+train[c]-train[d]*train[e]*train[f]*train[g]*train[h]*train[i]/train[j]\n",
        "    df['computed_107'] =train[a]+train[b]+train[c]-train[d]*train[e]*train[f]*train[g]*train[h]/train[i]/train[j]\n",
        "    df['computed_108'] =train[a]+train[b]+train[c]-train[d]*train[e]*train[f]*train[g]/train[h]/train[i]/train[j]\n",
        "    df['computed_109'] =train[a]+train[b]+train[c]-train[d]*train[e]*train[f]/train[g]/train[h]/train[i]/train[j]\n",
        "    df['computed_110'] =train[a]+train[b]+train[c]-train[d]*train[e]/train[f]/train[g]/train[h]/train[i]/train[j]\n",
        "    df['computed_111'] =train[a]+train[b]+train[c]-train[d]/train[e]/train[f]/train[g]/train[h]/train[i]/train[j]\n",
        "    df['computed_112'] =train[a]+train[b]+train[c]*train[d]*train[e]*train[f]*train[g]*train[h]*train[i]*train[j]\n",
        "    df['computed_113'] =train[a]+train[b]+train[c]*train[d]*train[e]*train[f]*train[g]*train[h]*train[i]/train[j]\n",
        "    df['computed_114'] =train[a]+train[b]+train[c]*train[d]*train[e]*train[f]*train[g]*train[h]/train[i]/train[j]\n",
        "    df['computed_115'] =train[a]+train[b]+train[c]*train[d]*train[e]*train[f]*train[g]/train[h]/train[i]/train[j]\n",
        "    df['computed_116'] =train[a]+train[b]+train[c]*train[d]*train[e]*train[f]/train[g]/train[h]/train[i]/train[j]\n",
        "    df['computed_117'] =train[a]+train[b]+train[c]*train[d]*train[e]/train[f]/train[g]/train[h]/train[i]/train[j]\n",
        "    df['computed_118'] =train[a]+train[b]+train[c]*train[d]/train[e]/train[f]/train[g]/train[h]/train[i]/train[j]\n",
        "    df['computed_119'] =train[a]+train[b]+train[c]/train[d]/train[e]/train[f]/train[g]/train[h]/train[i]/train[j]\n",
        "    df['computed_120'] =train[a]+train[b]-train[c]-train[d]-train[e]-train[f]-train[g]-train[h]-train[i]-train[j]\n",
        "    df['computed_121'] =train[a]+train[b]-train[c]-train[d]-train[e]-train[f]-train[g]-train[h]-train[i]*train[j]\n",
        "    df['computed_122'] =train[a]+train[b]-train[c]-train[d]-train[e]-train[f]-train[g]-train[h]-train[i]/train[j]\n",
        "    df['computed_123'] =train[a]+train[b]-train[c]-train[d]-train[e]-train[f]-train[g]-train[h]*train[i]*train[j]\n",
        "    df['computed_124'] =train[a]+train[b]-train[c]-train[d]-train[e]-train[f]-train[g]-train[h]*train[i]/train[j]\n",
        "    df['computed_125'] =train[a]+train[b]-train[c]-train[d]-train[e]-train[f]-train[g]-train[h]/train[i]/train[j]\n",
        "    df['computed_126'] =train[a]+train[b]-train[c]-train[d]-train[e]-train[f]-train[g]*train[h]*train[i]*train[j]\n",
        "    df['computed_127'] =train[a]+train[b]-train[c]-train[d]-train[e]-train[f]-train[g]*train[h]*train[i]/train[j]\n",
        "    df['computed_128'] =train[a]+train[b]-train[c]-train[d]-train[e]-train[f]-train[g]*train[h]/train[i]/train[j]\n",
        "    df['computed_129'] =train[a]+train[b]-train[c]-train[d]-train[e]-train[f]-train[g]/train[h]/train[i]/train[j]\n",
        "    df['computed_130'] =train[a]+train[b]-train[c]-train[d]-train[e]-train[f]*train[g]*train[h]*train[i]*train[j]\n",
        "    df['computed_131'] =train[a]+train[b]-train[c]-train[d]-train[e]-train[f]*train[g]*train[h]*train[i]/train[j]\n",
        "    df['computed_132'] =train[a]+train[b]-train[c]-train[d]-train[e]-train[f]*train[g]*train[h]/train[i]/train[j]\n",
        "    df['computed_133'] =train[a]+train[b]-train[c]-train[d]-train[e]-train[f]*train[g]/train[h]/train[i]/train[j]\n",
        "    df['computed_134'] =train[a]+train[b]-train[c]-train[d]-train[e]-train[f]/train[g]/train[h]/train[i]/train[j]\n",
        "    df['computed_135'] =train[a]+train[b]-train[c]-train[d]-train[e]*train[f]*train[g]*train[h]*train[i]*train[j]\n",
        "    df['computed_136'] =train[a]+train[b]-train[c]-train[d]-train[e]*train[f]*train[g]*train[h]*train[i]/train[j]\n",
        "    df['computed_137'] =train[a]+train[b]-train[c]-train[d]-train[e]*train[f]*train[g]*train[h]/train[i]/train[j]\n",
        "    df['computed_138'] =train[a]+train[b]-train[c]-train[d]-train[e]*train[f]*train[g]/train[h]/train[i]/train[j]\n",
        "    df['computed_139'] =train[a]+train[b]-train[c]-train[d]-train[e]*train[f]/train[g]/train[h]/train[i]/train[j]\n",
        "    df['computed_140'] =train[a]+train[b]-train[c]-train[d]-train[e]/train[f]/train[g]/train[h]/train[i]/train[j]\n",
        "    df['computed_141'] =train[a]+train[b]-train[c]-train[d]*train[e]*train[f]*train[g]*train[h]*train[i]*train[j]\n",
        "    df['computed_142'] =train[a]+train[b]-train[c]-train[d]*train[e]*train[f]*train[g]*train[h]*train[i]/train[j]\n",
        "    df['computed_143'] =train[a]+train[b]-train[c]-train[d]*train[e]*train[f]*train[g]*train[h]/train[i]/train[j]\n",
        "    df['computed_144'] =train[a]+train[b]-train[c]-train[d]*train[e]*train[f]*train[g]/train[h]/train[i]/train[j]\n",
        "    df['computed_145'] =train[a]+train[b]-train[c]-train[d]*train[e]*train[f]/train[g]/train[h]/train[i]/train[j]\n",
        "    df['computed_146'] =train[a]+train[b]-train[c]-train[d]*train[e]/train[f]/train[g]/train[h]/train[i]/train[j]\n",
        "    df['computed_147'] =train[a]+train[b]-train[c]-train[d]/train[e]/train[f]/train[g]/train[h]/train[i]/train[j]\n",
        "    df['computed_148'] =train[a]+train[b]-train[c]*train[d]*train[e]*train[f]*train[g]*train[h]*train[i]*train[j]\n",
        "    df['computed_149'] =train[a]+train[b]-train[c]*train[d]*train[e]*train[f]*train[g]*train[h]*train[i]/train[j]\n",
        "    df['computed_150'] =train[a]+train[b]-train[c]*train[d]*train[e]*train[f]*train[g]*train[h]/train[i]/train[j]\n",
        "    df['computed_151'] =train[a]+train[b]-train[c]*train[d]*train[e]*train[f]*train[g]/train[h]/train[i]/train[j]\n",
        "    df['computed_152'] =train[a]+train[b]-train[c]*train[d]*train[e]*train[f]/train[g]/train[h]/train[i]/train[j]\n",
        "    df['computed_153'] =train[a]+train[b]-train[c]*train[d]*train[e]/train[f]/train[g]/train[h]/train[i]/train[j]\n",
        "    df['computed_154'] =train[a]+train[b]-train[c]*train[d]/train[e]/train[f]/train[g]/train[h]/train[i]/train[j]\n",
        "    df['computed_155'] =train[a]+train[b]-train[c]/train[d]/train[e]/train[f]/train[g]/train[h]/train[i]/train[j]\n",
        "    df['computed_156'] =train[a]+train[b]*train[c]*train[d]*train[e]*train[f]*train[g]*train[h]*train[i]*train[j]\n",
        "    df['computed_157'] =train[a]+train[b]*train[c]*train[d]*train[e]*train[f]*train[g]*train[h]*train[i]/train[j]\n",
        "    df['computed_158'] =train[a]+train[b]*train[c]*train[d]*train[e]*train[f]*train[g]*train[h]/train[i]/train[j]\n",
        "    df['computed_159'] =train[a]+train[b]*train[c]*train[d]*train[e]*train[f]*train[g]/train[h]/train[i]/train[j]\n",
        "    df['computed_160'] =train[a]+train[b]*train[c]*train[d]*train[e]*train[f]/train[g]/train[h]/train[i]/train[j]\n",
        "    df['computed_161'] =train[a]+train[b]*train[c]*train[d]*train[e]/train[f]/train[g]/train[h]/train[i]/train[j]\n",
        "    df['computed_162'] =train[a]+train[b]*train[c]*train[d]/train[e]/train[f]/train[g]/train[h]/train[i]/train[j]\n",
        "    df['computed_163'] =train[a]+train[b]*train[c]/train[d]/train[e]/train[f]/train[g]/train[h]/train[i]/train[j]\n",
        "    df['computed_164'] =train[a]+train[b]/train[c]/train[d]/train[e]/train[f]/train[g]/train[h]/train[i]/train[j]\n",
        "    df['computed_165'] =train[a]-train[b]-train[c]-train[d]-train[e]-train[f]-train[g]-train[h]-train[i]-train[j]\n",
        "    df['computed_166'] =train[a]-train[b]-train[c]-train[d]-train[e]-train[f]-train[g]-train[h]-train[i]*train[j]\n",
        "    df['computed_167'] =train[a]-train[b]-train[c]-train[d]-train[e]-train[f]-train[g]-train[h]-train[i]/train[j]\n",
        "    df['computed_168'] =train[a]-train[b]-train[c]-train[d]-train[e]-train[f]-train[g]-train[h]*train[i]*train[j]\n",
        "    df['computed_169'] =train[a]-train[b]-train[c]-train[d]-train[e]-train[f]-train[g]-train[h]*train[i]/train[j]\n",
        "    df['computed_170'] =train[a]-train[b]-train[c]-train[d]-train[e]-train[f]-train[g]-train[h]/train[i]/train[j]\n",
        "    df['computed_171'] =train[a]-train[b]-train[c]-train[d]-train[e]-train[f]-train[g]*train[h]*train[i]*train[j]\n",
        "    df['computed_172'] =train[a]-train[b]-train[c]-train[d]-train[e]-train[f]-train[g]*train[h]*train[i]/train[j]\n",
        "    df['computed_173'] =train[a]-train[b]-train[c]-train[d]-train[e]-train[f]-train[g]*train[h]/train[i]/train[j]\n",
        "    df['computed_174'] =train[a]-train[b]-train[c]-train[d]-train[e]-train[f]-train[g]/train[h]/train[i]/train[j]\n",
        "    df['computed_175'] =train[a]-train[b]-train[c]-train[d]-train[e]-train[f]*train[g]*train[h]*train[i]*train[j]\n",
        "    df['computed_176'] =train[a]-train[b]-train[c]-train[d]-train[e]-train[f]*train[g]*train[h]*train[i]/train[j]\n",
        "    df['computed_177'] =train[a]-train[b]-train[c]-train[d]-train[e]-train[f]*train[g]*train[h]/train[i]/train[j]\n",
        "    df['computed_178'] =train[a]-train[b]-train[c]-train[d]-train[e]-train[f]*train[g]/train[h]/train[i]/train[j]\n",
        "    df['computed_179'] =train[a]-train[b]-train[c]-train[d]-train[e]-train[f]/train[g]/train[h]/train[i]/train[j]\n",
        "    df['computed_180'] =train[a]-train[b]-train[c]-train[d]-train[e]*train[f]*train[g]*train[h]*train[i]*train[j]\n",
        "    df['computed_181'] =train[a]-train[b]-train[c]-train[d]-train[e]*train[f]*train[g]*train[h]*train[i]/train[j]\n",
        "    df['computed_182'] =train[a]-train[b]-train[c]-train[d]-train[e]*train[f]*train[g]*train[h]/train[i]/train[j]\n",
        "    df['computed_183'] =train[a]-train[b]-train[c]-train[d]-train[e]*train[f]*train[g]/train[h]/train[i]/train[j]\n",
        "    df['computed_184'] =train[a]-train[b]-train[c]-train[d]-train[e]*train[f]/train[g]/train[h]/train[i]/train[j]\n",
        "    df['computed_185'] =train[a]-train[b]-train[c]-train[d]-train[e]/train[f]/train[g]/train[h]/train[i]/train[j]\n",
        "    df['computed_186'] =train[a]-train[b]-train[c]-train[d]*train[e]*train[f]*train[g]*train[h]*train[i]*train[j]\n",
        "    df['computed_187'] =train[a]-train[b]-train[c]-train[d]*train[e]*train[f]*train[g]*train[h]*train[i]/train[j]\n",
        "    df['computed_188'] =train[a]-train[b]-train[c]-train[d]*train[e]*train[f]*train[g]*train[h]/train[i]/train[j]\n",
        "    df['computed_189'] =train[a]-train[b]-train[c]-train[d]*train[e]*train[f]*train[g]/train[h]/train[i]/train[j]\n",
        "    df['computed_190'] =train[a]-train[b]-train[c]-train[d]*train[e]*train[f]/train[g]/train[h]/train[i]/train[j]\n",
        "    df['computed_191'] =train[a]-train[b]-train[c]-train[d]*train[e]/train[f]/train[g]/train[h]/train[i]/train[j]\n",
        "    df['computed_192'] =train[a]-train[b]-train[c]-train[d]/train[e]/train[f]/train[g]/train[h]/train[i]/train[j]\n",
        "    df['computed_193'] =train[a]-train[b]-train[c]*train[d]*train[e]*train[f]*train[g]*train[h]*train[i]*train[j]\n",
        "    df['computed_194'] =train[a]-train[b]-train[c]*train[d]*train[e]*train[f]*train[g]*train[h]*train[i]/train[j]\n",
        "    df['computed_195'] =train[a]-train[b]-train[c]*train[d]*train[e]*train[f]*train[g]*train[h]/train[i]/train[j]\n",
        "    df['computed_196'] =train[a]-train[b]-train[c]*train[d]*train[e]*train[f]*train[g]/train[h]/train[i]/train[j]\n",
        "    df['computed_197'] =train[a]-train[b]-train[c]*train[d]*train[e]*train[f]/train[g]/train[h]/train[i]/train[j]\n",
        "    df['computed_198'] =train[a]-train[b]-train[c]*train[d]*train[e]/train[f]/train[g]/train[h]/train[i]/train[j]\n",
        "    df['computed_199'] =train[a]-train[b]-train[c]*train[d]/train[e]/train[f]/train[g]/train[h]/train[i]/train[j]\n",
        "    df['computed_200'] =train[a]-train[b]-train[c]/train[d]/train[e]/train[f]/train[g]/train[h]/train[i]/train[j]\n",
        "    df['computed_201'] =train[a]-train[b]*train[c]*train[d]*train[e]*train[f]*train[g]*train[h]*train[i]*train[j]\n",
        "    df['computed_202'] =train[a]-train[b]*train[c]*train[d]*train[e]*train[f]*train[g]*train[h]*train[i]/train[j]\n",
        "    df['computed_203'] =train[a]-train[b]*train[c]*train[d]*train[e]*train[f]*train[g]*train[h]/train[i]/train[j]\n",
        "    df['computed_204'] =train[a]-train[b]*train[c]*train[d]*train[e]*train[f]*train[g]/train[h]/train[i]/train[j]\n",
        "    df['computed_205'] =train[a]-train[b]*train[c]*train[d]*train[e]*train[f]/train[g]/train[h]/train[i]/train[j]\n",
        "    df['computed_206'] =train[a]-train[b]*train[c]*train[d]*train[e]/train[f]/train[g]/train[h]/train[i]/train[j]\n",
        "    df['computed_207'] =train[a]-train[b]*train[c]*train[d]/train[e]/train[f]/train[g]/train[h]/train[i]/train[j]\n",
        "    df['computed_208'] =train[a]-train[b]*train[c]/train[d]/train[e]/train[f]/train[g]/train[h]/train[i]/train[j]\n",
        "    df['computed_209'] =train[a]-train[b]/train[c]/train[d]/train[e]/train[f]/train[g]/train[h]/train[i]/train[j]\n",
        "    df['computed_210'] =train[a]*train[b]*train[c]*train[d]*train[e]*train[f]*train[g]*train[h]*train[i]*train[j]\n",
        "    df['computed_211'] =train[a]*train[b]*train[c]*train[d]*train[e]*train[f]*train[g]*train[h]*train[i]/train[j]\n",
        "    df['computed_212'] =train[a]*train[b]*train[c]*train[d]*train[e]*train[f]*train[g]*train[h]/train[i]/train[j]\n",
        "    df['computed_213'] =train[a]*train[b]*train[c]*train[d]*train[e]*train[f]*train[g]/train[h]/train[i]/train[j]\n",
        "    df['computed_214'] =train[a]*train[b]*train[c]*train[d]*train[e]*train[f]/train[g]/train[h]/train[i]/train[j]\n",
        "    df['computed_215'] =train[a]*train[b]*train[c]*train[d]*train[e]/train[f]/train[g]/train[h]/train[i]/train[j]\n",
        "    df['computed_216'] =train[a]*train[b]*train[c]*train[d]/train[e]/train[f]/train[g]/train[h]/train[i]/train[j]\n",
        "    df['computed_217'] =train[a]*train[b]*train[c]/train[d]/train[e]/train[f]/train[g]/train[h]/train[i]/train[j]\n",
        "    df['computed_218'] =train[a]*train[b]/train[c]/train[d]/train[e]/train[f]/train[g]/train[h]/train[i]/train[j]\n",
        "    df['computed_219'] =train[a]/train[b]/train[c]/train[d]/train[e]/train[f]/train[g]/train[h]/train[i]/train[j]\n",
        "    \n",
        "    for i in df.corrwith(train['resp']).values:\n",
        "        score.append(i)\n",
        "    count += 1\n",
        "    print(count, \"done out of \", len(ten_combinations) )\n",
        "    if count % 10 ==0:\n",
        "        output.clear()"
      ],
      "execution_count": null,
      "outputs": [
        {
          "output_type": "stream",
          "text": [
            "1 done out of  3003\n",
            "2 done out of  3003\n",
            "3 done out of  3003\n",
            "4 done out of  3003\n",
            "5 done out of  3003\n"
          ],
          "name": "stdout"
        }
      ]
    },
    {
      "cell_type": "code",
      "metadata": {
        "id": "AxFk_EZcZH5H"
      },
      "source": [
        ""
      ],
      "execution_count": null,
      "outputs": []
    }
  ]
}